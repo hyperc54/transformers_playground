{
 "cells": [
  {
   "cell_type": "markdown",
   "id": "e1b5b20f-7cf8-4123-808c-7213924feaff",
   "metadata": {},
   "source": [
    "# Intro\n",
    "This notebook builds a simple dataset which will be a base for our RAG system.\n",
    "The dataset will be composed of random wikipedia pages. It makes a good corpus to practice building\n",
    "RAGs for a common usecase: internal documentation question answering. There are of course a few differences, including\n",
    "scale (depending on the company) and lack of specialised lingo and concepts which are often out of\n",
    "the LLMs training distribution (Wikipedia is actually in pre-training corpus of many LLMs).\n",
    "\n",
    "Some chunking methods implemented can also be found in popular libraries (eg: LangChain). We are rewriting them for fun here."
   ]
  },
  {
   "cell_type": "code",
   "execution_count": 1,
   "id": "54ed33b7-dfcb-496b-b45b-4b88c1c598a9",
   "metadata": {},
   "outputs": [],
   "source": [
    "import os\n",
    "import re\n",
    "from typing import Callable, Iterable, Dict, Any\n",
    "from tqdm import tqdm\n",
    "\n",
    "import numpy as np\n",
    "from datasets import Dataset, load_dataset, load_from_disk\n",
    "from huggingface_hub import InferenceClient\n",
    "\n",
    "LOCAL_DATASET_FOLDER = \"local_datasets\""
   ]
  },
  {
   "cell_type": "code",
   "execution_count": 2,
   "id": "cce7a24f-d2bb-42d7-9d5d-0048933556be",
   "metadata": {},
   "outputs": [
    {
     "data": {
      "application/vnd.jupyter.widget-view+json": {
       "model_id": "60f0bfd9b51a47b2a19f85f1c5e51320",
       "version_major": 2,
       "version_minor": 0
      },
      "text/plain": [
       "Downloading builder script:   0%|          | 0.00/36.7k [00:00<?, ?B/s]"
      ]
     },
     "metadata": {},
     "output_type": "display_data"
    },
    {
     "data": {
      "application/vnd.jupyter.widget-view+json": {
       "model_id": "a5cef5b4a48741419aae90a2f94f9ba9",
       "version_major": 2,
       "version_minor": 0
      },
      "text/plain": [
       "Downloading readme:   0%|          | 0.00/16.0k [00:00<?, ?B/s]"
      ]
     },
     "metadata": {},
     "output_type": "display_data"
    }
   ],
   "source": [
    "# Saves some time to avoid fetching and parsing pages on your own\n",
    "# by loading a HF dataset of wikipedia pages\n",
    "wiki_data = load_dataset(\"wikipedia\", \"20220301.simple\")[\"train\"]"
   ]
  },
  {
   "cell_type": "code",
   "execution_count": 3,
   "id": "ef683157-c153-41e3-ae23-396928456a0c",
   "metadata": {},
   "outputs": [
    {
     "data": {
      "text/plain": [
       "Dataset({\n",
       "    features: ['id', 'url', 'title', 'text'],\n",
       "    num_rows: 205328\n",
       "})"
      ]
     },
     "execution_count": 3,
     "metadata": {},
     "output_type": "execute_result"
    }
   ],
   "source": [
    "wiki_data"
   ]
  },
  {
   "cell_type": "code",
   "execution_count": 4,
   "id": "75e8ecd8-8d07-4fec-9fb8-89b1a052303c",
   "metadata": {},
   "outputs": [
    {
     "data": {
      "text/plain": [
       "{'id': '1',\n",
       " 'url': 'https://simple.wikipedia.org/wiki/April',\n",
       " 'title': 'April',\n",
       " 'text': 'April is the fourth month of the year in the Julian and Gregorian calendars, and comes between March and May. It is one of four months to have 30 days.\\n\\nApril always begins on the same day of week as ...'}"
      ]
     },
     "execution_count": 4,
     "metadata": {},
     "output_type": "execute_result"
    }
   ],
   "source": [
    "# Have a look at one element\n",
    "first_el = wiki_data[0].copy() # for safe edits\n",
    "first_el[\"text\"] = first_el[\"text\"][:200] + \"...\" # for easier readability\n",
    "first_el"
   ]
  },
  {
   "cell_type": "markdown",
   "id": "e9a598a3-42a3-4059-b6a8-6ab92670be0f",
   "metadata": {},
   "source": [
    "We are pretty close to the dataset format we need for indexing. The main blocker is that the text field is too long for the limited context size of some embedding models we'd like to use (eg: BERT uses a context of ~512 token which is about ~512 words). We could also use\n",
    "larger models with larger context sizes, but research also suggest that models tend to lose track of some information in large context sizes: https://huggingface.co/papers/2307.03172.\n",
    "\n",
    "As a result, it seems favorable to keep using a relatively small context size -> We'll need to chunk our text examples. The rest of the notebook plays with different methods to do it."
   ]
  },
  {
   "cell_type": "code",
   "execution_count": 5,
   "id": "0aea6419-d38a-4211-8797-9cc4034bf50b",
   "metadata": {},
   "outputs": [],
   "source": [
    "# Define utils to apply a chunking method to the dataset per batch\n",
    "# We'll define different chunking methods to use after this\n",
    "def get_chunk_from_batch(\n",
    "    examples_batch: Iterable,\n",
    "    chunk_text_method: Callable,\n",
    "    **chunk_text_method_kwargs: Dict[str, int]\n",
    ") -> Dict[str, Iterable[Any]]:\n",
    "    \"\"\"\n",
    "    Apply 'chunk_text_method' to the examples_batch and returns\n",
    "    a dictionnary in the formatexpected by the Dataset.map method (Dict[str, Iterable[Features values]])\n",
    "    \"\"\"\n",
    "    example_ids = []\n",
    "    example_urls = []\n",
    "    example_titles = []\n",
    "    chunks = []\n",
    "    for ind, example_text in enumerate(examples_batch[\"text\"]):\n",
    "        for chunk in chunk_text_method(example_text, **chunk_text_method_kwargs):\n",
    "            example_ids.append(examples_batch[\"id\"][ind])\n",
    "            example_titles.append(examples_batch[\"title\"][ind])\n",
    "            example_urls.append(examples_batch[\"url\"][ind])\n",
    "            chunks.append(chunk)\n",
    "    return {\n",
    "        \"id\": list(range(len(chunks))),\n",
    "        \"original_id\": example_ids,\n",
    "        \"title\": example_titles,\n",
    "        \"url\": example_urls,\n",
    "        \"text_chunk\": chunks\n",
    "    }"
   ]
  },
  {
   "cell_type": "markdown",
   "id": "ff15ff0b-912c-4909-a7a4-25bc191c2580",
   "metadata": {},
   "source": [
    "# Chunking strategies\n",
    "\n",
    "## (Dummy) Fixed-length chunking (with some overlap)\n"
   ]
  },
  {
   "cell_type": "code",
   "execution_count": 6,
   "id": "a5b77410-1a31-4d8b-9412-44da5c3ccb7a",
   "metadata": {},
   "outputs": [],
   "source": [
    "CHUNK_SIZE_WORDS = 300\n",
    "OVERLAP_SIZE_WORDS = 10\n",
    "\n",
    "# Alternative to using LangChain methods\n",
    "# We do it indepedently of any tokeniser to make it generic (using words as a unit), at the risk\n",
    "# of having issues with model context size later on if the number of tokens in the chunk is too high\n",
    "def chunk_text_with_fixed_length(\n",
    "    text: str,\n",
    "    chunk_size_words: int = CHUNK_SIZE_WORDS,\n",
    "    overlap_size_words: int = OVERLAP_SIZE_WORDS\n",
    ") -> Iterable[str]:\n",
    "    text_no_new_lines = text.replace(\"\\n\", \" \")\n",
    "    text_split = text_no_new_lines.split(\" \")\n",
    "\n",
    "    total_words = len(text_split)\n",
    "    # iterate over words, chunk\n",
    "    word_index = 0\n",
    "    while word_index < total_words:\n",
    "        yield \" \".join(text_split[word_index:word_index+chunk_size_words])\n",
    "        word_index += chunk_size_words - overlap_size_words"
   ]
  },
  {
   "cell_type": "code",
   "execution_count": 7,
   "id": "14e22f2f-1365-41f5-b2b7-491fe7562900",
   "metadata": {},
   "outputs": [
    {
     "data": {
      "application/vnd.jupyter.widget-view+json": {
       "model_id": "a9980a242bbe40c5a7fc883d5996e96d",
       "version_major": 2,
       "version_minor": 0
      },
      "text/plain": [
       "Map:   0%|          | 0/205328 [00:00<?, ? examples/s]"
      ]
     },
     "metadata": {},
     "output_type": "display_data"
    }
   ],
   "source": [
    "wiki_data_chunked = wiki_data.map(\n",
    "    lambda example_batch: get_chunk_from_batch(example_batch, chunk_text_with_fixed_length),\n",
    "    batched=True,\n",
    "    remove_columns=[\"id\", \"title\", \"text\", \"url\"] # Removes columns because of row expansion\n",
    ")"
   ]
  },
  {
   "cell_type": "code",
   "execution_count": 8,
   "id": "75c1952d-305f-41e5-8ff4-9264afb0b9c7",
   "metadata": {},
   "outputs": [
    {
     "data": {
      "text/plain": [
       "{'id': [0, 1],\n",
       " 'url': ['https://simple.wikipedia.org/wiki/April',\n",
       "  'https://simple.wikipedia.org/wiki/April'],\n",
       " 'title': ['April', 'April'],\n",
       " 'original_id': ['1', '1'],\n",
       " 'text_chunk': [\"April is the fourth month of the year in the Julian and Gregorian calendars, and comes between March and May. It is one of four months to have 30 days.  April always begins on the same day of week as July, and additionally, January in leap years. April always ends on the same day of the week as December.  April's flowers are the Sweet Pea and Daisy. Its birthstone is the diamond. The meaning of the diamond is innocence.  The Month   April comes between March and May, making it the fourth month of the year. It also comes first in the year out of the four months that have 30 days, as June, September and November are later in the year.  April begins on the same day of the week as July every year and on the same day of the week as January in leap years. April ends on the same day of the week as December every year, as each other's last days are exactly 35 weeks (245 days) apart.  In common years, April starts on the same day of the week as October of the previous year, and in leap years, May of the previous year. In common years, April finishes on the same day of the week as July of the previous year, and in leap years, February and October of the previous year. In common years immediately after other common years, April starts on the same day of the week as January of the previous year, and in leap years and years immediately after that, April finishes on the same day of the week as January of the previous year.  In years immediately before common years, April starts on the same day of the week as September\",\n",
       "  'starts on the same day of the week as September and December of the following year, and in years immediately before leap years, June of the following year. In years immediately before common years, April finishes on the same day of the week as September of the following year, and in years immediately before leap years, March and June of the following year.  April is a spring month in the Northern Hemisphere and an autumn/fall month in the Southern Hemisphere. In each hemisphere, it is the seasonal equivalent of October in the other.  It is unclear as to where April got its name. A common theory is that it comes from the Latin word \"aperire\", meaning \"to open\", referring to flowers opening in spring. Another theory is that the name could come from Aphrodite, the Greek goddess of love. It was originally the second month in the old Roman Calendar, before the start of the new year was put to January 1.  Quite a few festivals are held in this month. In many Southeast Asian cultures, new year is celebrated in this month (including Songkran). In Western Christianity, Easter can be celebrated on a Sunday between March 22 and April 25. In Orthodox Christianity, it can fall between April 4 and May 8. At the end of the month, Central and Northern European cultures celebrate Walpurgis Night on April 30, marking the transition from winter into summer.  April in poetry  Poets use April to mean the end of winter. For example: April showers bring May flowers.  Events in April  Fixed Events    April 1 - April Fools\\' Day  April 1 - Islamic Republic Day (Iran)  April 2 - International Children\\'s Book Day  April 2 - Thai Heritage and']}"
      ]
     },
     "execution_count": 8,
     "metadata": {},
     "output_type": "execute_result"
    }
   ],
   "source": [
    "wiki_data_chunked[0:2]"
   ]
  },
  {
   "cell_type": "code",
   "execution_count": 9,
   "id": "24789a01-5eba-44b6-8edb-d62f675287df",
   "metadata": {},
   "outputs": [
    {
     "data": {
      "application/vnd.jupyter.widget-view+json": {
       "model_id": "496d25418d994fe290884099981e0d67",
       "version_major": 2,
       "version_minor": 0
      },
      "text/plain": [
       "Saving the dataset (0/1 shards):   0%|          | 0/263959 [00:00<?, ? examples/s]"
      ]
     },
     "metadata": {},
     "output_type": "display_data"
    }
   ],
   "source": [
    "# Save data back to disk\n",
    "FIXED_LENGTH_CHUNK_DATASET_NAME = f\"wiki-data-chunked-fixed-length-CS{CHUNK_SIZE_WORDS}-OS{OVERLAP_SIZE_WORDS}\"\n",
    "wiki_data_chunked.save_to_disk(\n",
    "    os.path.join(LOCAL_DATASET_FOLDER, FIXED_LENGTH_CHUNK_DATASET_NAME)\n",
    ")"
   ]
  },
  {
   "cell_type": "markdown",
   "id": "8e3bcf6b-e656-4642-9138-cab5cd244b0f",
   "metadata": {},
   "source": [
    "\n",
    "## Paragraph recursive chunking"
   ]
  },
  {
   "cell_type": "code",
   "execution_count": 11,
   "id": "4d2e8d02-dd2a-4a95-a668-7d50aa4ce860",
   "metadata": {},
   "outputs": [],
   "source": [
    "# Parse main sections and try to use those as chunks,\n",
    "# Sections that are too long are split by sub-sections, and the same logic is applied recursively\n",
    "# Parsing sections is done differently depending on the document format. For markdown, we'd split on '#' then '##' etc.\n",
    "# with this corpus, paragraphs and sections are split with '\\n\\n' and it's hard to infer sections titles besides checking the size of the section\n",
    "# We can simply assume that '\\n\\n' represent relatively good semantic breaks, and recursively use those to break sections that are too long in 'half'\n",
    "\n",
    "# Makes the assumption that individual paragraphs are all smaller than section size\n",
    "\n",
    "# Prepend all sections with title and subtitle\n",
    "# cut on titles, looks at section sizes, if too long, cut"
   ]
  },
  {
   "cell_type": "code",
   "execution_count": 12,
   "id": "284d32b7-6e73-43b3-9d53-483b1727a5dc",
   "metadata": {},
   "outputs": [],
   "source": [
    "def chunk_text_recursively_per_section(text: str, max_chunk_size_words: int = CHUNK_SIZE_WORDS) -> Iterable[str]:\n",
    "    SPLIT_STR = \"\\n\\n\"\n",
    "    text_split = text.split(\" \")\n",
    "    if len(text_split) > max_chunk_size_words and SPLIT_STR not in text:\n",
    "        # We can't split the text further and it's too big, resolve to dummy chunking strategy\n",
    "        return list(chunk_text_with_fixed_length(text, max_chunk_size_words, OVERLAP_SIZE_WORDS))\n",
    "    elif len(text_split) <= max_chunk_size_words:\n",
    "        return [text]\n",
    "    else:\n",
    "        # There's at least one split candidate in the text, pick the best one\n",
    "        # (=the one that looks to be the closest to the middle)\n",
    "        text_len = len(text)\n",
    "        all_potential_splits = [m.start() for m in re.finditer(SPLIT_STR, text)]\n",
    "        all_potential_splits_distances_to_half = [abs(split_ind - text_len//2) for split_ind in all_potential_splits]\n",
    "        best_split_ind = all_potential_splits[all_potential_splits_distances_to_half.index(min(all_potential_splits_distances_to_half))]\n",
    "\n",
    "        return chunk_text_recursively_per_section(text[0:best_split_ind], max_chunk_size_words) + chunk_text_recursively_per_section(text[(best_split_ind+len(SPLIT_STR)):], max_chunk_size_words)\n",
    "        "
   ]
  },
  {
   "cell_type": "code",
   "execution_count": 13,
   "id": "20aded6d-1392-4335-aa2e-8541b9516c97",
   "metadata": {},
   "outputs": [
    {
     "data": {
      "application/vnd.jupyter.widget-view+json": {
       "model_id": "fcafb14371024fb8b205790440c25106",
       "version_major": 2,
       "version_minor": 0
      },
      "text/plain": [
       "Map:   0%|          | 0/205328 [00:00<?, ? examples/s]"
      ]
     },
     "metadata": {},
     "output_type": "display_data"
    }
   ],
   "source": [
    "wiki_data_chunked_recursive = wiki_data.map(\n",
    "    lambda example_batch: get_chunk_from_batch(example_batch, chunk_text_recursively_per_section),\n",
    "    batched=True,\n",
    "    remove_columns=[\"id\", \"title\", \"text\", \"url\"] # Removes columns because of row expansion\n",
    ")"
   ]
  },
  {
   "cell_type": "code",
   "execution_count": 14,
   "id": "36d01f75-73ae-430f-9fac-4af5071b0983",
   "metadata": {},
   "outputs": [
    {
     "data": {
      "text/plain": [
       "{'id': [0, 1],\n",
       " 'url': ['https://simple.wikipedia.org/wiki/April',\n",
       "  'https://simple.wikipedia.org/wiki/April'],\n",
       " 'title': ['April', 'April'],\n",
       " 'original_id': ['1', '1'],\n",
       " 'text_chunk': [\"April is the fourth month of the year in the Julian and Gregorian calendars, and comes between March and May. It is one of four months to have 30 days.  April always begins on the same day of week as July, and additionally, January in leap years. April always ends on the same day of the week as December.  April's flowers are the Sweet Pea and Daisy. Its birthstone is the diamond. The meaning of the diamond is innocence.  The Month   April comes between March and May, making it the fourth month of the year. It also comes first in the year out of the four months that have 30 days, as June, September and November are later in the year.  April begins on the same day of the week as July every year and on the same day of the week as January in leap years. April ends on the same day of the week as December every year, as each other's last days are exactly 35 weeks (245 days) apart.  In common years, April starts on the same day of the week as October of the previous year, and in leap years, May of the previous year. In common years, April finishes on the same day of the week as July of the previous year, and in leap years, February and October of the previous year. In common years immediately after other common years, April starts on the same day of the week as January of the previous year, and in leap years and years immediately after that, April finishes on the same day of the week as January of the previous year.  In years immediately before common years, April starts on the same day of the week as September\",\n",
       "  'starts on the same day of the week as September and December of the following year, and in years immediately before leap years, June of the following year. In years immediately before common years, April finishes on the same day of the week as September of the following year, and in years immediately before leap years, March and June of the following year.  April is a spring month in the Northern Hemisphere and an autumn/fall month in the Southern Hemisphere. In each hemisphere, it is the seasonal equivalent of October in the other.  It is unclear as to where April got its name. A common theory is that it comes from the Latin word \"aperire\", meaning \"to open\", referring to flowers opening in spring. Another theory is that the name could come from Aphrodite, the Greek goddess of love. It was originally the second month in the old Roman Calendar, before the start of the new year was put to January 1.  Quite a few festivals are held in this month. In many Southeast Asian cultures, new year is celebrated in this month (including Songkran). In Western Christianity, Easter can be celebrated on a Sunday between March 22 and April 25. In Orthodox Christianity, it can fall between April 4 and May 8. At the end of the month, Central and Northern European cultures celebrate Walpurgis Night on April 30, marking the transition from winter into summer.  April in poetry  Poets use April to mean the end of winter. For example: April showers bring May flowers.  Events in April  Fixed Events    April 1 - April Fools\\' Day  April 1 - Islamic Republic Day (Iran)  April 2 - International Children\\'s Book Day  April 2 - Thai Heritage and']}"
      ]
     },
     "execution_count": 14,
     "metadata": {},
     "output_type": "execute_result"
    }
   ],
   "source": [
    "wiki_data_chunked[0:2]"
   ]
  },
  {
   "cell_type": "code",
   "execution_count": 15,
   "id": "a1faf7c9-6dd2-44ad-907e-4e890dd887c6",
   "metadata": {},
   "outputs": [
    {
     "data": {
      "application/vnd.jupyter.widget-view+json": {
       "model_id": "9b8f93248f82442baa37239d956e4c5d",
       "version_major": 2,
       "version_minor": 0
      },
      "text/plain": [
       "Saving the dataset (0/1 shards):   0%|          | 0/271938 [00:00<?, ? examples/s]"
      ]
     },
     "metadata": {},
     "output_type": "display_data"
    }
   ],
   "source": [
    "# Save data back to disk\n",
    "RECURSIVE_DATASET_NAME = f\"wiki-data-chunked-recursive-CS{CHUNK_SIZE_WORDS}\"\n",
    "wiki_data_chunked_recursive.save_to_disk(\n",
    "    os.path.join(LOCAL_DATASET_FOLDER, RECURSIVE_DATASET_NAME)\n",
    ")"
   ]
  },
  {
   "cell_type": "markdown",
   "id": "9b65596d-e04d-428b-8f5b-5f5c5ff831cc",
   "metadata": {},
   "source": [
    "## [Optional - can be skipped] Modelling approach\n",
    "\n",
    "If the previous method yields disappointing results, which could happen if the segmentation of sections is harder to work with, we could use a slightly more esoteric approach using a language model to detects interesting splitting points.\n",
    "\n",
    "This could be done in different ways which may have varying performance depending on the dataset, a few similar ideas include:\n",
    "    - Simply ask an LLM for the split points\n",
    "    - Use an embedding model to capture the semantic meaning of each sentence, and add a split point where the topic seems to shift significantly\n",
    "    - Use a model trained on 'Next Sentence Prediction' and add a split point where the model confidently says sentences are disconnected.\n",
    "\n",
    "We'll try the latter here with [BERT](https://huggingface.co/google-bert/bert-base-uncased). #TODO replace with MiniLM"
   ]
  },
  {
   "cell_type": "code",
   "execution_count": 16,
   "id": "a644e126-a39e-4cad-9546-5ee2969ac732",
   "metadata": {},
   "outputs": [],
   "source": [
    "from transformers import BertTokenizer, BertForNextSentencePrediction\n",
    "import torch\n",
    "import nltk"
   ]
  },
  {
   "cell_type": "code",
   "execution_count": 17,
   "id": "56a3fa18-bc33-4bd7-bf71-7a2a390f0eaa",
   "metadata": {},
   "outputs": [],
   "source": [
    "def is_sentence_next(bert_model, bert_tokeniser, sentence_a, sentence_b):\n",
    "    encoding = bert_tokeniser(sentence_a, sentence_b, return_tensors=\"pt\")\n",
    "    outputs = bert_model(**encoding, labels=torch.LongTensor([1]))\n",
    "\n",
    "    # Decision logic to decide if we'd like to break the chunk here.\n",
    "    # Finding the right threshold/logic requires some trials and errors and probably depends on the dataset used\n",
    "    return outputs.logits[0, 0] > outputs.logits[0, 1] # Same sentence more likely than random\n",
    "        \n",
    "\n",
    "def chunk_text_with_bert(text: str, max_chunk_size_words: int = CHUNK_SIZE_WORDS):\n",
    "    tokenizer = BertTokenizer.from_pretrained(\"bert-base-uncased\")\n",
    "    model = BertForNextSentencePrediction.from_pretrained(\"bert-base-uncased\")\n",
    "    model.eval()\n",
    "    model.to(\"cpu\") # switch to CUDA if you have a GPU\n",
    "\n",
    "    # Split per sentence\n",
    "    text_sentences = nltk.sent_tokenize(text)\n",
    "\n",
    "    # Make sure sentences are all small enough to be sent forward. A dummy approach is to\n",
    "    # truncate those.\n",
    "    text_sentences = [\n",
    "        \" \".join(sentence.split(\" \")[:int(0.8*max_chunk_size_words)])\n",
    "        for sentence in text_sentences\n",
    "    ]\n",
    "    \n",
    "    chunks = []\n",
    "    last_sentence = text_sentences[0]\n",
    "    current_chunk = text_sentences[0]\n",
    "\n",
    "    for sentence in text_sentences:\n",
    "        current_chunk_size_words = len(current_chunk.split(\" \"))\n",
    "        sentence_size_words = len(sentence.split(\" \"))\n",
    "        if current_chunk_size_words + sentence_size_words > max_chunk_size_words:\n",
    "            # we have to split in any case\n",
    "            chunks.append(current_chunk)\n",
    "            current_chunk = sentence\n",
    "        if is_sentence_next(model, tokenizer, last_sentence, sentence):\n",
    "            # add to current chunk and continue\n",
    "            current_chunk = current_chunk + sentence\n",
    "        else:\n",
    "            # split\n",
    "            chunks.append(current_chunk)\n",
    "            current_chunk = sentence\n",
    "        last_sentence = sentence\n",
    "    \n",
    "    return chunks\n"
   ]
  },
  {
   "cell_type": "code",
   "execution_count": 18,
   "id": "0e25902a-8b4e-465f-8f24-c520b56bd0de",
   "metadata": {},
   "outputs": [
    {
     "data": {
      "application/vnd.jupyter.widget-view+json": {
       "model_id": "2006cf64f74d48d2b4f3f0a39868de0f",
       "version_major": 2,
       "version_minor": 0
      },
      "text/plain": [
       "Map:   0%|          | 0/20 [00:00<?, ? examples/s]"
      ]
     },
     "metadata": {},
     "output_type": "display_data"
    },
    {
     "name": "stderr",
     "output_type": "stream",
     "text": [
      "/Users/pierret/.pyenv/versions/3.10.1/envs/transformers_playground/lib/python3.10/site-packages/transformers/tokenization_utils_base.py:1617: FutureWarning: `clean_up_tokenization_spaces` was not set. It will be set to `True` by default. This behavior will be deprecated in transformers v4.45, and will be then set to `False` by default. For more details check this issue: https://github.com/huggingface/transformers/issues/31884\n",
      "  warnings.warn(\n"
     ]
    }
   ],
   "source": [
    "# Method is quite slow and would benefit optimisation! for learning purpose only\n",
    "wiki_data_chunked_w_model = wiki_data.select(range(20)).map( # Truncating dataset on purpose!\n",
    "    lambda example_batch: get_chunk_from_batch(example_batch, chunk_text_with_bert),\n",
    "    batched=True,\n",
    "    remove_columns=[\"id\", \"title\", \"text\", \"url\"], # Removes columns because of row expansion\n",
    "    batch_size=16\n",
    ")"
   ]
  },
  {
   "cell_type": "code",
   "execution_count": 19,
   "id": "0db2f634-de6d-4d51-adbb-7715c13958e3",
   "metadata": {},
   "outputs": [
    {
     "data": {
      "text/plain": [
       "{'id': [0, 1],\n",
       " 'url': ['https://simple.wikipedia.org/wiki/April',\n",
       "  'https://simple.wikipedia.org/wiki/April'],\n",
       " 'title': ['April', 'April'],\n",
       " 'original_id': ['1', '1'],\n",
       " 'text_chunk': [\"April is the fourth month of the year in the Julian and Gregorian calendars, and comes between March and May.April is the fourth month of the year in the Julian and Gregorian calendars, and comes between March and May.It is one of four months to have 30 days.April always begins on the same day of week as July, and additionally, January in leap years.April always ends on the same day of the week as December.April's flowers are the Sweet Pea and Daisy.Its birthstone is the diamond.The meaning of the diamond is innocence.\",\n",
       "  \"The Month \\n\\nApril comes between March and May, making it the fourth month of the year.It also comes first in the year out of the four months that have 30 days, as June, September and November are later in the year.April begins on the same day of the week as July every year and on the same day of the week as January in leap years.April ends on the same day of the week as December every year, as each other's last days are exactly 35 weeks (245 days) apart.In common years, April starts on the same day of the week as October of the previous year, and in leap years, May of the previous year.In common years, April finishes on the same day of the week as July of the previous year, and in leap years, February and October of the previous year.In common years immediately after other common years, April starts on the same day of the week as January of the previous year, and in leap years and years immediately after that, April finishes on the same day of the week as January of the previous year.In years immediately before common years, April starts on the same day of the week as September and December of the following year, and in years immediately before leap years, June of the following year.In years immediately before common years, April finishes on the same day of the week as September of the following year, and in years immediately before leap years, March and June of the following year.April is a spring month in the Northern Hemisphere and an autumn/fall month in the Southern Hemisphere.In each hemisphere, it is the seasonal equivalent of October in the other.It is unclear as to where April got its name.\"]}"
      ]
     },
     "execution_count": 19,
     "metadata": {},
     "output_type": "execute_result"
    }
   ],
   "source": [
    "wiki_data_chunked_w_model[0:2]"
   ]
  },
  {
   "cell_type": "code",
   "execution_count": 20,
   "id": "ad74804f-cc09-4124-9a49-496b667e009c",
   "metadata": {},
   "outputs": [
    {
     "data": {
      "application/vnd.jupyter.widget-view+json": {
       "model_id": "53444bcfb5494741ba6d39acb4ae56cb",
       "version_major": 2,
       "version_minor": 0
      },
      "text/plain": [
       "Saving the dataset (0/1 shards):   0%|          | 0/75 [00:00<?, ? examples/s]"
      ]
     },
     "metadata": {},
     "output_type": "display_data"
    }
   ],
   "source": [
    "# Save data back to disk\n",
    "MODEL_DATASET_NAME = f\"wiki-data-chunked-w-model-CS{CHUNK_SIZE_WORDS}\"\n",
    "wiki_data_chunked_w_model.save_to_disk(\n",
    "    os.path.join(LOCAL_DATASET_FOLDER, MODEL_DATASET_NAME)\n",
    ")"
   ]
  },
  {
   "cell_type": "markdown",
   "id": "367e641f-6734-42bb-9470-a1fb417a6cc7",
   "metadata": {},
   "source": [
    "# Questions-Answers generation\n",
    "It would be excellent to have human-curated questions answers pairs to evaluate our retrieval logic.\n",
    "(a bit like in https://www.kaggle.com/datasets/rtatman/questionanswer-dataset?resource=download)\n",
    "\n",
    "If we can't afford this, we can always generate questions/answers with an LLM as well.\n",
    "\n",
    "The notebook implements both methods below, if you have time on your hands to annotate things!"
   ]
  },
  {
   "cell_type": "code",
   "execution_count": 21,
   "id": "9e9e5142-bd3d-418b-a329-c59a1836ca65",
   "metadata": {},
   "outputs": [],
   "source": [
    "dataset_to_add_questions_to = RECURSIVE_DATASET_NAME"
   ]
  },
  {
   "cell_type": "code",
   "execution_count": 22,
   "id": "59572ce0-56e6-47ab-9d0f-4f24dc470a6f",
   "metadata": {},
   "outputs": [],
   "source": [
    "wiki_data_chunked = load_from_disk(\n",
    "    os.path.join(LOCAL_DATASET_FOLDER, dataset_to_add_questions_to)\n",
    ")"
   ]
  },
  {
   "cell_type": "code",
   "execution_count": 23,
   "id": "78a8e2bf-5dbe-4e34-b5fd-65a01b711b09",
   "metadata": {},
   "outputs": [
    {
     "data": {
      "text/plain": [
       "Dataset({\n",
       "    features: ['id', 'url', 'title', 'original_id', 'text_chunk'],\n",
       "    num_rows: 271938\n",
       "})"
      ]
     },
     "execution_count": 23,
     "metadata": {},
     "output_type": "execute_result"
    }
   ],
   "source": [
    "wiki_data_chunked"
   ]
  },
  {
   "cell_type": "markdown",
   "id": "82d644c2-42a3-4832-85b7-6ab82669780b",
   "metadata": {},
   "source": [
    "## Manual hand-labeling"
   ]
  },
  {
   "cell_type": "code",
   "execution_count": null,
   "id": "34693720-0315-4839-b4fc-b0b584f07810",
   "metadata": {},
   "outputs": [],
   "source": [
    "questions_dataset_name = f\"{dataset_to_add_questions_to}-questions\"\n",
    "\n",
    "data = []\n",
    "while True: # Interrupt when you'd like to stop\n",
    "    rnd_chunk_id = np.random.randint(len(wiki_data_chunked))\n",
    "    print(\"-----------------------\")\n",
    "    print(\"-----------------------\")\n",
    "    print(\"New chunk to annotate!\")\n",
    "    print(\"-----------------------\")\n",
    "    print(\"-----------------------\")\n",
    "    print(wiki_data_chunked[rnd_chunk_id][\"text_chunk\"])\n",
    "    question = input(\"Type a question:\")\n",
    "    answer = input(\"Type the answer to the question:\")\n",
    "\n",
    "    new_el = {\n",
    "        \"chunk_id\": rnd_chunk_id,\n",
    "        \"question\": question,\n",
    "        \"answer\" : answer\n",
    "    }\n",
    "    data.append(new_el)\n",
    "    \n",
    "    print(f\"New data point: {new_el}\")\n",
    "    "
   ]
  },
  {
   "cell_type": "code",
   "execution_count": null,
   "id": "541da625-3487-44c7-8cb8-5a6ad8a2a2de",
   "metadata": {},
   "outputs": [],
   "source": [
    "data[:5]"
   ]
  },
  {
   "cell_type": "code",
   "execution_count": null,
   "id": "f2444e6f-23b3-47a8-982b-9faed9a4fca1",
   "metadata": {},
   "outputs": [],
   "source": [
    "questions_dataset = Dataset.from_list(data)"
   ]
  },
  {
   "cell_type": "code",
   "execution_count": null,
   "id": "56aafaeb-bb33-4575-9138-bde50b9e8e0c",
   "metadata": {},
   "outputs": [],
   "source": [
    "questions_dataset.save_to_disk(\n",
    "    os.path.join(LOCAL_DATASET_FOLDER, questions_dataset_name)\n",
    ")"
   ]
  },
  {
   "cell_type": "markdown",
   "id": "7cff58e2-8f4a-4480-9b54-1dccf76a6a85",
   "metadata": {},
   "source": [
    "## LLM labeling"
   ]
  },
  {
   "cell_type": "code",
   "execution_count": 24,
   "id": "d34d2354-b110-4177-81c0-f2582d612daa",
   "metadata": {},
   "outputs": [],
   "source": [
    "# For fun, we can tryout the HF inference API\n",
    "# os.environ[\"HF_TOKEN_SERVERLESS_API\"] = \"hf_*\"\n",
    "token = os.environ[\"HF_TOKEN_SERVERLESS_API\"] # ADD YOUR TOKEN TO YOUR ENV! (It's a free service)\n",
    "client = InferenceClient(\n",
    "    token=token,\n",
    ")"
   ]
  },
  {
   "cell_type": "code",
   "execution_count": 29,
   "id": "6329c0e6-d753-4735-9f97-3989e1d35e9d",
   "metadata": {},
   "outputs": [],
   "source": [
    "def fetch_question_pair_from_llm(text):\n",
    "    response = client.chat_completion(\n",
    "    \tmodel=\"meta-llama/Meta-Llama-3-8B-Instruct\",\n",
    "    \tmessages=[\n",
    "            # Prompt can be improved, LLM sometimes outputs things like \"Who are notable figures mentioned in this list?\"\n",
    "            # which obviously doesnt work as we won't have access to the list... What would you suggest we change?\n",
    "            {\"role\": \"user\", \"content\": \"You are a helpful assistant. You will receive text chunks in quotes from users that originate from a wikipedia page. Your task will be to create a question/answer pair from this text chunk, with the answer being present in the chunk. Answer the query in the form [question] END_QUESTION [answer], nothing more. Please write short questions!\"},\n",
    "            {\"role\": \"assistant\", \"content\": \"Sure! understood.\"},\n",
    "            {\"role\": \"user\", \"content\": f\"'{text}'\"}],\n",
    "    \tmax_tokens=50,\n",
    "    )\n",
    "\n",
    "    llm_output = response.choices[0][\"message\"][\"content\"]\n",
    "    \n",
    "    result = llm_output.split(\" END_QUESTION \")\n",
    "    if len(result) != 2:\n",
    "        print(\"LLM Failed! returning None\")\n",
    "        return None, None\n",
    "    \n",
    "    question, answer = result\n",
    "    return question, answer\n",
    "\n",
    "    \n"
   ]
  },
  {
   "cell_type": "code",
   "execution_count": 30,
   "id": "27662cee-f939-4e00-8630-4128b3a4f78e",
   "metadata": {},
   "outputs": [
    {
     "data": {
      "text/plain": [
       "(\"What are April's flowers?\", 'Sweet Pea and Daisy.')"
      ]
     },
     "execution_count": 30,
     "metadata": {},
     "output_type": "execute_result"
    }
   ],
   "source": [
    "# Test it once before sending multiple requests\n",
    "fetch_question_pair_from_llm(\n",
    "    wiki_data_chunked[0][\"text_chunk\"]\n",
    ")"
   ]
  },
  {
   "cell_type": "code",
   "execution_count": null,
   "id": "73c02e82-73b2-42e1-806e-1190fa1c382b",
   "metadata": {},
   "outputs": [],
   "source": [
    "questions_llm_data = []"
   ]
  },
  {
   "cell_type": "code",
   "execution_count": 31,
   "id": "5445ad91-4f59-42b1-9505-747fa754436d",
   "metadata": {},
   "outputs": [
    {
     "name": "stderr",
     "output_type": "stream",
     "text": [
      "  0%|                                                                                       | 0/100 [00:00<?, ?it/s]"
     ]
    },
    {
     "name": "stdout",
     "output_type": "stream",
     "text": [
      "--- New ELEMENT ---\n",
      "Fetching a question for:\n",
      "Vega has not much of the elements heavier than helium. Vega is a suspected variable star that may vary slightly in magnitude in a periodic manner. It is spinning rapidly with a velocity of 274 km/s at the equator. This is causing the equator to bulge outward because of centrifugal effects, and, as a result, there is a variation of temperature across the star's photosphere that reaches a maximum at the poles. From Earth, Vega is being observed from the direction of one of these poles.\n",
      "\n",
      "Based on an observed excess emission of infrared radiation, Vega appears to have a circumstellar disk of dust. This dust is likely to be the result of collisions between objects in an orbiting disk of debris, similar to the Kuiper belt in the Solar System. Stars that display an infrared excess because of dust emission are termed Vega-like stars. Irregularities in Vega's disk also suggest the presence of at least one planet, likely to be about the size of Jupiter.\n",
      "\n",
      "References \n",
      "\n",
      "Northern pole stars\n",
      "LLM answered:\n"
     ]
    },
    {
     "name": "stderr",
     "output_type": "stream",
     "text": [
      "  1%|▊                                                                              | 1/100 [00:00<01:30,  1.09it/s]"
     ]
    },
    {
     "name": "stdout",
     "output_type": "stream",
     "text": [
      "New data point: {'chunk_id': 148893, 'question': 'What causes the equator to bulge outward on the star Vega?', 'answer': 'It is spinning rapidly with a velocity of 274 km/s.'}\n",
      "--- New ELEMENT ---\n",
      "Fetching a question for:\n",
      "Cauby Peixoto (10 February 1931 – 15 May 2016) was a Brazilian singer, and actor. His career lasted from the late 1940s until his death in 2016. He is known for his deep voice and hairstyles. His genres include jazz and soft rock.\n",
      "\n",
      "Peixoto was known for his album \"Maxximum\". He also appeared in movies. He was known for his appearance as a singer in the movie Com Água na.\n",
      "\n",
      "He had a brief career in the United States in the 1950s, where he presented under the pseudonyms Ron Coby or Coby Dijon.\n",
      "\n",
      "Peixoto was born in Niterói, Rio de Janeiro. He studied at a Salesian school in Niteroi. Peixoto died in São Paulo, São Paulo from pneumonia on 15 May 2016, aged 85.\n",
      "\n",
      "Cauby was named by Time and Life magazines as the Brazilian Elvis Presley.\n",
      "\n",
      "References\n",
      "\n",
      "Other websites\n",
      "\n",
      " Official site\n",
      " \n",
      " Entry on Dicionário Cravo Albin (in Portuguese) \n",
      "\n",
      "1931 births\n",
      "2016 deaths\n",
      "Brazilian movie actors\n",
      "Brazilian singers\n",
      "Deaths from pneumonia\n",
      "Disease-related deaths in Brazil\n",
      "Jazz musicians\n",
      "Jazz singers\n",
      "People from Rio de Janeiro\n",
      "Rock singers\n",
      "LGBT singers\n",
      "LLM answered:\n"
     ]
    },
    {
     "name": "stderr",
     "output_type": "stream",
     "text": [
      "  2%|█▌                                                                             | 2/100 [00:01<01:33,  1.05it/s]"
     ]
    },
    {
     "name": "stdout",
     "output_type": "stream",
     "text": [
      "New data point: {'chunk_id': 173321, 'question': '\"Who was Cauby Peixoto named by?\"', 'answer': 'Cauby Peixoto was named by Time and Life magazines.'}\n",
      "--- New ELEMENT ---\n",
      "Fetching a question for:\n",
      "Nolberto Solano (born 12 December 1974) is a Peruvian football player. He has played for Peru national team.\n",
      "\n",
      "Club career statistics\n",
      "\n",
      "|-\n",
      "|1994||rowspan=\"4\"|Sporting Cristal||rowspan=\"4\"|Primera División||0||0||||||||||||||0||0\n",
      "|-\n",
      "|1995||38||12||||||||||||||38||12\n",
      "|-\n",
      "|1996||26||13||||||||||||||26||13\n",
      "|-\n",
      "|1997||11||7||||||||||||||11||7\n",
      "\n",
      "|-\n",
      "|1997/98||Boca Juniors||Primera División||32||5||||||||||||||32||5\n",
      "\n",
      "|-\n",
      "|1998/99||rowspan=\"6\"|Newcastle United||rowspan=\"6\"|Premier League||29||6||7||0||1||0||2||0||39||6\n",
      "|-\n",
      "|1999/00||30||3||3||0||1||0||6||1||40||4\n",
      "|-\n",
      "|2000/01||33||6||1||1||4||0||colspan=\"2\"|-||38||7\n",
      "|-\n",
      "|2001/02||37||7||5||1||4||0||6||4||52||12\n",
      "|-\n",
      "|2002/03||31||7||1||0||1||0||12||1||43||8\n",
      "|-\n",
      "|2003/04||12||0||2||0||1||0||5||1||20||1\n",
      "|-\n",
      "|2003/04||rowspan=\"3\"|Aston Villa||rowspan=\"3\"|Premier League||10||0||0||0||0||0||colspan=\"2\"|-||10||0\n",
      "|-\n",
      "|2004/05||36||8||1||0||2||1||colspan=\"2\"|-||39||9\n",
      "|-\n",
      "|2005/06||29||6||4||0||2||0||colspan=\"2\"|-||35||6\n",
      "|-\n",
      "|2005/06||rowspan=\"3\"|Newcastle United||rowspan=\"3\"|Premier League||3||0||0||0||0||0||colspan=\"2\"|-||3||0\n",
      "|-\n",
      "|2006/07||28||2||2||0||3||2||11||0||44||4\n",
      "|-\n",
      "|2007/08||1||0||0||0||1||0||colspan=\"2\"|-||2||0\n",
      "|-\n",
      "|2007/08||West Ham United||Premier League||23||4||0||0||0||0||colspan=\"2\"|-||23||4\n",
      "\n",
      "|-\n",
      "|2008/09||Larissas||Super League||13||1||||||||||||||13||1\n",
      "\n",
      "|-\n",
      "|2009||Universitario Deportes||Primera División||24||7||||||||||||||24||7\n",
      "\n",
      "|-\n",
      "|2009/10||Leicester City||League Championship||||||||||||||||||||\n",
      "99||39||||||||||||||99||39\n",
      "32||5||||||||||||||32||5\n",
      "302||49||26||2||20||3||42||7||390||61\n",
      "13||1||||||||||||||13||1\n",
      "444||94||26||2||20||3||42||7||532||106\n",
      "|}\n",
      "\n",
      "International career statistics\n",
      "\n",
      "|-\n",
      "|1994||7||0\n",
      "|-\n",
      "|1995||6||2\n",
      "|-\n",
      "|1996||8||2\n",
      "|-\n",
      "|1997||12||1\n",
      "|-\n",
      "|1998||2||0\n",
      "|-\n",
      "|1999||9||4\n",
      "|-\n",
      "|2000||9||1\n",
      "|-\n",
      "|2001||5||1\n",
      "|-\n",
      "|2002||0||0\n",
      "|-\n",
      "|2003||4||3\n",
      "|-\n",
      "|2004||11||6\n",
      "|-\n",
      "|2005||4||0\n",
      "|-\n",
      "|2006||0||0\n",
      "|-\n",
      "|2007||5||0\n",
      "|-\n",
      "|2008||7||0\n",
      "|-\n",
      "|2009||6||0\n",
      "|-\n",
      "!Total||95||20\n",
      "|}\n",
      "\n",
      "References\n",
      "\n",
      "1974 births\n",
      "Living people\n",
      "Peruvian footballers\n",
      "LLM answered:\n"
     ]
    },
    {
     "name": "stderr",
     "output_type": "stream",
     "text": [
      "  3%|██▎                                                                            | 3/100 [00:03<01:41,  1.05s/it]"
     ]
    },
    {
     "name": "stdout",
     "output_type": "stream",
     "text": [
      "New data point: {'chunk_id': 96462, 'question': 'When was Nolberto Solano born?', 'answer': '12 December 1974'}\n",
      "--- New ELEMENT ---\n",
      "Fetching a question for:\n",
      "Okinawa is the name for the biggest island in the Ryūkyū Islands, far south of Japan. It is also the common name for Okinawa Prefecture, which controls the Southern Ryūkyū Islands.\n",
      "\n",
      "The capital of Okinawa is Naha. Naha is on the island with the most people, Okinawa island. Okinawa used to be called Great Lew Chew Island.\n",
      "\n",
      "Okinawa is home to the Okinawan people, who also inhabit the minor islands surrounding Okinawa as well. There are also many Japanese in Okinawa.\n",
      "\n",
      "Many of Okinawa's islands are scenic, and there are many beaches there. \n",
      "\n",
      "The temperature in Okinawa is often warm or hot.  Many animals make their home around the Okinawa islands.  For example, sea turtles, jellyfish, and many kinds of birds all live around Okinawa.\n",
      "\n",
      "An average person in Okinawa lives to be older than 100 years old. Some people think that is because Okinawan food is healthy. Fish is very popular, but people also eat sea vegetables and pork. Okinawans are known as easygoing people, almost everyone loves to sing and dance. Okinawa's music is popular all over Japan.  A musical instrument called a sanshin is often used. They celebrate their musical instrument every year on March 4th by singing folk songs together. Okinawans when compared with Japanese are peaceful people. They placed sanshin on their tokonoma while on Japanese mainland tend to display samurai.\n",
      "LLM answered:\n"
     ]
    },
    {
     "name": "stderr",
     "output_type": "stream",
     "text": [
      "  4%|███▏                                                                           | 4/100 [00:04<01:40,  1.05s/it]"
     ]
    },
    {
     "name": "stdout",
     "output_type": "stream",
     "text": [
      "New data point: {'chunk_id': 28196, 'question': '\"What is the capital of Okinawa?\"', 'answer': '\"Naha\"'}\n",
      "--- New ELEMENT ---\n",
      "Fetching a question for:\n",
      "Lina Anatolyevna Cheryazova (, 1 November 1968 – 23 March 2019) was an Uzbek freestyle skier. She won a gold medal at the 1994 Winter Olympics. Cheryazova was born in Tashkent, Uzbekistan.\n",
      "\n",
      "Cheryazova died on 23 March 2019 in Novosibirsk, Russia from complications of ALS, aged 50.\n",
      "\n",
      "References\n",
      "\n",
      "1968 births\n",
      "2019 deaths\n",
      "Deaths from motor neurone disease\n",
      "Olympic gold medalists\n",
      "Uzbekistani people\n",
      "LLM answered:\n"
     ]
    },
    {
     "name": "stderr",
     "output_type": "stream",
     "text": [
      "  5%|███▉                                                                           | 5/100 [00:04<01:29,  1.06it/s]"
     ]
    },
    {
     "name": "stdout",
     "output_type": "stream",
     "text": [
      "New data point: {'chunk_id': 202696, 'question': 'What year was Lina Cheryazova born?', 'answer': '1968'}\n",
      "--- New ELEMENT ---\n",
      "Fetching a question for:\n",
      "Jerome (; ; ;  – 30 September 420), was a Christian priest, theologian and historian. He lived in the Roman Empire. He is best known for translating the Bible into Latin (the Vulgate). He is recognised as a saint by the Catholic Church, the Eastern Orthodox Church, the Lutheran Church, and the Church of England (Anglican Communion).\n",
      "\n",
      "References\n",
      "\n",
      "Other websites\n",
      "Saint Jerome at the Catholic Encyclopedia\n",
      "\n",
      "340s births\n",
      "420 deaths\n",
      "Ancient Roman historians\n",
      "Ancient Roman writers\n",
      "Bible translators\n",
      "Christian clergy\n",
      "Christian saints\n",
      "Christian theologians\n",
      "Priests\n",
      "LLM answered:\n"
     ]
    },
    {
     "name": "stderr",
     "output_type": "stream",
     "text": [
      "  6%|████▋                                                                          | 6/100 [00:05<01:18,  1.19it/s]"
     ]
    },
    {
     "name": "stdout",
     "output_type": "stream",
     "text": [
      "New data point: {'chunk_id': 145697, 'question': 'When did Saint Jerome die?', 'answer': '30 September 420'}\n",
      "--- New ELEMENT ---\n",
      "Fetching a question for:\n",
      "A city is a classification of municipalities used in the Canadian province of British Columbia.\n",
      "\n",
      "List of cities\n",
      "\n",
      "Notes:\n",
      "\n",
      "Gallery\n",
      "\n",
      "References\n",
      "\n",
      "British Columbia\n",
      "LLM answered:\n"
     ]
    },
    {
     "name": "stderr",
     "output_type": "stream",
     "text": [
      "  7%|█████▌                                                                         | 7/100 [00:06<01:08,  1.36it/s]"
     ]
    },
    {
     "name": "stdout",
     "output_type": "stream",
     "text": [
      "New data point: {'chunk_id': 202868, 'question': 'What classification of municipalities is used in British Columbia?', 'answer': 'A city'}\n",
      "--- New ELEMENT ---\n",
      "Fetching a question for:\n",
      "Sasha Calle (; born August 7, 1995) is an American actress. She is known for her work in the soap opera The Young and the Restless as chef Lola Rosales. She will play the superheroine Supergirl in the DC Extended Universe media franchise, starting in The Flash (2022).\n",
      "\n",
      "Calle was born in Boston, Massachusetts.  She is of Colombian descent.\n",
      "\n",
      "References\n",
      "\n",
      "Other websites\n",
      "\n",
      "Living people\n",
      "1995 births\n",
      "Actors from Boston, Massachusetts\n",
      "American television actors\n",
      "American movie actors\n",
      "LLM answered:\n"
     ]
    },
    {
     "name": "stderr",
     "output_type": "stream",
     "text": [
      "  8%|██████▎                                                                        | 8/100 [00:06<01:05,  1.41it/s]"
     ]
    },
    {
     "name": "stdout",
     "output_type": "stream",
     "text": [
      "New data point: {'chunk_id': 251013, 'question': 'Where was Sasha Calle born?', 'answer': 'Boston, Massachusetts'}\n",
      "--- New ELEMENT ---\n",
      "Fetching a question for:\n",
      "Anger Management is a 2003 American slapstick comedy movie directed by Peter Segal. It was written by David S. Dorfman. It stars Adam Sandler, Jack Nicholson, Marisa Tomei, John Turturro, and Woody Harrelson. It was produced by Revolution Studios. It has cameo appearances of Rudy Giuliani, Bob Sheppard, and Derek Jeter. It was released to positive reviews on April 11, 2003.\n",
      "\n",
      "Other websites\n",
      " \n",
      " \n",
      " \n",
      " \n",
      " \n",
      "\n",
      "2003 comedy movies\n",
      "American comedy movies\n",
      "Movies set in New York City\n",
      "Movies directed by Peter Segal\n",
      "LLM answered:\n"
     ]
    },
    {
     "name": "stderr",
     "output_type": "stream",
     "text": [
      "  9%|███████                                                                        | 9/100 [00:07<01:10,  1.28it/s]"
     ]
    },
    {
     "name": "stdout",
     "output_type": "stream",
     "text": [
      "New data point: {'chunk_id': 166746, 'question': 'Who directed the 2003 American slapstick comedy movie Anger Management?', 'answer': 'Adam Sandler'}\n",
      "--- New ELEMENT ---\n",
      "Fetching a question for:\n",
      "El Llano (The Plain) is a Dominican municipality in the Elías Piña province.\n",
      "\n",
      "Population\n",
      "The municipality had, in 2010, a total population of 4,193: 2,161 men and 2,032 women. The urban population was  of the total population.\n",
      "\n",
      "History\n",
      "El Llano became a municipality by the law 687 of 2 July 1974. Before that date, it was part of Comendador.\n",
      "\n",
      "Geography\n",
      "El Llano has an area of . It is to the east of Comendador, next to the San Juan province.\n",
      "\n",
      "Administrative division\n",
      "The municipality of El Llano has only one municipal district; this is:\n",
      "\n",
      "Economy\n",
      "The main economic activity of the municipality is farming. The main crop is rice.\n",
      "\n",
      "References \n",
      "\n",
      "Settlements in the Dominican Republic\n",
      "1974 establishments in North America\n",
      "1970s establishments in the Dominican Republic\n",
      "LLM answered:\n"
     ]
    },
    {
     "name": "stderr",
     "output_type": "stream",
     "text": [
      " 10%|███████▊                                                                      | 10/100 [00:08<01:10,  1.29it/s]"
     ]
    },
    {
     "name": "stdout",
     "output_type": "stream",
     "text": [
      "New data point: {'chunk_id': 44286, 'question': 'What is the name of the province where El Llano is located?', 'answer': 'El Lías Piña'}\n",
      "--- New ELEMENT ---\n",
      "Fetching a question for:\n",
      "Sacriston is a village in County Durham, England.\n",
      "\n",
      "References\n",
      "\n",
      "Villages in England\n",
      "Settlements in County Durham\n",
      "LLM answered:\n"
     ]
    },
    {
     "name": "stderr",
     "output_type": "stream",
     "text": [
      " 11%|████████▌                                                                     | 11/100 [00:08<01:03,  1.40it/s]"
     ]
    },
    {
     "name": "stdout",
     "output_type": "stream",
     "text": [
      "New data point: {'chunk_id': 81689, 'question': 'What is Sacriston?', 'answer': 'A village in County Durham, England.'}\n",
      "--- New ELEMENT ---\n",
      "Fetching a question for:\n",
      "Bulgaria national volleyball team is the national volleyball team of Bulgaria. They have participated in the FIVB world league ever since 1994. Bulgaria played at the first world championship in 1949.\n",
      "\n",
      "Honors \n",
      " Olympics: Silver medal (1980)\n",
      " World Championship: Silver Medal (1970) - Bronze medal (1949, 1952, 1986, 2000)\n",
      " World Cup: Bronze medal (2007)\n",
      " European Championship: Silver medal (1951)\n",
      "\n",
      "References\n",
      "\n",
      "Other websites \n",
      " BG Vollyball\n",
      "\n",
      "National volleyball teams\n",
      "Sport in Bulgaria\n",
      "LLM answered:\n"
     ]
    },
    {
     "name": "stderr",
     "output_type": "stream",
     "text": [
      " 12%|█████████▎                                                                    | 12/100 [00:09<01:04,  1.36it/s]"
     ]
    },
    {
     "name": "stdout",
     "output_type": "stream",
     "text": [
      "New data point: {'chunk_id': 164938, 'question': 'What year did Bulgaria first participate in the FIVB world league?', 'answer': '1994'}\n",
      "--- New ELEMENT ---\n",
      "Fetching a question for:\n",
      "24\n",
      "Volodymyr Bondarenko, 68, Ukrainian politician, Deputy (1996–2014) and Head of the Kyiv City State Administration (2014).\n",
      "O. Chandrashekar, 86, Indian footballer (national team).\n",
      "Anatoliy Chizhov, 87, Soviet-born Russian engineer (Progress Rocket Space Centre) and politician, Deputy (1989–1991). (death announced on this date)\n",
      "Olabiyi Durojaiye, 88, Nigerian politician, Senator (1999–2003), COVID-19.\n",
      "Dale Derby, 72, American physician and politician, member of the Oklahoma House of Representatives (2016–2018), drowned.\n",
      "Léopold K. Fakambi, 78, Beninese agronomist and engineer.\n",
      "Nicholas Felice, 94, American politician, Mayor of Fair Lawn (1972–1974) and member of the New Jersey General Assembly (1982–2002).\n",
      "Hissène Habré, 79, Chadian politician and convicted war criminal, Prime Minister (1978–1979) and President (1982–1990), COVID-19.\n",
      "Jerry Harkness, 81, American basketball player (Loyola Ramblers, Indiana Pacers, New York Knicks) and civil rights activist, NCAA champion (1963).\n",
      "Elia Hernández Núñez, 59, Mexican politician, Deputy (2006–2009).\n",
      "Harry Kent, 74, New Zealand Olympic cyclist (1972), Commonwealth Games champion (1970).\n",
      "Calogero Lo Giudice, 83, Italian politician, President of Sicily (1982–1983) and MEP (1989–1994).\n",
      "Fritz McIntyre, 62, British keyboardist (Simply Red). (death announced on this date)\n",
      "Radek Pobořil, 75, Czech folk rock guitarist (Čechomor).\n",
      "Mangala Samaraweera, 65, Sri Lankan politician, MP (1989–2020) and Minister of Foreign Affairs (2005–2007, 2015–2017), COVID-19.\n",
      "Ghazali Mohd Seth, 92, Malaysian military officer, Chief of Army (1977–1982) and Defence Forces (1982–1985), heart failure.\n",
      "Jan Suchý, 76, Czech ice hockey player (HC Dukla Jihlava, national team), Olympic silver medalist (1968).\n",
      "Wilfried Van Moer, 76, Belgian footballer (Beveren, Standard Liège, national team) and manager, stroke.\n",
      "Patrick Verbeke, 72, French blues guitarist, composer and television presenter.\n",
      "George S. Vest, 102, American politician, U.S. Ambassador to the European Union (1981–1985) and Director of the U.S. Foreign Service (1985–1989), heart disease.\n",
      "Charlie Watts, 80, English Hall of Fame drummer (The Rolling Stones, Blues Incorporated).\n",
      "LLM answered:\n"
     ]
    },
    {
     "name": "stderr",
     "output_type": "stream",
     "text": [
      " 13%|██████████▏                                                                   | 13/100 [00:11<01:19,  1.09it/s]"
     ]
    },
    {
     "name": "stdout",
     "output_type": "stream",
     "text": [
      "New data point: {'chunk_id': 239965, 'question': 'Here is the question/answer pair:\\n\\nWho was the English Hall of Fame drummer who died at the age of 80?', 'answer': 'Charlie Watts'}\n",
      "--- New ELEMENT ---\n",
      "Fetching a question for:\n",
      "Stacy Martin (born 1 January 1991) is a French-English actress. She is best known for her role as the younger version of Charlotte Gainsbourg's character Joe in Nymphomaniac. Martin also appeared as J. Paul Getty's secretary in Ridley Scott's All the Money in the World. \n",
      "\n",
      "Martin was born in Paris. She lives in London with her partner Daniel Blumberg.\n",
      "\n",
      "References\n",
      "\n",
      "Other websites\n",
      "\n",
      " \n",
      "\n",
      "1991 births\n",
      "Living people\n",
      "French movie actors\n",
      "English movie actors\n",
      "Actors from Paris\n",
      "Actors from London\n",
      "LLM answered:\n"
     ]
    },
    {
     "name": "stderr",
     "output_type": "stream",
     "text": [
      " 14%|██████████▉                                                                   | 14/100 [00:11<01:09,  1.23it/s]"
     ]
    },
    {
     "name": "stdout",
     "output_type": "stream",
     "text": [
      "New data point: {'chunk_id': 191447, 'question': 'Who is the partner of Stacy Martin?', 'answer': 'Daniel Blumberg'}\n",
      "--- New ELEMENT ---\n",
      "Fetching a question for:\n",
      "Svay Rieng is a province in Cambodia. The capital is Svay Rieng while the largest city is Bavet.\n",
      "\n",
      "There are 6 districts and 2 municipalities:\n",
      "Bavet Municipality\n",
      "Chanthrea\n",
      "Kampong Rou\n",
      "Romdoul\n",
      "Romeas Haek\n",
      "Svay Chrom\n",
      "Svay Rieng Municipality\n",
      "Svay Theab\n",
      "\n",
      "References\n",
      "\n",
      "Provinces of Cambodia\n",
      "Establishments in Cambodia\n",
      "1907 establishments in Asia\n",
      "LLM answered:\n"
     ]
    },
    {
     "name": "stderr",
     "output_type": "stream",
     "text": [
      " 15%|███████████▋                                                                  | 15/100 [00:12<01:07,  1.25it/s]"
     ]
    },
    {
     "name": "stdout",
     "output_type": "stream",
     "text": [
      "New data point: {'chunk_id': 218937, 'question': 'What is the capital of Svay Rieng province in Cambodia?', 'answer': 'Svay Rieng'}\n",
      "--- New ELEMENT ---\n",
      "Fetching a question for:\n",
      "Annéot is a commune. It is found in the Yonne department in the center of France.\n",
      "\n",
      "References\n",
      "INSEE\n",
      "\n",
      "Communes in Yonne\n",
      "LLM answered:\n"
     ]
    },
    {
     "name": "stderr",
     "output_type": "stream",
     "text": [
      " 16%|████████████▍                                                                 | 16/100 [00:12<00:59,  1.41it/s]"
     ]
    },
    {
     "name": "stdout",
     "output_type": "stream",
     "text": [
      "New data point: {'chunk_id': 134278, 'question': 'Where is Annéot found?', 'answer': 'France'}\n",
      "--- New ELEMENT ---\n",
      "Fetching a question for:\n",
      "Michael English (24 December 1930 – 13 July 2019) was a British Labour Party politician. He was a Member of Parliament for the British Parliament for Nottingham West from 1964 to 1983. \n",
      "\n",
      "English died on 13 July 2019 at the age of 88.\n",
      "\n",
      "References\n",
      "\n",
      "Other websites\n",
      " Peter Fry interview at History of Parliament Online\n",
      "\n",
      "1930 births\n",
      "2019 deaths\n",
      "Former Labour Party (UK) MPs\n",
      "UK MPs 1964–1966\n",
      "UK MPs 1970–1974\n",
      "UK MPs 1974\n",
      "UK MPs 1974–1979\n",
      "UK MPs 1979–1983\n",
      "Politicians from Nottinghamshire\n",
      "People from Nottingham\n",
      "People from Liverpool\n",
      "LLM answered:\n"
     ]
    },
    {
     "name": "stderr",
     "output_type": "stream",
     "text": [
      " 17%|█████████████▎                                                                | 17/100 [00:13<00:56,  1.46it/s]"
     ]
    },
    {
     "name": "stdout",
     "output_type": "stream",
     "text": [
      "New data point: {'chunk_id': 207119, 'question': 'What year was Michael English born?', 'answer': '1930'}\n",
      "--- New ELEMENT ---\n",
      "Fetching a question for:\n",
      "There are 93 counties in the U.S. state of Nebraska.\n",
      "\n",
      "Nebraska's postal abbreviation is NE and its FIPS state code is 31.\n",
      "\n",
      "County list\n",
      "\n",
      "|}\n",
      "\n",
      "Former counties of Nebraska\n",
      " Clay (1855-64) Formed from un-organized and dissolved into Gage and Lancaster County.\n",
      " Jackson (1855-6) Formed from un-organized and dissolved to the Fillmore County and un-organized.\n",
      " Johnson (1855-6) Formed from un-organized and dissolved to un-organized\n",
      " Blackbird (1855-88) Formed from Burt County and dissolved to Thurston County\n",
      " Loup (1855-6) Formed from Burt and un-organized and then dissolved Madison, Monroe and Platte Counties\n",
      " Jones (1856-66) Formed from un-organized and dissolved into Jefferson County.\n",
      " Grant, Harrison, Jackson, Lynn, Monroe and Taylor counties listed in 1870 (But no proof on where)\n",
      "\n",
      "Notes \n",
      "\n",
      "Nebraska\n",
      "LLM answered:\n"
     ]
    },
    {
     "name": "stderr",
     "output_type": "stream",
     "text": [
      " 18%|██████████████                                                                | 18/100 [00:14<00:56,  1.45it/s]"
     ]
    },
    {
     "name": "stdout",
     "output_type": "stream",
     "text": [
      "New data point: {'chunk_id': 122070, 'question': 'How many counties are in the state of Nebraska?', 'answer': '93'}\n",
      "--- New ELEMENT ---\n",
      "Fetching a question for:\n",
      "Pamela Ann Melroy (born September 17, 1961) is a retired United States Air Force officer and a former NASA astronaut. She is the Deputy Administrator of NASA since 2021 during the Joe Biden administration. She served as pilot on Space Shuttle missions STS-92 and STS-112 and commanded mission STS-120 before leaving the agency in August 2009. \n",
      "\n",
      "Melroy will be inducted into the United States Astronaut Hall of Fame at the Kennedy Space Center Visitor Complex.\n",
      "\n",
      "References\n",
      "\n",
      "1961 births\n",
      "American astronauts\n",
      "Living people\n",
      "Scientists from California\n",
      "Politicians from California\n",
      "Engineers from California\n",
      "Military people from California\n",
      "People from Palo Alto, California\n",
      "US Democratic Party politicians\n",
      "LLM answered:\n"
     ]
    },
    {
     "name": "stderr",
     "output_type": "stream",
     "text": [
      " 19%|██████████████▊                                                               | 19/100 [00:15<01:06,  1.21it/s]"
     ]
    },
    {
     "name": "stdout",
     "output_type": "stream",
     "text": [
      "New data point: {'chunk_id': 249389, 'question': '\"Who is the Deputy Administrator of NASA?\"', 'answer': '\"Pamela Ann Melroy\"'}\n",
      "--- New ELEMENT ---\n",
      "Fetching a question for:\n",
      "30\n",
      " Yawovi Agboyibo, 76, Togolese politician, Prime Minister (2006–2007).\n",
      " Michael Angelis, 68, English actor (Boys from the Blackstuff, The Liver Birds, Thomas & Friends), heart attack.\n",
      " Bobby Dimond, 90, Australian rugby league footballer (Western Suburbs, New South Wales, national team).\n",
      " Elsa Dorfman, 83, American photographer, kidney failure.\n",
      " Michel Gauthier, 70, Canadian politician, Quebec MNA (1981–1988), Leader of the Opposition (1996–1997) and MP (1994–2007), lung cancer.\n",
      " Józef Grzesiak, 79, Polish Olympic bronze medalist boxer (1964), problems caused by dementia.\n",
      " Hassan Hosny, 88, Egyptian actor (Nasser 56, El-Limby, Bobbos) and comedian, heart attack.\n",
      " Mady Mesplé, 89, French opera singer, problems caused by Parkinson's disease.\n",
      " Bobby Morrow, 84, American sprinter, Olympic champion (1956), anemia and peripheral neuropathy.\n",
      " John Nzenze, 80, Kenyan guitarist, problems caused by stomach surgery.\n",
      "\n",
      "31\n",
      " Christo, 84, Bulgarian-born American artist (Running Fence, The Gates, The Floating Piers).\n",
      " Danny Havoc, 34, American professional wrestler (CZW). (death announced on this date)\n",
      " Dan van Husen, 75, German actor (Fellini Casanova, Salon Kitty, Nosferatu the Vampyre), COVID-19. (death announced on this date)\n",
      " Norman Lamm, 92, American rabbi and writer, President of Yeshiva University (1976–2003).\n",
      " Osia Lewis, 57, American football player (Oregon State, Chicago Bruisers) and coach (Vanderbilt), liver cancer.\n",
      " Bob Northern, 86, American French hornist, respiratory failure.\n",
      "\n",
      "Months\n",
      " January\n",
      " February\n",
      " March\n",
      " April\n",
      " May\n",
      " June\n",
      " July\n",
      " August\n",
      " September\n",
      " October\n",
      " November\n",
      " December\n",
      "\n",
      "Related pages\n",
      " List of deaths from the 2019–20 coronavirus pandemic\n",
      "\n",
      "Related pages\n",
      " Deaths in 2014\n",
      " Deaths in 2015\n",
      " Deaths in 2016\n",
      " Deaths in 2017\n",
      " Deaths in 2018\n",
      " Deaths in 2019\n",
      "\n",
      "References\n",
      "\n",
      "Other websites\n",
      " The Guardian, UK obituaries\n",
      " The Telegraph obituaries\n",
      " Obituaries, Chicago Tribune\n",
      " Obituaries, Los Angeles Times\n",
      " The New York Times, US obituaries\n",
      " The Washington Post obituaries\n",
      " The Sydney Morning Herald, Australian obituaries\n",
      "\n",
      "05\n",
      "Deaths\n",
      "LLM answered:\n"
     ]
    },
    {
     "name": "stderr",
     "output_type": "stream",
     "text": [
      " 20%|███████████████▌                                                              | 20/100 [00:16<01:15,  1.06it/s]"
     ]
    },
    {
     "name": "stdout",
     "output_type": "stream",
     "text": [
      "New data point: {'chunk_id': 218660, 'question': 'What was the age of Yawovi Agboyibo?', 'answer': '76'}\n",
      "--- New ELEMENT ---\n",
      "Fetching a question for:\n",
      "The mute e also occurs in the ending of verbs (usually -en).\n",
      "\n",
      "Consonants \n",
      " b\n",
      " c\n",
      " d\n",
      " f\n",
      " g/ch – not pronounced as the English G; the Dutch G is pronounced in the back of the throat with a \"scratching\" sound. In the south of the Netherlands, the G is spoken differently (so called soft G) than in the north (hard G).\n",
      " h\n",
      " j – like \"y\" in you\n",
      " k\n",
      " l\n",
      " m\n",
      " n\n",
      " p\n",
      " q – only used rarely; spoken as k\n",
      " r – not like English; the Dutch R is a more rolling R\n",
      " s\n",
      " t\n",
      " v\n",
      " w\n",
      " x – only used rarely, mostly in foreign words, pronounced as ks\n",
      " z\n",
      "\n",
      "Note: In words that end with \"-d\", the \"-d\" is pronounced like \"-t\".\n",
      "\n",
      "Grammar \n",
      "The grammar of Dutch is slightly more complex than that of English. Word order in sentences is different in complex sentences. The basic simple sentence-structure is subject-verb.\n",
      "LLM answered:\n"
     ]
    },
    {
     "name": "stderr",
     "output_type": "stream",
     "text": [
      " 21%|████████████████▍                                                             | 21/100 [00:17<01:08,  1.15it/s]"
     ]
    },
    {
     "name": "stdout",
     "output_type": "stream",
     "text": [
      "New data point: {'chunk_id': 5588, 'question': 'What diacritic is used for the ending of Dutch verbs?', 'answer': 'mute e'}\n",
      "--- New ELEMENT ---\n",
      "Fetching a question for:\n",
      "The Río Negro department () is a department of Uruguay. The capital is the city of Fray Bentos.\n",
      "\n",
      "Its ISO 3166-2 code  is UY-RN.\n",
      "\n",
      "History \n",
      "The Río Negro department was created on 20 March 1880. Before that time, its territory was part of the Paysandú department.\n",
      "\n",
      "Geography\n",
      "\n",
      "The Río Negro department is in the western part of Uruguay, along the Uruguay river. It has an area of . The population is 54,765 inhabitants (2011 census), one of the departments with fewest inhabitants, for a population density of  inhabitants/km2.\n",
      "\n",
      "There are two chains of low hills in the department. These chains of low and rounded hills are named cuchillas in the country. The two cuchillas in the department are cuchilla de Navarro to the south and forming the border with the Durazno department, and cuchilla de Haedo that goes from the northeast to the southwest.\n",
      "\n",
      "There are two protected areas in the department: National Park Esteros de Farrapos e islas del río Uruguay () and the Esteros y algarrobales del río Uruguay.\n",
      "LLM answered:\n"
     ]
    },
    {
     "name": "stderr",
     "output_type": "stream",
     "text": [
      " 22%|█████████████████▏                                                            | 22/100 [00:18<01:07,  1.16it/s]"
     ]
    },
    {
     "name": "stdout",
     "output_type": "stream",
     "text": [
      "New data point: {'chunk_id': 183521, 'question': 'What is the ISO 3166-2 code of the Río Negro department?', 'answer': 'UY-RN.'}\n",
      "--- New ELEMENT ---\n",
      "Fetching a question for:\n",
      "Concerts\n",
      "As of 6 October 2020, the only music concert at BMO Field was performed by the progressive rock group Genesis on September 7, 2007.\n",
      "\n",
      "Milestones\n",
      "\n",
      "The first goal at BMO Field was scored by Eddie Johnson for the Kansas City Wizards in a 1–0 Major League Soccer win over home side Toronto FC in the stadium opener on April 28, 2007. The first Toronto FC goal at the stadium was Danny Dichio's first-half strike against Chicago Fire on May 12, 2007 (also his club's first MLS goal).\n",
      "\n",
      "The first goal at BMO Field scored by a Canadian came at the official opening on May 11, 2007, in a U-20 friendly between Canada and Argentina. David Edgar scored a penalty in a 2–1 defeat for Canada, just four minutes after Gómez had scored the first international goal at the stadium.\n",
      "\n",
      "Costa Rica's Víctor Núñez scored the first senior international goal in a 1–1 friendly draw with hosts Canada on September 12, 2007, shortly before Dwayne De Rosario scored Canada's first senior goal at the stadium.\n",
      "LLM answered:\n"
     ]
    },
    {
     "name": "stderr",
     "output_type": "stream",
     "text": [
      " 23%|█████████████████▉                                                            | 23/100 [00:18<01:01,  1.26it/s]"
     ]
    },
    {
     "name": "stdout",
     "output_type": "stream",
     "text": [
      "New data point: {'chunk_id': 236143, 'question': \"'Who scored the first goal at BMO Field?'\", 'answer': 'Eddie Johnson'}\n",
      "--- New ELEMENT ---\n",
      "Fetching a question for:\n",
      "Mills County is the name of two counties in the United States:\n",
      " Mills County, Iowa\n",
      " Mills County, Texas\n",
      "\n",
      "Other \n",
      " Roger Mills County, Oklahoma\n",
      "LLM answered:\n"
     ]
    },
    {
     "name": "stderr",
     "output_type": "stream",
     "text": [
      " 24%|██████████████████▋                                                           | 24/100 [00:19<00:57,  1.32it/s]"
     ]
    },
    {
     "name": "stdout",
     "output_type": "stream",
     "text": [
      "New data point: {'chunk_id': 196591, 'question': 'How many counties have the name \"Mills County\" in the United States?', 'answer': 'Two'}\n",
      "--- New ELEMENT ---\n",
      "Fetching a question for:\n",
      "Mont-Disse is a commune of the Pyrénées-Atlantiques département in the southwestern part of France.\n",
      "\n",
      "Mont-Disse\n",
      "LLM answered:\n"
     ]
    },
    {
     "name": "stderr",
     "output_type": "stream",
     "text": [
      " 25%|███████████████████▌                                                          | 25/100 [00:20<00:56,  1.32it/s]"
     ]
    },
    {
     "name": "stdout",
     "output_type": "stream",
     "text": [
      "New data point: {'chunk_id': 71102, 'question': 'What commune is located in the Pyrénées-Atlantiques department of France?', 'answer': 'Mont-Disse'}\n",
      "--- New ELEMENT ---\n",
      "Fetching a question for:\n",
      "Prunus japonica (also Cerasus japonica) is a shrub in the genus Prunus.  It is also called Korean cherry, Flowering almond or Oriental bush cherry.  It is used for ornamental use. Its range goes from Central China through to the Korean peninsula. P. maximowiczii, the Miyama cherry is also often called Korean cherry.\n",
      "\n",
      "Description\n",
      "The shrub reaches 1.5 m by 1.5 m. Its flowers are hermaphrodite.  They are pollinated by insects. The plant blossoms in May. Its fruit reaches about 14 mm. It is used in making pies.\n",
      "\n",
      "Every fruit has one seed. The plant usually grows from seed.\n",
      "\n",
      "Other uses\n",
      "The leaves of this plant procure a green dye, while the fruit procures a greenish to grayish dye.\n",
      "\n",
      "Varieties\n",
      "There are several varieties:\n",
      "P. japonica eujaponica\n",
      "P. japonica gracillima\n",
      "P. kerii\n",
      "P. japonica nakaii, originated from Manchuria, which gives bigger plums (up to 50 mm in diameter).\n",
      "\n",
      "Other websites\n",
      "\n",
      "References \n",
      "\n",
      "Plants of Asia\n",
      "Prunus\n",
      "LLM answered:\n"
     ]
    },
    {
     "name": "stderr",
     "output_type": "stream",
     "text": [
      " 26%|████████████████████▎                                                         | 26/100 [00:21<00:59,  1.24it/s]"
     ]
    },
    {
     "name": "stdout",
     "output_type": "stream",
     "text": [
      "New data point: {'chunk_id': 125340, 'question': \"What is the average size of Prunus japonica's fruit?\", 'answer': '14\\xa0mm'}\n",
      "--- New ELEMENT ---\n",
      "Fetching a question for:\n",
      "Lyudmila Mikhaylovna Alexeyeva (, , 20 July 1927 — 8 December 2018) was a Russian historian and leading human rights activist. She was a founding member of the Moscow Helsinki Watch Group. Alexeyeva was one of the last Soviet dissidents active in modern Russia. She participated in the Strategy-31 protests. She was born in Yevpatoria, Crimea, Soviet Union.\n",
      "\n",
      "Alexeyeva died on 8 December 2018 in Moscow at the age of 91.\n",
      "\n",
      "References\n",
      "\n",
      "Other websites\n",
      "\n",
      " Lyudmila Alexeyeva's blog on LiveJournal\n",
      " The Alexeyeva File, National Security Archive Electronic Briefing Book, 20 July 2012\n",
      " \n",
      "\n",
      "1927 births\n",
      "2018 deaths\n",
      "Russian writers\n",
      "Russian historians\n",
      "Human rights activists\n",
      "LLM answered:\n"
     ]
    },
    {
     "name": "stderr",
     "output_type": "stream",
     "text": [
      " 27%|█████████████████████                                                         | 27/100 [00:22<01:01,  1.18it/s]"
     ]
    },
    {
     "name": "stdout",
     "output_type": "stream",
     "text": [
      "New data point: {'chunk_id': 199669, 'question': 'Where was Lyudmila Mikhaylovna Alexeyeva born?', 'answer': 'Yevpatoria, Crimea, Soviet Union'}\n",
      "--- New ELEMENT ---\n",
      "Fetching a question for:\n",
      "Heinz Oberhummer (19 May 1941 – 24 November 2015) was an Austrian physicist and skeptic. He was born in Bischofshofen and raised in Obertauern, Austria. Oberhummer was professor emeritus of Theoretical Physics at the Atominstitut of the Vienna University of Technology. His main research area was nucleosynthesis.\n",
      "\n",
      "Oberhummer died of pneumonia in Vienna, Austria, aged 74.\n",
      "\n",
      "References\n",
      "\n",
      "Other websites\n",
      " Articles of Heinz Oberhummer in arxiv.org\n",
      " Kann das alles Zufall sein? - Geheimnisvolles Universum, Ecowin-Verlag, 2008; Award for \"Best Popular Science Book in Austria 2009\"\n",
      " Science Busters\n",
      " Cinema and Science (CISCI)\n",
      " Neue Erkenntnisse zur Entstehung der Grundlagen für Leben \n",
      "\n",
      "1941 births\n",
      "2015 deaths\n",
      "Austrian educators\n",
      "Austrian physicists\n",
      "Austrian scientists\n",
      "Deaths from pneumonia\n",
      "Disease-related deaths in Austria\n",
      "People from Salzburgerland\n",
      "LLM answered:\n"
     ]
    },
    {
     "name": "stderr",
     "output_type": "stream",
     "text": [
      " 28%|█████████████████████▊                                                        | 28/100 [00:23<01:02,  1.14it/s]"
     ]
    },
    {
     "name": "stdout",
     "output_type": "stream",
     "text": [
      "New data point: {'chunk_id': 169210, 'question': 'Where was Heinz Oberhummer born?', 'answer': 'Heinz Oberhummer was born in Bischofshofen.'}\n",
      "--- New ELEMENT ---\n",
      "Fetching a question for:\n",
      "The Kansas City metropolitan area surrounds the city of Kansas City, Missouri. It includes 15 counties in both Missouri and Kansas. With a population of 2.34 million people, it is the second largest metropolitan area in Missouri behind Greater St. Louis. However, the Kansas city metropolitan area is currently showing a 3.1 percent growth rate. The St. Louis metropolitan area is only growing at a rate of .7 percent.\n",
      "\n",
      "References \n",
      "\n",
      "Kansas City, Missouri\n",
      "Metropolitan areas of the United States\n",
      "LLM answered:\n"
     ]
    },
    {
     "name": "stderr",
     "output_type": "stream",
     "text": [
      " 29%|██████████████████████▌                                                       | 29/100 [00:23<00:57,  1.23it/s]"
     ]
    },
    {
     "name": "stdout",
     "output_type": "stream",
     "text": [
      "New data point: {'chunk_id': 171027, 'question': 'How large is the Kansas City metropolitan area?', 'answer': '2.34 million people'}\n",
      "--- New ELEMENT ---\n",
      "Fetching a question for:\n",
      "Ranvir Singh (born 11 August 1977) is a British television presenter. She is the Political Editor and newsreader and a deputy presenter for Good Morning Britain.\n",
      "\n",
      "Early life\n",
      "Singh was born in 1977 in Preston, Lancashire in a Sikh family. Educated at Kirkham Grammar School, an independent school in Kirkham, Lancashire, she graduated from the University of Lancaster with a degree in English and Philosophy. She then gained a postgraduate qualification in journalism at the School of Journalism, Media and Communication, University of Lancashire.\n",
      "\n",
      "Career\n",
      "Singh joined BBC Radio Lancashire in 2002, initially on work experience before being a six-month contract. She then moved to BBC GMR, covering the 2002 Commenwealth Games in Manchester. Singh joined the BBC North West regional news programme North West Tonight in 2005 as a journalist and bulletin presenter. She was a co-presenter of the ITV Breakfast programme Daybreak and then did Good Morning Britain as a features correspondent and news presenter with Susanna Reid, Sean Fletcher, Ben Shephard and Charlotte Hawkins, then she has been a relief newscaster on the various ITV News bulletins, then did a factual programme Tonight as a reporter. Since March 2015, she has guest presented numerous Exposure specials. In 2016 and 2017, Singh co-presented The Martin Lewis Money Show alongside Martin Lewis, but was later replaced by Angellica Bell. And then Singh danced with a professional dancer in the eighteenth series of the BBC One celebrity dancing show Strictly Come Dancing since 2020.\n",
      "\n",
      "1977 births\n",
      "Living people\n",
      "People from Preston, Lancashire\n",
      "BBC newsreaders and journalists\n",
      "LLM answered:\n"
     ]
    },
    {
     "name": "stderr",
     "output_type": "stream",
     "text": [
      " 30%|███████████████████████▍                                                      | 30/100 [00:24<00:54,  1.28it/s]"
     ]
    },
    {
     "name": "stdout",
     "output_type": "stream",
     "text": [
      "New data point: {'chunk_id': 249838, 'question': 'Where was Ranvir Singh born?', 'answer': '1977'}\n",
      "--- New ELEMENT ---\n",
      "Fetching a question for:\n",
      "Boones Creek is an unincorporated community and neighborhood of Johnson City, in north Washington County, Tennessee. Almost all of Boones Creek has been annexed by Johnson City and has become a neighborhood of Johnson City. Much of it has the postal addresses of Gray, Tennessee. It follows Boone's Creek and other tributaries of Boone Lake. It is a part of the Tri-Cities area.\n",
      "\n",
      "History\n",
      "The community was the first permanent European settlement in Tennessee. It was named for the creek that runs through it. The creek is named for pioneer Daniel Boone.\n",
      "\n",
      "In the center of Boones Creek is a historic marker that tells the origins of the community's name.  Daniel Boone was a frontiersman and hunted over large areas of the early frontier lands.  On one of these hunting trips, he was chased by the local Indians.  He hid under a waterfall on Boones Creek, now called Boone Falls, from Indians to avoid their displeasure at him hunting on their lands. There was also a historic tree nearby.  A beech tree once stood with \"D Boon cilled a bar on tree in the year 1760\" etched on it. This tree was featured in the film \"Sergeant York\" when Alvin York (WWI hero) was trying to earn money by hunting and selling pelts. A large piece of the tree is now in the Boones Creek Historical Trust Museum and Opry.\n",
      "\n",
      "References\n",
      "\n",
      "Unincorporated communities in Tennessee\n",
      "Tri-Cities, Tennessee\n",
      "LLM answered:\n"
     ]
    },
    {
     "name": "stderr",
     "output_type": "stream",
     "text": [
      " 31%|████████████████████████▏                                                     | 31/100 [00:25<00:51,  1.34it/s]"
     ]
    },
    {
     "name": "stdout",
     "output_type": "stream",
     "text": [
      "New data point: {'chunk_id': 270520, 'question': 'Who was the community of Boones Creek named after?', 'answer': 'Daniel Boone'}\n",
      "--- New ELEMENT ---\n",
      "Fetching a question for:\n",
      "Carlos José Castilho (27 November 1927 – 2 February 1987) was a former Brazilian football player. He has played for Brazil national team.\n",
      "\n",
      "References\n",
      "\n",
      "1927 births\n",
      "1987 deaths\n",
      "Footballers from Rio de Janeiro\n",
      "Brazilian association football goalkeepers\n",
      "LLM answered:\n"
     ]
    },
    {
     "name": "stderr",
     "output_type": "stream",
     "text": [
      " 32%|████████████████████████▉                                                     | 32/100 [00:25<00:49,  1.38it/s]"
     ]
    },
    {
     "name": "stdout",
     "output_type": "stream",
     "text": [
      "New data point: {'chunk_id': 82644, 'question': 'Who was the Brazilian football player who played for the Brazil national team?', 'answer': 'Carlos José Castilho'}\n",
      "--- New ELEMENT ---\n",
      "Fetching a question for:\n",
      "Saint-Aubin-de-Branne is a commune. It is found in the Aquitaine region in the Gironde department in the southwest of France.\n",
      "\n",
      "Communes in Gironde\n",
      "LLM answered:\n"
     ]
    },
    {
     "name": "stderr",
     "output_type": "stream",
     "text": [
      " 33%|█████████████████████████▋                                                    | 33/100 [00:26<00:48,  1.38it/s]"
     ]
    },
    {
     "name": "stdout",
     "output_type": "stream",
     "text": [
      "New data point: {'chunk_id': 75796, 'question': 'What is the region where Saint-Aubin-de-Branne is found?', 'answer': 'Aquitaine'}\n",
      "--- New ELEMENT ---\n",
      "Fetching a question for:\n",
      "Simbox distributions \n",
      "Iliad introduced the Simboxes in Italy, a new type of sales point, conceived and created by the French group, Aures and already in use since 2014 on the French market by Free Mobile; these are SIM card vending machines, which allow customers to register and purchase it independently.\n",
      "\n",
      "Network \n",
      "Iliad signed an agreement, respectively, with Cellnex (February 2018) and INWIT (February 2019) in order to install its antennas on their towers.\n",
      "\n",
      "Iliad Italia utilises, inter alia, CommScope telecommunications equipment and collaborates with Cisco Systems (April 2019) and Nokia (September 2019) to implement a state-of-the-art national network (IPv6) in Italy based on segment routing (SRv6) and to achieve its 5G network.\n",
      "\n",
      "References\n",
      "\n",
      "Other websites\n",
      "  \n",
      "\n",
      "2010s establishments in Italy\n",
      "2016 establishments in Europe\n",
      "Companies of Italy\n",
      "Mobile phone companies\n",
      "Milan\n",
      "LLM answered:\n"
     ]
    },
    {
     "name": "stderr",
     "output_type": "stream",
     "text": [
      " 34%|██████████████████████████▌                                                   | 34/100 [00:27<00:45,  1.45it/s]"
     ]
    },
    {
     "name": "stdout",
     "output_type": "stream",
     "text": [
      "New data point: {'chunk_id': 210003, 'question': 'Who introduced Simboxes in Italy?', 'answer': 'Iliad'}\n",
      "--- New ELEMENT ---\n",
      "Fetching a question for:\n",
      "Hurricane Nate was an Atlantic hurricane in the 2005 Atlantic hurricane season. It came close to Bermuda, but did not land there. Nate was the 14th named storm and 7th hurricane of the 2005 season. It started southwest of Bermuda on September 5. It then moved northeast very slowly. It passed south of Bermuda and moved into colder waters. Then, it began to weaken. Nate later became part of a larger weather system.\n",
      "\n",
      "The storm caused no damage because it stayed at sea. However, one person was killed from rip currents that were caused by the storm. Nate caused light rainfall and gusty winds on Bermuda. Canadian Navy ships that were carrying supplies to help people after Hurricane Katrina were slowed down because of Nate.\n",
      "\n",
      "Hurricanes in Bermuda\n",
      "2005 Atlantic hurricane season\n",
      "2005 in Bermuda\n",
      "2000s in New Jersey\n",
      "2005 in the United States\n",
      "LLM answered:\n"
     ]
    },
    {
     "name": "stderr",
     "output_type": "stream",
     "text": [
      " 35%|███████████████████████████▎                                                  | 35/100 [00:27<00:49,  1.31it/s]"
     ]
    },
    {
     "name": "stdout",
     "output_type": "stream",
     "text": [
      "New data point: {'chunk_id': 78342, 'question': 'When did Hurricane Nate start southwest of Bermuda?', 'answer': 'September 5'}\n",
      "--- New ELEMENT ---\n",
      "Fetching a question for:\n",
      "The Colisée Pepsi (English: Pepsi Coliseum), formerly the Colisée de Québec (English: Quebec Coliseum) was a multi-purpose arena in Quebec City, Quebec. The arena opened on December 8, 1949, and was formerly home to the Quebec Remparts of the Quebec Major Junior Hockey League (QMJHL). It was also the home of the Quebec Nordiques of the World Hockey Association (WHA) and National Hockey League (NHL) from 1972 until 1995 when they relocated to Denver, Colorado to become the Avalanche.\n",
      "\n",
      "The 1971 Memorial Cup championship series was hosted at the arena and saw the Remparts defeat the Edmonton Oil Kings two games to none. The first game of the 1974 Summit Series between the Canadian WHA all-stars and the Soviet national team was held at the Coliseum, as well as one game in each of the 1976 and 1991 Canada Cups.\n",
      "\n",
      "References\n",
      "\n",
      "Other websites\n",
      "Official website \n",
      "\n",
      "Indoor arenas\n",
      "Quebec Major Junior Hockey League\n",
      "Sports buildings in Canada\n",
      "Sport in Quebec City\n",
      "1949 establishments in Canada\n",
      "LLM answered:\n"
     ]
    },
    {
     "name": "stderr",
     "output_type": "stream",
     "text": [
      " 36%|████████████████████████████                                                  | 36/100 [00:28<00:46,  1.36it/s]"
     ]
    },
    {
     "name": "stdout",
     "output_type": "stream",
     "text": [
      "New data point: {'chunk_id': 158310, 'question': 'What city was the Colisée Pepsi located in?', 'answer': 'Quebec City'}\n",
      "--- New ELEMENT ---\n",
      "Fetching a question for:\n",
      "A visitor center (also called a visitor centre or tourist information center) is a place where people can find information about the place where the visitor center is located. It is generally used by people who are on vacation or holiday so they can learn about things to do and see.\n",
      "\n",
      "Buildings and structures\n",
      "Tourism\n",
      "LLM answered:\n"
     ]
    },
    {
     "name": "stderr",
     "output_type": "stream",
     "text": [
      " 37%|████████████████████████████▊                                                 | 37/100 [00:29<00:55,  1.14it/s]"
     ]
    },
    {
     "name": "stdout",
     "output_type": "stream",
     "text": [
      "New data point: {'chunk_id': 181039, 'question': 'What is a typical purpose of a visitor center?', 'answer': 'Visitor centers are used by people who are on vacation or holiday so they can learn about things to do and see.'}\n",
      "--- New ELEMENT ---\n",
      "Fetching a question for:\n",
      "Peyrieu is a commune. It is found in the region Auvergne-Rhône-Alpes in the Ain department  in the east of France.\n",
      "LLM answered:\n"
     ]
    },
    {
     "name": "stderr",
     "output_type": "stream",
     "text": [
      " 38%|█████████████████████████████▋                                                | 38/100 [00:30<00:53,  1.17it/s]"
     ]
    },
    {
     "name": "stdout",
     "output_type": "stream",
     "text": [
      "New data point: {'chunk_id': 70164, 'question': 'What region is Peyrieu found in?', 'answer': 'Auvergne-Rhône-Alpes'}\n",
      "--- New ELEMENT ---\n",
      "Fetching a question for:\n",
      "Kevin Brady Dillon (born August 19, 1965) is an American actor. He played Johnny \"Drama\" Chase on the HBO comedy series Entourage and Bunny in the war movie Platoon.\n",
      "\n",
      "References\n",
      "\n",
      "1965 births\n",
      "Living people\n",
      "American movie actors\n",
      "American television actors\n",
      "American stage actors\n",
      "Actors from New York\n",
      "LLM answered:\n"
     ]
    },
    {
     "name": "stderr",
     "output_type": "stream",
     "text": [
      " 39%|██████████████████████████████▍                                               | 39/100 [00:31<00:46,  1.30it/s]"
     ]
    },
    {
     "name": "stdout",
     "output_type": "stream",
     "text": [
      "New data point: {'chunk_id': 242197, 'question': 'When was Kevin Brady Dillon born?', 'answer': 'August 19, 1965'}\n",
      "--- New ELEMENT ---\n",
      "Fetching a question for:\n",
      "Soil structure (clumps)\n",
      "The smallest parts of soil are sand and silt and clay. Those small parts join to make larger parts we call \"clumps\" or \"aggregates\". The clumps are made when sand and silt and clay stick together. The humus and clay and  minerals in the soil are like glue. The glue sticks the sand and silt and clay together and makes clumps. The clumps make shapes by themselves. Some soils have small round clumps. Other soils have large, hard and flat clumps. The soil with small round clumps is best because it lets in air and water. A little glue is best. If the soil has only a little glue there will be space for water and air and the soil will be soft. If the soil has too much glue the soil will be hard. If the soil has no glue, there will be no space in the soil for air and water. A soil with no spaces is not healthy. Worms in the soil make a slippery glue. When worms make holes in the soil they leave some glue in the soil. Plant roots also make spaces in the soil. When the roots die they leave holes in the soil.\n",
      "\n",
      "Soil horizons (layers) \n",
      "LLM answered:\n"
     ]
    },
    {
     "name": "stderr",
     "output_type": "stream",
     "text": [
      " 40%|███████████████████████████████▏                                              | 40/100 [00:31<00:45,  1.31it/s]"
     ]
    },
    {
     "name": "stdout",
     "output_type": "stream",
     "text": [
      "New data point: {'chunk_id': 6436, 'question': '\"What are the smallest parts of soil?\"', 'answer': '\"sand and silt and clay\"'}\n",
      "--- New ELEMENT ---\n",
      "Fetching a question for:\n",
      "Statenville is a census-designated place (CDP) in the U.S. state of Georgia. It is the county seat of Echols County.\n",
      "\n",
      "Census-designated places in Georgia (U.S. state)\n",
      "County seats in Georgia\n",
      "LLM answered:\n"
     ]
    },
    {
     "name": "stderr",
     "output_type": "stream",
     "text": [
      " 41%|███████████████████████████████▉                                              | 41/100 [00:32<00:41,  1.41it/s]"
     ]
    },
    {
     "name": "stdout",
     "output_type": "stream",
     "text": [
      "New data point: {'chunk_id': 227974, 'question': 'What is the county seat of Echols County?', 'answer': 'Statenville'}\n",
      "--- New ELEMENT ---\n",
      "Fetching a question for:\n",
      "The Austin serial bombings were a series of five parcel bomb explosions which occurred from March 2 - 20, 2018 in Austin, Texas, United States. They killed two civilians and the bomber, as well as injuring another six people.\n",
      "\n",
      "The suspected bomber was Mark Anthony Conditt, age 23, who lived in Pflugerville, Texas, outside Austin.\n",
      "\n",
      "Background\n",
      "The Austin Police Department (APD) believe the explosions were connected and considered the possibility that they are racially motivated. They have also warned civilians to not open suspicious packages, and to call the police.\n",
      "\n",
      "Austin police officially connected the March 2 bombing following the bombings on March 12. None of the packages were mailed, instead they were placed near the individuals' homes. Two of the bombs were triggered upon being picked up, another was triggered upon being opened, and the fourth bombing was suspected to be activated by tripwire.\n",
      "\n",
      "On March 2, 2018, 39-year-old Anthony Stephan House was killed by picking up an apparent package bomb at his home. Then, on March 13, 2018, the bombings killed 17-year-old cellist Draylen Mason. \n",
      "LLM answered:\n"
     ]
    },
    {
     "name": "stderr",
     "output_type": "stream",
     "text": [
      " 42%|████████████████████████████████▊                                             | 42/100 [00:33<00:40,  1.42it/s]"
     ]
    },
    {
     "name": "stdout",
     "output_type": "stream",
     "text": [
      "New data point: {'chunk_id': 190011, 'question': 'Who was the first victim of the Austin serial bombings?', 'answer': 'Anthony Stephan House'}\n",
      "--- New ELEMENT ---\n",
      "Fetching a question for:\n",
      "Tendring is a village and civil parish in Tendring district, Essex, England. In 2001 there were 679 people living in Tendring.\n",
      "\n",
      "References \n",
      "\n",
      "Villages in Essex\n",
      "Civil parishes in Essex\n",
      "LLM answered:\n"
     ]
    },
    {
     "name": "stderr",
     "output_type": "stream",
     "text": [
      " 43%|█████████████████████████████████▌                                            | 43/100 [00:33<00:39,  1.45it/s]"
     ]
    },
    {
     "name": "stdout",
     "output_type": "stream",
     "text": [
      "New data point: {'chunk_id': 126908, 'question': 'What is the population of Tendring?', 'answer': '679'}\n",
      "--- New ELEMENT ---\n",
      "Fetching a question for:\n",
      "A mid-engine layout describes the location of an automobile engine between the front and rear axles.  A physics term, moment of inertia, shows how hard it is to turn a moving object. In a front engine front-wheel drive car, the drive wheels also have to steer the car, causing torque steer (pull to one side during Acceleration). Front-wheel drive can cause the vehicle to oversteer (turn more sharply than the driver expects) in a corner. A front engine rear-wheel drive can have good weight distribution (balance front to rear), but has a higher moment of inertia than mid engine layout. The mid-engine layout has none of these disadvantages. It has better weight distribution and a lower moment of inertia. Its main disadvantage is that the engine, mounted in the middle, leaves much less room for passengers and cargo. However, in racing there is usually only a driver so passengers and cargo are not an issue.\n",
      "\n",
      "References \n",
      "\n",
      "Automotive technologies\n",
      "LLM answered:\n"
     ]
    },
    {
     "name": "stderr",
     "output_type": "stream",
     "text": [
      " 44%|██████████████████████████████████▎                                           | 44/100 [00:34<00:43,  1.27it/s]"
     ]
    },
    {
     "name": "stdout",
     "output_type": "stream",
     "text": [
      "New data point: {'chunk_id': 173874, 'question': 'What is the main disadvantage of a mid-engine layout in a car?', 'answer': 'The engine, mounted in the middle, leaves much less room for passengers and cargo.'}\n",
      "--- New ELEMENT ---\n",
      "Fetching a question for:\n",
      "is an old province of Japan in the area of Miyagi Prefecture and Iwate Prefecture on the island of Honshū.  Along with Rikuchū and Mutsu Provinces, it was sometimes called .  The history of the province started in 1868 and ended in 1872.\n",
      "\n",
      "History\n",
      "\n",
      "in 1868, Rikuaen was separated from Mutsu.\n",
      "\n",
      "In the Meiji period, the provinces of Japan were converted into prefectures.  Maps of Japan and Rikuzen Province were reformed in the 1870s.\n",
      "\n",
      "Related pages\n",
      " Provinces of Japan\n",
      " Prefectures of Japan\n",
      " List of regions of Japan\n",
      " List of islands of Japan\n",
      " Sanriku\n",
      "\n",
      "References\n",
      "\n",
      "Other websites \n",
      "\n",
      "  Murdoch's map of provinces, 1903\n",
      "\n",
      "Former provinces of Japan\n",
      "Iwate Prefecture\n",
      "Miyagi Prefecture\n",
      "LLM answered:\n"
     ]
    },
    {
     "name": "stderr",
     "output_type": "stream",
     "text": [
      " 45%|███████████████████████████████████                                           | 45/100 [00:35<00:45,  1.21it/s]"
     ]
    },
    {
     "name": "stdout",
     "output_type": "stream",
     "text": [
      "New data point: {'chunk_id': 118948, 'question': 'What is the geographic area where Rikuzen Province was located?', 'answer': 'Iwate Prefecture and Miyagi Prefecture'}\n",
      "--- New ELEMENT ---\n",
      "Fetching a question for:\n",
      "The Armed Forces DNA Identification Laboratory (AFDIL) is a laboratory in America that studies DNA. It is run by the United States Armed Forces.\n",
      "\n",
      "AFDIL usually uses fingerprints from ID card records.\n",
      "\n",
      "Forensics\n",
      "Military of the United States\n",
      "Research organizations in the United States\n",
      "LLM answered:\n"
     ]
    },
    {
     "name": "stderr",
     "output_type": "stream",
     "text": [
      " 46%|███████████████████████████████████▉                                          | 46/100 [00:36<00:43,  1.25it/s]"
     ]
    },
    {
     "name": "stdout",
     "output_type": "stream",
     "text": [
      "New data point: {'chunk_id': 104448, 'question': 'What is the name of the laboratory in America that studies DNA?', 'answer': 'AFDIL'}\n",
      "--- New ELEMENT ---\n",
      "Fetching a question for:\n",
      "Birthday (Zoroastrianism)  March 26 - Day of Democracy (Mali)  March 28 - Serfs Emancipation Day (Tibet)  March 28 - Teachers' Day (Czech Republic and Slovakia)  March 29 - Boganda Day (Central African Republic)  March 29 - Youth Day (Republic of China)  March 31 - Cesar Chavez Day (United States)  March 31 - Freedom Day (Malta)\n",
      "LLM answered:\n"
     ]
    },
    {
     "name": "stderr",
     "output_type": "stream",
     "text": [
      " 47%|████████████████████████████████████▋                                         | 47/100 [00:37<00:37,  1.41it/s]"
     ]
    },
    {
     "name": "stdout",
     "output_type": "stream",
     "text": [
      "New data point: {'chunk_id': 796, 'question': 'What is the day of democracy?', 'answer': 'March 26'}\n",
      "--- New ELEMENT ---\n",
      "Fetching a question for:\n",
      "Carroll County is a county in the U.S. state of Ohio. In 2010, 28,836 people lived there. The county seat is Carrollton.\n",
      "\n",
      "1830s establishments in Ohio\n",
      "1833 establishments in the United States\n",
      "Ohio counties\n",
      "LLM answered:\n"
     ]
    },
    {
     "name": "stderr",
     "output_type": "stream",
     "text": [
      " 48%|█████████████████████████████████████▍                                        | 48/100 [00:37<00:35,  1.48it/s]"
     ]
    },
    {
     "name": "stdout",
     "output_type": "stream",
     "text": [
      "New data point: {'chunk_id': 223698, 'question': 'Where is the county seat of Carroll County in Ohio?', 'answer': 'Carrollton'}\n",
      "--- New ELEMENT ---\n",
      "Fetching a question for:\n",
      "In 1977, the federal government placed alligators on the endangered species list. They were removed from the endangered list in 1987 and Florida allowed selective hunting in 1988.\n",
      "\n",
      "Bird and turtle habitats\n",
      "In 1987, Brevard County, Florida hosted the last member of the Dusky Seaside Sparrow, now extinct. There have been only two extinct bird species since listing of endangered species began in 1973. This event has presented a challenge to ensure that other environmental concerns are addressed quickly.\n",
      "\n",
      "The Florida Scrub Jay has been thought to be threatened for many years, because the species is territorial and cannot move to better grounds when its habitat is in danger.\n",
      "\n",
      "Nesting beaches of loggerhead sea turtles are protected.\n",
      "\n",
      "References\n",
      "\n",
      "Other websites\n",
      "The Living Marine Resources of the Western Central Atlantic, Food and Agriculture Organization of the United Nations\n",
      " Energy and Environmental Data for Florida \n",
      " Executive Order 07-126 establishing climate leadership by example \n",
      " Executive Order 07-128 Action Team On Energy and Climate Change \n",
      "\n",
      "Florida\n",
      "LLM answered:\n"
     ]
    },
    {
     "name": "stderr",
     "output_type": "stream",
     "text": [
      " 49%|██████████████████████████████████████▏                                       | 49/100 [00:38<00:35,  1.44it/s]"
     ]
    },
    {
     "name": "stdout",
     "output_type": "stream",
     "text": [
      "New data point: {'chunk_id': 108872, 'question': '\"In what year were alligators removed from the endangered species list?\"', 'answer': 'In 1987'}\n",
      "--- New ELEMENT ---\n",
      "Fetching a question for:\n",
      " Authumes (71013)\n",
      " Bantanges (71018)\n",
      " Beaurepaire-en-Bresse (71027)\n",
      " Beauvernois (71028)\n",
      " Bellevesvre (71029)\n",
      " Bosjean (71044)\n",
      " Bouhans (71045)\n",
      " Branges (71056)\n",
      " Brienne (71061)\n",
      " Bruailles (71064)\n",
      " Champagnat (71079)\n",
      " Charette-Varennes (71101)\n",
      " Condal (71143)\n",
      " Cuiseaux (71157)\n",
      " Cuisery (71158)\n",
      " Dampierre-en-Bresse (71168)\n",
      " Devrouze (71173)\n",
      " Diconne (71175)\n",
      " Dommartin-lès-Cuiseaux (71177)\n",
      " Flacey-en-Bresse (71198)\n",
      " Frangy-en-Bresse (71205)\n",
      " Fretterans (71207)\n",
      " Frontenard (71208)\n",
      " Frontenaud (71209)\n",
      " Huilly-sur-Seille (71234)\n",
      " Joudes (71243)\n",
      " Jouvençon (71244)\n",
      " Juif (71246)\n",
      " L'Abergement-de-Cuisery (71001)\n",
      " La Chapelle-Naude (71092)\n",
      " La Chapelle-Saint-Sauveur (71093)\n",
      " La Chapelle-Thècle (71097)\n",
      " La Chaux (71121)\n",
      " La Frette (71206)\n",
      " La Genête (71213)\n",
      " La Racineuse (71364)\n",
      " Lays-sur-le-Doubs (71254)\n",
      " Le Fay (71196)\n",
      " Le Miroir (71300)\n",
      " Le Planois (71352)\n",
      " Le Tartre (71534)\n",
      " Loisy (71261)\n",
      " Louhans (71263)\n",
      " Mervans (71295)\n",
      " Montagny-près-Louhans (71303)\n",
      " Montcony (71311)\n",
      " Montjay (71314)\n",
      " Montpont-en-Bresse (71318)\n",
      " Montret (71319)\n",
      " Mouthier-en-Bresse (71326)\n",
      " Ménetreuil (71293)\n",
      " Ormes (71332)\n",
      " Pierre-de-Bresse (71351)\n",
      " Pourlans (71357)\n",
      " Rancy (71365)\n",
      " Ratte (71367)\n",
      " Sagy (71379)\n",
      " Saillenard (71380)\n",
      " Saint-André-en-Bresse (71386)\n",
      " Saint-Bonnet-en-Bresse (71396)\n",
      " Saint-Germain-du-Bois (71419)\n",
      " Saint-Martin-du-Mont (71454)\n",
      " Saint-Usuge (71484)\n",
      " Saint-Vincent-en-Bresse (71489)\n",
      " Saint-Étienne-en-Bresse (71410)\n",
      " Sainte-Croix (71401)\n",
      " Savigny-en-Revermont (71506)\n",
      " Savigny-sur-Seille (71508)\n",
      " Sens-sur-Seille (71514)\n",
      " Serley (71516)\n",
      " Serrigny-en-Bresse (71519)\n",
      " Simandre (71522)\n",
      " Simard (71523)\n",
      " Sornay (71528)\n",
      " Thurey (71538)\n",
      " Torpes (71541)\n",
      " Varennes-Saint-Sauveur (71558)\n",
      " Vincelles (71580)\n",
      " Vérissey (71568)\n",
      "\n",
      "The communes with more inhabitants in the arrondissement are:\n",
      "\n",
      "Related pages\n",
      " Arrondissements of the Saône-et-Loire department\n",
      " Communes of the Saône-et-Loire department\n",
      "\n",
      "References\n",
      "\n",
      "Louhans\n",
      "Bourgogne-Franche-Comté\n",
      "LLM answered:\n"
     ]
    },
    {
     "name": "stderr",
     "output_type": "stream",
     "text": [
      " 50%|███████████████████████████████████████                                       | 50/100 [00:39<00:38,  1.31it/s]"
     ]
    },
    {
     "name": "stdout",
     "output_type": "stream",
     "text": [
      "New data point: {'chunk_id': 161881, 'question': 'What is the name of the department for which Louhans is a commune?', 'answer': 'Louhans'}\n",
      "--- New ELEMENT ---\n",
      "Fetching a question for:\n",
      "Hank Stuever is an American journalist working for the Washington Post. He writes for its Style section about entertainment.\n",
      "\n",
      "Other websites\n",
      "Hank Stuever on Twitter.\n",
      "\n",
      "1968 births\n",
      "Living people\n",
      "LLM answered:\n"
     ]
    },
    {
     "name": "stderr",
     "output_type": "stream",
     "text": [
      " 51%|███████████████████████████████████████▊                                      | 51/100 [00:39<00:35,  1.39it/s]"
     ]
    },
    {
     "name": "stdout",
     "output_type": "stream",
     "text": [
      "New data point: {'chunk_id': 207310, 'question': 'What year was Hank Stuever born?', 'answer': '1968'}\n",
      "--- New ELEMENT ---\n",
      "Fetching a question for:\n",
      "A number and its opposite always add to zero. So the sum of −3 and +3 is 0. We can write this either as −3 + 3 = 0 or as 3 + (− 3) = 0. In addition, a number and its opposite are said to \"cancel each other out\".\n",
      "\n",
      "The set of negative real numbers is sometimes written as .\n",
      "\n",
      "Arithmetic with negative numbers \n",
      " Adding a negative number to something is the same as subtracting a positive number from it. For example, to add the negative number \"−1\" to the number \"9\" is the same as subtracting one from nine. In symbols:\n",
      " 9 + (−1) = 9 − 1 = 8\n",
      " Subtracting a negative number from something is the same as adding a positive number to it. For example, to subtract the negative number \"−8\" from the number \"6\" is the same as adding the number \"6\" and the number \"8\". In symbols:\n",
      " 6 − (−8) = 6 + 8 = 14\n",
      " A negative number multiplied by another negative number produces a positive number. For example, to multiply the negative number \"−3\" by the negative number \"−2\" is the same as multiplying the number \"3\" by the number \"2\". In symbols:\n",
      " (−3) × (−2) = 3 × 2 = 6\n",
      " A negative number multiplied by a positive number produces a negative number. For example, to multiply the negative number \"−4\" by the positive number \"5\" is like multiplying the number \"4\" by the number \"5\", but the answer is negative. In symbols:\n",
      " (−4) × 5 = −(4 × 5) = −20\n",
      "LLM answered:\n"
     ]
    },
    {
     "name": "stderr",
     "output_type": "stream",
     "text": [
      " 52%|████████████████████████████████████████▌                                     | 52/100 [00:41<00:45,  1.06it/s]"
     ]
    },
    {
     "name": "stdout",
     "output_type": "stream",
     "text": [
      "New data point: {'chunk_id': 19299, 'question': 'Here are the question/answer pairs:\\n\\nWhat happens when you add a negative number to something?', 'answer': 'Adding a negative number to something is the same as subtracting a positive number from it.\\n\\nWhat is the result of subtracting a negative number from'}\n",
      "--- New ELEMENT ---\n",
      "Fetching a question for:\n",
      "Sheila Rena Ingram (March 23, 1957 – September 1, 2020) was an American athlete. She competed mainly in the 400 metres. She was born in Washington, D.C.. She competed for United States in the 1976 Summer Olympics, winning a silver medal.\n",
      "\n",
      "Ingram died on September 1, 2020 at the age of 63.\n",
      "\n",
      "References\n",
      "\n",
      "1957 births\n",
      "2020 deaths\n",
      "American track and field athletes\n",
      "American Olympic silver medalists\n",
      "Sportspeople from Washington, D.C.\n",
      "LLM answered:\n"
     ]
    },
    {
     "name": "stderr",
     "output_type": "stream",
     "text": [
      " 53%|█████████████████████████████████████████▎                                    | 53/100 [00:42<00:40,  1.16it/s]"
     ]
    },
    {
     "name": "stdout",
     "output_type": "stream",
     "text": [
      "New data point: {'chunk_id': 234549, 'question': 'Where was Sheila Rena Ingram born?', 'answer': 'Washington, D.C.'}\n",
      "--- New ELEMENT ---\n",
      "Fetching a question for:\n",
      "The Asian Handball Nations Championship is the official competition for senior national handball teams of Asia (since 2018, also includes teams from Oceania), and takes place every two years. In addition to crowning the Asian champions, the tournament also serves as a qualifying tournament for the World Championship.\n",
      "\n",
      "Summary\n",
      "\n",
      "Medal table\n",
      "\n",
      "Related pages\n",
      "Asian Women's Handball Championship\n",
      "Asian Men's Junior Handball Championship\n",
      "Asian Men's Youth Handball Championship\n",
      "\n",
      "Other websites\n",
      "Asian Handball Federation\n",
      "Archives at Todor66.com\n",
      "\n",
      " \n",
      "Handball\n",
      "LLM answered:\n"
     ]
    },
    {
     "name": "stderr",
     "output_type": "stream",
     "text": [
      " 54%|██████████████████████████████████████████                                    | 54/100 [00:42<00:37,  1.22it/s]"
     ]
    },
    {
     "name": "stdout",
     "output_type": "stream",
     "text": [
      "New data point: {'chunk_id': 233212, 'question': 'What is the official competition for senior national handball teams of Asia?', 'answer': 'The Asian Handball Nations Championship'}\n",
      "--- New ELEMENT ---\n",
      "Fetching a question for:\n",
      "Factors affecting price elasticity of demand  Factors that affect the price elasticity of demand for a good include:  Availability of substitutes: When substitutes of a good is more available, consumers would be able to choose between the different types of goods available. Hence, a good with more substitutes available would be more price elastic as an increase in price would cause many consumers to change to one of the substitutes.  Closeness of substitutes: If the substitutes of a good is very similar to the original good, consumers are able to change between the different types of goods easily as it makes no difference in using either good. For example, the demand for a specific brand of sugar is likely to be price elastic as the taste of sugar is largely the same for different types of brands. Hence, a good with more similar substitutes would be more price elastic than one with less similar substitutes.  Degree of necessity: When a good has a high degree of necessity (i.e. the good is more of a need than a want), a change in the price would not have much difference in the quantity demanded for the good, thus having a price inelastic demand. For example, the demand for necessities like food would be more price inelastic compared to the demand for luxuries such as jewellery as consumers are more likely to reduce their demand for luxuries than for necessities. However, goods that are addictive (such as cigarettes and drugs) would be considered as necessities by addicts, thus causing them to have price inelastic demands.  Proportion of income: If a large part of income is used to buy the good, it would have a more price elastic demand. As the percentage change in the price of an expensive\n",
      "LLM answered:\n"
     ]
    },
    {
     "name": "stderr",
     "output_type": "stream",
     "text": [
      " 55%|██████████████████████████████████████████▉                                   | 55/100 [00:44<00:42,  1.06it/s]"
     ]
    },
    {
     "name": "stdout",
     "output_type": "stream",
     "text": [
      "New data point: {'chunk_id': 166234, 'question': '\"What affects the price elasticity of demand?\"', 'answer': 'Availability of substitutes, closeness of substitutes, degree of necessity, and proportion of income.'}\n",
      "--- New ELEMENT ---\n",
      "Fetching a question for:\n",
      "The Citroën Visa is a car produced by Citroën. Built in Rennes between 1978 and 1988 when it was replaced by the AX. Some were used in France by National Police.\n",
      "\n",
      "Visa\n",
      "1970s automobiles\n",
      "1980s automobiles\n",
      "LLM answered:\n"
     ]
    },
    {
     "name": "stderr",
     "output_type": "stream",
     "text": [
      " 56%|███████████████████████████████████████████▋                                  | 56/100 [00:44<00:39,  1.11it/s]"
     ]
    },
    {
     "name": "stdout",
     "output_type": "stream",
     "text": [
      "New data point: {'chunk_id': 139354, 'question': 'What was the production period of the Citroën Visa?', 'answer': '1978-1988'}\n",
      "--- New ELEMENT ---\n",
      "Fetching a question for:\n",
      "Rohrbachgraben is a municipality in the administrative district of Oberaargau in the canton of Berne in Switzerland.\n",
      "\n",
      "Villages\n",
      "Glasbach, Liemberg, Ganzenberg, Flückigen, Kaltenegg, Matten, Wald and Wil.\n",
      "\n",
      "References\n",
      "\n",
      "Other websites\n",
      "\n",
      " Official website of Rohrbachgraben \n",
      "\n",
      "Municipalities of Bern\n",
      "LLM answered:\n"
     ]
    },
    {
     "name": "stderr",
     "output_type": "stream",
     "text": [
      " 57%|████████████████████████████████████████████▍                                 | 57/100 [00:45<00:35,  1.22it/s]"
     ]
    },
    {
     "name": "stdout",
     "output_type": "stream",
     "text": [
      "New data point: {'chunk_id': 175075, 'question': 'Where is Rohrbachgraben located?', 'answer': 'Switzerland'}\n",
      "--- New ELEMENT ---\n",
      "Fetching a question for:\n",
      "The large-billed crow (Corvus macrorhynchos) is a type of crow found in East Asia. Sometimes people think that this bird is a raven. This crow is of least concern so it is safe. It is also called the jungle crow. The bird was called a 'gorilla crow' in Japan, this is because people said it looked like one when they were looking at it.\n",
      "\n",
      "References\n",
      "\n",
      "Corvids\n",
      "Birds of Asia\n",
      "LLM answered:\n"
     ]
    },
    {
     "name": "stderr",
     "output_type": "stream",
     "text": [
      " 58%|█████████████████████████████████████████████▏                                | 58/100 [00:46<00:38,  1.10it/s]"
     ]
    },
    {
     "name": "stdout",
     "output_type": "stream",
     "text": [
      "New data point: {'chunk_id': 213150, 'question': 'What is the other name for the large-billed crow?', 'answer': 'Jungle crow'}\n",
      "--- New ELEMENT ---\n",
      "Fetching a question for:\n",
      "A climbing route is a trail that a mountain climber uses to go up a mountain.\n",
      "It is often simply called a climb.\n",
      "\n",
      "Examples : D1 on The Diamond and The Nose on El Capitan are climbing routes.\n",
      "\n",
      "The difficulties and lengths of climbing routes (as well as descriptions and photographies) can be found in books called climbing guides. For instance, :en:Fifty Classic Climbs of North America is a climbing guide that describes climbing routes of North America.\n",
      "\n",
      "Mountains\n",
      "Rock climbing\n",
      "Trails\n",
      "LLM answered:\n"
     ]
    },
    {
     "name": "stderr",
     "output_type": "stream",
     "text": [
      " 59%|██████████████████████████████████████████████                                | 59/100 [00:47<00:36,  1.13it/s]"
     ]
    },
    {
     "name": "stdout",
     "output_type": "stream",
     "text": [
      "New data point: {'chunk_id': 118200, 'question': 'What is a climbing route used for?', 'answer': 'A climbing route is used for a mountain climber to go up a mountain.'}\n",
      "--- New ELEMENT ---\n",
      "Fetching a question for:\n",
      "East Kilbride is a large suburban town in the South Lanarkshire council area of Scotland. It is Scotland's first new town, and lies on high ground on the south side of the Cathkin Braes, about  southeast of Glasgow city centre. The Rotten Calder river flows along the east side of the settlement, northwards toward the River Clyde. The town is also known as the Polo Mint city due to its many roundabouts.\n",
      "\n",
      "Landmarks\n",
      "\n",
      "Dollan Baths \n",
      "One of the most significant buildings of an earlier phase of development was Dollan Baths leisure complex (opened 1968) which has Grade A listed status.\n",
      "\n",
      "Twin towns \n",
      "  Ballerup, Denmark\n",
      "\n",
      "Notable people \n",
      " William and John Hunter, medical pioneers, were born at Long Calderwood within the present-day area of East Kilbride.\n",
      " Lorraine Kelly, television presenter for GMTV was born in the town.\n",
      " Iain Harvie, guitarist with Scottish rock band Del Amitri, was an East Kilbride resident. His late father, John Harvie, was the popular headmaster of Claremont High School in East Kilbride in the 1980s and early 1990s.\n",
      " Actor John Hannah of Rebus and Four Weddings and a Funeral fame was a resident of East Kilbride, residing in the Murray area. He has recently caused debate in the area after commenting that it had \"gone downhill\" since he lived there .\n",
      " Scottish rock band The Jesus and Mary Chain was formed in the town.\n",
      " Muriel Gray, journalist and broadcaster, was born in the town.\n",
      " Chancery Stone, author of The DANNY Quadrilogy, was born in East Kilbride and lived in West Mains for the first 18 years of her life.\n",
      " Mikey, famous for his antics and passion for food in Calderglen High\n",
      " Roddy Frame, frontman of Scottish indie band Aztec Camera, was born in the town.\n",
      "\n",
      "References \n",
      "\n",
      "Towns in South Lanarkshire\n",
      "LLM answered:\n"
     ]
    },
    {
     "name": "stderr",
     "output_type": "stream",
     "text": [
      " 60%|██████████████████████████████████████████████▊                               | 60/100 [00:48<00:33,  1.20it/s]"
     ]
    },
    {
     "name": "stdout",
     "output_type": "stream",
     "text": [
      "New data point: {'chunk_id': 66827, 'question': 'What is the first new town in Scotland?', 'answer': 'East Kilbride'}\n",
      "--- New ELEMENT ---\n",
      "Fetching a question for:\n",
      "The Church was treated especially badly in lands that Germany took over.  In Austria, Catholic property was taken, Catholic organizations were closed, and many priests were sent to Dachau.  In Czechoslovakia, the Nazis refused to let people follow religious orders; closed schools; made religious teachings illegal; and sent priests to concentration camps.  Catholic people, bishops, clergy, and nuns protested and attacked Nazi policies.\n",
      "\n",
      "In 1942, Dutch bishops protested the mistreatment of the Jews. When the Dutch Archbishop refused to obey the Nazis, the Gestapo rounded up Catholic \"Jews\" and sent 92 to Auschwitz  A Dutch Catholic nun named Edith Stein was murdered at Auschwitz.  So was Maximilian Kolbe, a Polish priest.  Both were eventually made into Catholic saints by Pope John Paul II in the 1980s.  Other Catholic victims of the Holocaust have also been beatified, including some of the Polish priests who died at Dachau.\n",
      "\n",
      "Protestants\n",
      "LLM answered:\n"
     ]
    },
    {
     "name": "stderr",
     "output_type": "stream",
     "text": [
      " 61%|███████████████████████████████████████████████▌                              | 61/100 [00:48<00:32,  1.21it/s]"
     ]
    },
    {
     "name": "stdout",
     "output_type": "stream",
     "text": [
      "New data point: {'chunk_id': 171436, 'question': 'What did the Nazis refuse to let people follow in Czechoslovakia?', 'answer': 'Catholic religious orders'}\n",
      "--- New ELEMENT ---\n",
      "Fetching a question for:\n",
      "State Grid Corporation of China (SGCC; ) is a company owned by the government of the People's Republic of China which provides electricity to Northern China, Northeastern China, Eastern China, Central China and Northwestern China.\n",
      "\n",
      "Website\n",
      " State Grid Corporation of China\n",
      "\n",
      "China\n",
      "Electric power companies\n",
      "LLM answered:\n"
     ]
    },
    {
     "name": "stderr",
     "output_type": "stream",
     "text": [
      " 62%|████████████████████████████████████████████████▎                             | 62/100 [00:49<00:30,  1.26it/s]"
     ]
    },
    {
     "name": "stdout",
     "output_type": "stream",
     "text": [
      "New data point: {'chunk_id': 148078, 'question': 'Who is the owner of State Grid Corporation of China?', 'answer': \"Government of the People's Republic of China\"}\n",
      "--- New ELEMENT ---\n",
      "Fetching a question for:\n",
      "Saint-Vaast-sur-Seulles is a commune. It is found in the region Basse-Normandie in the Calvados department in the northwest of France.\n",
      "\n",
      "Communes in Calvados\n",
      "LLM answered:\n"
     ]
    },
    {
     "name": "stderr",
     "output_type": "stream",
     "text": [
      " 63%|█████████████████████████████████████████████████▏                            | 63/100 [00:50<00:29,  1.25it/s]"
     ]
    },
    {
     "name": "stdout",
     "output_type": "stream",
     "text": [
      "New data point: {'chunk_id': 77643, 'question': 'What region is Saint-Vaast-sur-Seulles found in?', 'answer': 'Basse-Normandie'}\n",
      "--- New ELEMENT ---\n",
      "Fetching a question for:\n",
      "Högsby Municipality () is a municipality in Kalmar County in southern Sweden. The seat is in Högsby.\n",
      "\n",
      "References\n",
      "\n",
      "Other websites\n",
      " Högsby Municipality\n",
      "\n",
      "Hogsby Municipality\n",
      "LLM answered:\n"
     ]
    },
    {
     "name": "stderr",
     "output_type": "stream",
     "text": [
      " 64%|█████████████████████████████████████████████████▉                            | 64/100 [00:51<00:26,  1.34it/s]"
     ]
    },
    {
     "name": "stdout",
     "output_type": "stream",
     "text": [
      "New data point: {'chunk_id': 143940, 'question': 'Where is the seat of Högsby Municipality?', 'answer': 'Högsby'}\n",
      "--- New ELEMENT ---\n",
      "Fetching a question for:\n",
      "Because composers were now writing opera it was important for the audience to hear the words clearly. In the Renaissance the groups of a choir were often singing several different words using different melodies all at once. This was called “polyphony”. Polyphony was widely used in instrumental music, but was not used in opera, which needed to tell a story without being confusing.\n",
      "\n",
      "When a soloist in an opera sings a song (an aria) the aria is in a particular mood. They called this “affection”. There were several “affections” or moods: there were arias about revenge, jealousy, anger, love, despair, peaceful happiness etc. Each movement in a concerto also had one particular mood. Music from later periods is different. For example: Haydn in the Classical Period would often change its mood during a piece.\n",
      "\n",
      "Suite\n",
      "The Baroque suite is a collection of dance movements written in the style of Baroque music. There is an accepted standard order in which the dances are performed. The five primary dances are the Overture, Allemande, Courante, Sarabande and Gigue. Many times a composer would add a Prelude before all the dances. Sometimes a composer would add another piece in between the Sarabande and the Gigue.\n",
      "\n",
      "There are many exceptions to the standard order, but the order of Prelude, Allemande, Courante, Sarabande, Other, and Gigue is most common. This can be easily remembered by the acronym PACSOG.\n",
      "\n",
      "Composers\n",
      "Here are a few of the most important composers of the Baroque period:\n",
      "\n",
      "Italy\n",
      "Giovanni Gabrieli (about 1553/6-1612)\n",
      "Claudio Monteverdi (1567-1643)\n",
      "Antonio Vivaldi (1678-1741)\n",
      "Arcangelo Corelli (1653-1713)\n",
      "Domenico Scarlatti (1685-1757)\n",
      "\n",
      "Germany\n",
      "Heinrich Schütz (1585-1672)\n",
      "Johann Sebastian Bach (1685-1750)\n",
      "\n",
      "England\n",
      "Henry Purcell (1659-1695)\n",
      "George Frideric Handel (1685-1759) (German born)\n",
      "\n",
      "France\n",
      "François Couperin (1668-1733)\n",
      "Jean-Philippe Rameau (1683-1764)\n",
      "\n",
      "Bibliography \n",
      "\n",
      " Music in the Baroque Era, Manfred Bukofzer; J.M.Dent 1948\n",
      "\n",
      "Periods in music history\n",
      "LLM answered:\n"
     ]
    },
    {
     "name": "stderr",
     "output_type": "stream",
     "text": [
      " 65%|██████████████████████████████████████████████████▋                           | 65/100 [00:51<00:25,  1.37it/s]"
     ]
    },
    {
     "name": "stdout",
     "output_type": "stream",
     "text": [
      "LLM Failed! returning None\n",
      "New data point: {'chunk_id': 24270, 'question': None, 'answer': None}\n",
      "--- New ELEMENT ---\n",
      "Fetching a question for:\n",
      "Aftermath\n",
      "Chapman did not try to get away, and was reading a book, The Catcher in the Rye, when police came to the scene. They arrested Chapman, who later pled guilty to Lennon's murder, telling the court God had told him to do so. He was sentenced to twenty-five years to life in prison in 1981. He later wrote to Yoko Ono, trying to apologize to her and explain his actions, but she did not answer. In 1985, actor Mark Lindsay Chapman lost the chance to portray Lennon in a movie about his life with Ono, because his name was similar to that of Lennon's killer.\n",
      "\n",
      "When Chapman became eligible for parole, he applied but was turned down. Ono gave a statement to the court, telling them that Lennon's death still hurt her and their son Sean Lennon every day, and they still felt his loss. She reminded them of how Chapman's act was only one among many celebrity stalkings and murders, and that paroling Chapman might give others the idea that what he did was acceptable. The court heard her words, and Chapman continues to be refused parole.\n",
      "LLM answered:\n"
     ]
    },
    {
     "name": "stderr",
     "output_type": "stream",
     "text": [
      " 66%|███████████████████████████████████████████████████▍                          | 66/100 [00:52<00:25,  1.34it/s]"
     ]
    },
    {
     "name": "stdout",
     "output_type": "stream",
     "text": [
      "New data point: {'chunk_id': 39159, 'question': 'What book was John Lennon reading when police arrived?', 'answer': 'The Catcher in the Rye'}\n",
      "--- New ELEMENT ---\n",
      "Fetching a question for:\n",
      "Igael Tumarkin (Hebrew: יגאל תומרקין; 23 October 1933 – 12 August 2021) was an Israeli painter and sculptor.\n",
      "\n",
      "Tumarkin's best known works are the Holocaust and Revival memorial in Rabin Square, Tel Aviv and his sculptures honoring dead soldiers in the Negev.\n",
      "\n",
      "References\n",
      "\n",
      "1933 births\n",
      "2021 deaths\n",
      "German sculptors\n",
      "German painters\n",
      "Naturalized citizens of Israel\n",
      "Israeli sculptors\n",
      "Israeli painters\n",
      "People from Dresden\n",
      "LLM answered:\n"
     ]
    },
    {
     "name": "stderr",
     "output_type": "stream",
     "text": [
      " 67%|████████████████████████████████████████████████████▎                         | 67/100 [00:53<00:25,  1.32it/s]"
     ]
    },
    {
     "name": "stdout",
     "output_type": "stream",
     "text": [
      "New data point: {'chunk_id': 258347, 'question': 'Who was Igael Tumarkin?', 'answer': 'Igael Tumarkin'}\n",
      "--- New ELEMENT ---\n",
      "Fetching a question for:\n",
      "(4) There are a large number of synonyms of the herb names, in both Chinese, English and Latin. This makes it even more essential to use the written form of the Chinese names to ensure accuracy.\n",
      "\n",
      "(5) Some herbs are prone to adulteration, substitution, or both. For example, Ling Zhi Cao (Cordyceps) can be substituted with an inactive form of the herb. If an extract is first made with water, the herb will be tasteless when dried and re-used/recycled. On the other hand, the genuine Ling Zhi tastes bitter, but few consumers would know the difference, especially if the herb is mixed in a prescription and boiled together with other herbs. The pharmacists themselves may not be aware, as some may trust their suppliers implicitly, and do not conduct regular testing.\n",
      "\n",
      "(6) Animal-based \"herbs\" are prone to substitution or adulteration, including Xiong Dan (bear bile / gall bladder) which looks very much like Niu Dan (bovine bile /gall bladder) when the gall bladder is dried, although Niu Dan is far less bitter in taste. Some are simply unavailable because they are banned in many countries. These include tiger parts, such as Hu Gu (tiger bone) which is substituted by bobcat bone, and Chuan San Jia (scales of the pangolin) which has no animal-based substitute. Niu Huang (bovine gallstone) is unavailable in many Western countries and Singapore because of its potential impact on pregnant women, although Niu Huang Pills with about 2% of Niu Huang are available in many Asian countries.\n",
      "\n",
      "Herbs\n",
      "LLM answered:\n"
     ]
    },
    {
     "name": "stderr",
     "output_type": "stream",
     "text": [
      " 68%|█████████████████████████████████████████████████████                         | 68/100 [00:54<00:28,  1.11it/s]"
     ]
    },
    {
     "name": "stdout",
     "output_type": "stream",
     "text": [
      "New data point: {'chunk_id': 70715, 'question': 'What is an example of an herb prone to adulteration?', 'answer': 'Ling Zhi Cao (Cordyceps).'}\n",
      "--- New ELEMENT ---\n",
      "Fetching a question for:\n",
      "Deer Creek is a town of Oklahoma in the United States.\n",
      "\n",
      "Towns in Oklahoma\n",
      "LLM answered:\n"
     ]
    },
    {
     "name": "stderr",
     "output_type": "stream",
     "text": [
      " 69%|█████████████████████████████████████████████████████▊                        | 69/100 [00:55<00:24,  1.28it/s]"
     ]
    },
    {
     "name": "stdout",
     "output_type": "stream",
     "text": [
      "New data point: {'chunk_id': 207841, 'question': 'Where is Deer Creek located?', 'answer': 'Oklahoma'}\n",
      "--- New ELEMENT ---\n",
      "Fetching a question for:\n",
      "The Wolf of Wall Street is an 2013 American black comedy movie directed by Martin Scorsese and produced by Leonardo DiCaprio. The movie is about a stockbroker who works on Wall Street in New York City during the 1990s. He runs a company that commits stock fraud and insider trading. The story is based on the memoirs of Jordan Belfort.\n",
      "\n",
      "DiCaprio plays Belfort (the stockbroker), Matthew McConaughey plays Mark Hanna, Jonah Hill plays Donnie Azoff, Rob Reiner plays Max Belfort and Kyle Chandler plays Denham. P. J. Byrne, Jon Favreau, Joanna Lumley, Margot Robbie, Spike Jonze, and Edward Herrmann also appear in the movie. The movie is 179 minutes long. Some sex scenes were cut away to prevent MPAA from giving NC-17. It was released on December 25, 2013. It was nominated for five Academy Awards, including Best Picture.\n",
      "\n",
      "Release dates\n",
      "\n",
      "Other websites \n",
      "\n",
      "2013 comedy movies\n",
      "2013 crime movies\n",
      "2010s biographical movies\n",
      "2010s black comedy movies\n",
      "2010s criminal comedy movies\n",
      "American biographical movies\n",
      "American black comedy movies\n",
      "American criminal comedy movies\n",
      "English-language movies\n",
      "Movies about drugs\n",
      "Movies directed by Martin Scorsese\n",
      "Movies set in New York City\n",
      "Movies set in the 1980s\n",
      "Movies set in the 1990s\n",
      "Trading movies\n",
      "Controversial movies\n",
      "LLM answered:\n"
     ]
    },
    {
     "name": "stderr",
     "output_type": "stream",
     "text": [
      " 70%|██████████████████████████████████████████████████████▌                       | 70/100 [00:56<00:31,  1.04s/it]"
     ]
    },
    {
     "name": "stdout",
     "output_type": "stream",
     "text": [
      "New data point: {'chunk_id': 148860, 'question': 'What year was the movie \"The Wolf of Wall Street\" released?', 'answer': '2013'}\n",
      "--- New ELEMENT ---\n",
      "Fetching a question for:\n",
      "Ugni is a genus of plants of the myrtle family (Myrtaceae). Four species belong to this genus, all from western America.\n",
      "\n",
      "Description\n",
      "\n",
      "They are small evergreen shrubs. The leaves are simple, entire, opposite, elliptical; they are 1–2 cm long and 0.2-2.5 cm broad, dark green, and with a spicy scent if broken into many small pieces.\n",
      "\n",
      "The solitary flowers are usually hanging; they are 1–2 cm diameter with four or five white or pale pink petals and many short stamens. The fruit is a small red or purple berry, 1 cm in diameter, with many seeds.\n",
      "\n",
      "Name\n",
      "The name comes from Uñi with which the Mapuches (native people from south-central Chile and southwestern Argentina) name the fruits of the best known species of the genus, Ugni molinae.\n",
      "\n",
      "The genus was formerly often included in either Myrtus or Eugenia; it is distinguished from these two genera by the hanging flowers with stamens shorter than the petals.\n",
      "\n",
      "The Russian botanist Nicolai Stepanowitsch Turczaninow created the genus Ugni in 1849.\n",
      "\n",
      "Where it grows\n",
      "All species of this genus are found in western South and Central America, native from southern Mexico to central southern Chile and Argentina.\n",
      "\n",
      "Species\n",
      "There are four species in this genus:'\n",
      " Ugni candollei (Barnéoud) O.Berg: Chile\n",
      " Ugni molinaeTurcz.: Chile and Argentina\n",
      " Ugni myricoides (Kunth) O.Berg: Southern Mexico, Central America to Bolivia, Venezuela and northern Brazil\n",
      " Ugni selkirkii (Hook. & Arn.) O.Berg: Endemic species of the Juan Fernández Islands, Chile\n",
      "\n",
      "Uses\n",
      "Ugni molinae is grown as an ornamental plant and for its edible fruits; these fruits are also used to make jams.\n",
      "\n",
      "References\n",
      "\n",
      "Other websites\n",
      "\n",
      " Ugni in Encyclopedia of the Chilean Flora\n",
      " Ugni molinae at ChileBosque\n",
      " Flora of Chile: Ugni\n",
      " Trees and shrubs of Ecuador: Ugni\n",
      "\n",
      "Shrubs\n",
      "Myrtaceae\n",
      "LLM answered:\n"
     ]
    },
    {
     "name": "stderr",
     "output_type": "stream",
     "text": [
      " 71%|███████████████████████████████████████████████████████▍                      | 71/100 [00:57<00:29,  1.02s/it]"
     ]
    },
    {
     "name": "stdout",
     "output_type": "stream",
     "text": [
      "New data point: {'chunk_id': 143487, 'question': 'Here is the first question/answer pair:\\n\\nWhat is the family of plants that Ugni belongs to?', 'answer': 'Myrtaceae'}\n",
      "--- New ELEMENT ---\n",
      "Fetching a question for:\n",
      "Miaphysitism (or henophysitism) is an idea about the nature of Christ. The idea says that Jesus Christ had two different aspects, one godly, and one human. It says these two aspects are united in one nature. They are indistinguishable, and they co-exist.  This is very close to the idea of dualism which says that the mind and the body are separate things that combine to make one unit, the person. In the case of miaphysitism, the separate things are Jesus' divine and human traits.  \n",
      "\n",
      "Miaphysitism has often been considered by Chalcedonian Christians to be a form of monophysitism, but the Oriental Orthodox Churches themselves reject this characterization, Recently, the Eastern Orthodox and Roman Catholic Churches have begun to take this position more seriously.\n",
      "\n",
      "References\n",
      "\n",
      "Christology\n",
      "LLM answered:\n"
     ]
    },
    {
     "name": "stderr",
     "output_type": "stream",
     "text": [
      " 72%|████████████████████████████████████████████████████████▏                     | 72/100 [00:59<00:32,  1.18s/it]"
     ]
    },
    {
     "name": "stdout",
     "output_type": "stream",
     "text": [
      "New data point: {'chunk_id': 54805, 'question': 'What is miaphysitism?', 'answer': 'According to the text, miaphysitism is an idea about the nature of Christ that says Jesus Christ had two different aspects, one godly, and one human, united in one nature.'}\n",
      "--- New ELEMENT ---\n",
      "Fetching a question for:\n",
      "Gabriella Tucci (4 August 1929 – 11 July 2020) was an Italian operatic soprano. She was born in Rome. She made her debut at La Scala in Milan in 1959, as Mimi in La bohème.\n",
      "\n",
      "Tucci performed as Donna Elvira in Don Giovanni, Elvira in I puritani, Gilda in Rigoletto, Violetta in La traviata,  and Marguerite in Faust, as well as Maddalena in Andrea Chénier and the title role in Tosca.\n",
      "\n",
      "Tucci died on 11 July 2020 in Rome, aged 90.\n",
      "\n",
      "References\n",
      "\n",
      "Other websites\n",
      " GabriellaTucci.it\n",
      "\n",
      "1929 births\n",
      "2020 deaths\n",
      "Italian opera singers\n",
      "Italian stage actors\n",
      "Italian singers\n",
      "Actors from Rome\n",
      "LLM answered:\n"
     ]
    },
    {
     "name": "stderr",
     "output_type": "stream",
     "text": [
      " 73%|████████████████████████████████████████████████████████▉                     | 73/100 [00:59<00:26,  1.00it/s]"
     ]
    },
    {
     "name": "stdout",
     "output_type": "stream",
     "text": [
      "New data point: {'chunk_id': 229394, 'question': 'Where was Gabriella Tucci born?', 'answer': 'Rome'}\n",
      "--- New ELEMENT ---\n",
      "Fetching a question for:\n",
      "Covington County is the name of two counties in the United States:\n",
      " Covington County, Alabama\n",
      " Covington County, Mississippi\n",
      "LLM answered:\n"
     ]
    },
    {
     "name": "stderr",
     "output_type": "stream",
     "text": [
      " 74%|█████████████████████████████████████████████████████████▋                    | 74/100 [01:00<00:21,  1.19it/s]"
     ]
    },
    {
     "name": "stdout",
     "output_type": "stream",
     "text": [
      "New data point: {'chunk_id': 208163, 'question': 'Where is Covington County located?', 'answer': 'Alabama and Mississippi'}\n",
      "--- New ELEMENT ---\n",
      "Fetching a question for:\n",
      "Kama Sutra: A Tale of Love is a 1996 erotic romance movie. While this movie was being shot in India, the name of the movie was kept secret because the Indian government would not have allowed filming with the name \"Kama Sutra\". It was instead named \"Maya & Tara\". When the movie was finished, it was banned in India due to the erotic scenes, especially homosexual scenes.\n",
      "\n",
      "In the United States, this movie was originally rated NC-17. It was later trimmed and re-rated R.\n",
      "\n",
      "Other websites \n",
      "\n",
      "1996 movies\n",
      "1990s LGBT movies\n",
      "1990s romantic drama movies\n",
      "English-language movies\n",
      "Indian movies\n",
      "LLM answered:\n"
     ]
    },
    {
     "name": "stderr",
     "output_type": "stream",
     "text": [
      " 75%|██████████████████████████████████████████████████████████▌                   | 75/100 [01:01<00:21,  1.19it/s]"
     ]
    },
    {
     "name": "stdout",
     "output_type": "stream",
     "text": [
      "New data point: {'chunk_id': 143372, 'question': 'What was the original rating of Kama Sutra: A Tale of Love in the United States?', 'answer': 'NC-17'}\n",
      "--- New ELEMENT ---\n",
      "Fetching a question for:\n",
      "Margival is a commune. It is found in the region Picardie in the Aisne department in the north of France.\n",
      "\n",
      "Communes in Aisne\n",
      "LLM answered:\n"
     ]
    },
    {
     "name": "stderr",
     "output_type": "stream",
     "text": [
      " 76%|███████████████████████████████████████████████████████████▎                  | 76/100 [01:02<00:20,  1.17it/s]"
     ]
    },
    {
     "name": "stdout",
     "output_type": "stream",
     "text": [
      "New data point: {'chunk_id': 72234, 'question': 'What is the region where Margival is located?', 'answer': 'Margival is located in the region Picardie.'}\n",
      "--- New ELEMENT ---\n",
      "Fetching a question for:\n",
      "Fünfstetten is a municipality in the district of Donau-Ries in Bavaria in Germany. The mayor is currently Christa Lechner of the CSU party.\n",
      "\n",
      "References \n",
      "\n",
      "Donau-Ries\n",
      "LLM answered:\n"
     ]
    },
    {
     "name": "stderr",
     "output_type": "stream",
     "text": [
      " 77%|████████████████████████████████████████████████████████████                  | 77/100 [01:02<00:20,  1.14it/s]"
     ]
    },
    {
     "name": "stdout",
     "output_type": "stream",
     "text": [
      "New data point: {'chunk_id': 182650, 'question': 'What is the current mayor of Fünfstetten?', 'answer': 'Christa Lechner'}\n",
      "--- New ELEMENT ---\n",
      "Fetching a question for:\n",
      "Nabil Elaraby (Arabic: نبيل العربي; born 15 March 1935) is an Egyptian diplomat. He was Secretary-General of the Arab League from 1 July 2011 to 3 July 2016. He was Foreign Affairs Minister of Egypt in Essam Sharaf's government from March to June 2011.\n",
      "\n",
      "Since December 2008 he is the Director of the Regional Cairo Centre for International Commercial Arbitration.\n",
      "\n",
      "References\n",
      "\n",
      "1935 births\n",
      "Living people\n",
      "Ambassadors of Egypt\n",
      "Egyptian politicians\n",
      "People from Cairo\n",
      "Secretaries General of the Arab League\n",
      "LLM answered:\n"
     ]
    },
    {
     "name": "stderr",
     "output_type": "stream",
     "text": [
      " 78%|████████████████████████████████████████████████████████████▊                 | 78/100 [01:04<00:21,  1.05it/s]"
     ]
    },
    {
     "name": "stdout",
     "output_type": "stream",
     "text": [
      "New data point: {'chunk_id': 195419, 'question': 'Who was the Secretary-General of the Arab League from 1 July 2011 to 3 July 2016?', 'answer': 'Nabil Elaraby'}\n",
      "--- New ELEMENT ---\n",
      "Fetching a question for:\n",
      "Jeotgalicoccus psychrophilus is a gram-positive bacterium.\n",
      "The cells are coccoid. It is psychrophilic. It growth between 4 and 34 °C.\n",
      "\n",
      "It belongs to the family Staphylococcaceae.\n",
      "\n",
      "References\n",
      "\n",
      "Gram-positive bacteria\n",
      "LLM answered:\n"
     ]
    },
    {
     "name": "stderr",
     "output_type": "stream",
     "text": [
      " 79%|█████████████████████████████████████████████████████████████▌                | 79/100 [01:05<00:19,  1.05it/s]"
     ]
    },
    {
     "name": "stdout",
     "output_type": "stream",
     "text": [
      "New data point: {'chunk_id': 163544, 'question': 'What is the type of bacterium Jeotgalicoccus psychrophilus?', 'answer': 'Gram-positive bacterium'}\n",
      "--- New ELEMENT ---\n",
      "Fetching a question for:\n",
      "Brave is a free web browser made by Brave Software, Inc. based on the Chromium web browser, which is the browser Google Chrome is also based on. The browser web blocks ads and website trackers. Brave has a Get paid to surf business model, where users get small amounts of a cryptocurrency called the Basic Attention Token for seeing ads inside the browser, which they can give to their favorite authors.\n",
      "\n",
      "As of 2019, Brave has been created for Windows, macOS, Linux, Android, and iOS. It includes 5 search engines, including duckduckgo as the main.\n",
      "\n",
      "References \n",
      "\n",
      "Web browsers\n",
      "LLM answered:\n"
     ]
    },
    {
     "name": "stderr",
     "output_type": "stream",
     "text": [
      " 80%|██████████████████████████████████████████████████████████████▍               | 80/100 [01:05<00:17,  1.14it/s]"
     ]
    },
    {
     "name": "stdout",
     "output_type": "stream",
     "text": [
      "New data point: {'chunk_id': 210775, 'question': 'What platforms does Brave browser support?', 'answer': 'Android, iOS, Linux, macOS, Windows'}\n",
      "--- New ELEMENT ---\n",
      "Fetching a question for:\n",
      "There are 816 communes in the Aisne département in France.\n",
      "\n",
      "Aisne\n",
      "LLM answered:\n"
     ]
    },
    {
     "name": "stderr",
     "output_type": "stream",
     "text": [
      " 81%|███████████████████████████████████████████████████████████████▏              | 81/100 [01:06<00:15,  1.20it/s]"
     ]
    },
    {
     "name": "stdout",
     "output_type": "stream",
     "text": [
      "New data point: {'chunk_id': 71779, 'question': 'How many communes are in the Aisne département in France?', 'answer': '816'}\n",
      "--- New ELEMENT ---\n",
      "Fetching a question for:\n",
      "Brian Roy \"Spinner\" Spencer (September 3, 1949 – June 3, 1988) was a Canadian professional ice hockey left winger. He played a career total of 10 seasons in the National Hockey League (NHL). He played for the Toronto Maple Leafs, New York Islanders, Buffalo Sabres and Pittsburgh Penguins.\n",
      "\n",
      "Career\n",
      "Spencer was drafted 55th overall by the Toronto Maple Leafs in the 1969 NHL Amateur Draft. On December 12, 1970, He was called up to play for the Leafs in what would be his first NHL game on television. Spencer phoned his father Roy in British Columbia to tell him to watch the game that night on Hockey Night in Canada. There was an interview with Spencer between periods of the game. However, in British Columbia, instead of the Toronto Maple Leafs/Chicago Black Hawks game being shown, CBC Television aired a game featuring the Vancouver Canucks versus the California Golden Seals instead. Roy was infuriated by this and drove 135 kilometres (84 mi) to Prince George, where the closest CBC Television station, CKPG-TV, is located. When he arrived there, he ordered station staff, at gunpoint, to broadcast the Maple Leafs/Black Hawks game instead. The station did put the game on, but as Roy left the station, he was confronted by the RCMP. After he had a short stand-off with the RCMP, Roy Spencer was shot and killed. He played 95 regular season games with the Maple Leafs and also spent time with their developmental team, the Tulsa Oilers.\n",
      "LLM answered:\n"
     ]
    },
    {
     "name": "stderr",
     "output_type": "stream",
     "text": [
      " 82%|███████████████████████████████████████████████████████████████▉              | 82/100 [01:07<00:14,  1.22it/s]"
     ]
    },
    {
     "name": "stdout",
     "output_type": "stream",
     "text": [
      "New data point: {'chunk_id': 158877, 'question': 'What team was Spencer drafted by in the 1969 NHL Amateur Draft?', 'answer': 'Toronto Maple Leafs'}\n",
      "--- New ELEMENT ---\n",
      "Fetching a question for:\n",
      "Osteoporosis is the weakening of bones in the body. It is caused by lack of calcium deposited in the bones. This lack of calcium causes the bones to become brittle. They break easily. Side effects include limping. Some symptoms late in the disease include pain in the bones, bones breaking very easily and lower back pain due to spinal bone fractures. It is more likely for a woman to get osteoporosis than a man. Elderly people are more likely to develop osteoporosis than younger people.  The amount of calcium in the bones decreases as a person gets older. There are three kinds of osteoporosis.\n",
      "\n",
      "There is no cure for osteoporosis. A person can keep it from happening by exercising and taking the right amount of calcium each day. 75 million people in the United States, Japan, and Europe have osteoporosis. 30 million people in the US have poor bone density. Vitamin D, calcium, and exercise are the three main things for healthy bones. Consuming too much alcohol and caffeine can cause an increase in the risk of weak bones. Too much salt increases the amount of calcium lost in urine. This is bad because calcium makes bones strong. People should not take iron and calcium supplements at the same time. This is because calcium competes with the absorption of minerals such as iron.\n",
      "\n",
      "References\n",
      "\n",
      "Diseases and disorders of bones\n",
      "LLM answered:\n"
     ]
    },
    {
     "name": "stderr",
     "output_type": "stream",
     "text": [
      " 83%|████████████████████████████████████████████████████████████████▋             | 83/100 [01:08<00:14,  1.21it/s]"
     ]
    },
    {
     "name": "stdout",
     "output_type": "stream",
     "text": [
      "New data point: {'chunk_id': 88389, 'question': 'Here are the questions and answers:\\n\\nWho is more likely to get osteoporosis?', 'answer': 'A woman.'}\n",
      "--- New ELEMENT ---\n",
      "Fetching a question for:\n",
      "Lowell Fillmore \"Sly\" Dunbar (born 10 May 1952) is a Jamaican reggae drummer. He is best known as one half of the prolific Jamaican rhythm section and reggae production duo Sly and Robbie.\n",
      "\n",
      "References\n",
      "\n",
      "1952 births\n",
      "Living people\n",
      "Jamaican entertainers\n",
      "Reggae musicians\n",
      "Drummers\n",
      "Record producers\n",
      "LLM answered:\n"
     ]
    },
    {
     "name": "stderr",
     "output_type": "stream",
     "text": [
      " 84%|█████████████████████████████████████████████████████████████████▌            | 84/100 [01:08<00:12,  1.32it/s]"
     ]
    },
    {
     "name": "stdout",
     "output_type": "stream",
     "text": [
      "New data point: {'chunk_id': 266116, 'question': \"What is Sly Dunbar's birth year?\", 'answer': '1952'}\n",
      "--- New ELEMENT ---\n",
      "Fetching a question for:\n",
      "Bengt Walter Feldreich (12 September 1925 – 21 October 2019) was a Swedish radio and television journalist, producer and television presenter. He worked for public service between 1950 until 1985. He produced and hosted the show \"Snillen spekulerar\" on SVT, the annual Christmas Eve broadcasts from the same channel. He was born in Stockholm.\n",
      "\n",
      "Feldreich died on 21 October 2019 in Stockholm at the age of 94, from pneumonia.\n",
      "\n",
      "References\n",
      "\n",
      "Deaths from pneumonia\n",
      "Television producers\n",
      "Swedish radio personalities\n",
      "Swedish television personalities\n",
      "Swedish television presenters\n",
      "Swedish journalists\n",
      "2019 deaths\n",
      "1925 births\n",
      "LLM answered:\n"
     ]
    },
    {
     "name": "stderr",
     "output_type": "stream",
     "text": [
      " 85%|██████████████████████████████████████████████████████████████████▎           | 85/100 [01:09<00:11,  1.34it/s]"
     ]
    },
    {
     "name": "stdout",
     "output_type": "stream",
     "text": [
      "New data point: {'chunk_id': 210489, 'question': 'Who was Bengt Walter Feldreich?', 'answer': 'Bengt Walter Feldreich'}\n",
      "--- New ELEMENT ---\n",
      "Fetching a question for:\n",
      "Immunology is the study of the immune system. The immune system is the parts of the body which work against infection and parasitism by other living things. Immunology deals with the working of the immune system in health and diseases, and with malfunctions of the immune system.\n",
      "\n",
      "An immune system is present in all plants and animals. We know this because biologists have found genes coding for toll-like receptors in many different metazoans. These toll-like receptors can recognise bacteria as 'foreign', and are the starting-point for immune reactions. The type of immunity which is triggered by the toll-like receptors is called innate immunity. This is because it is entirely inherited in our genome, and is fully working as soon as our tissues and organs are properly developed.\n",
      "\n",
      "Vertebrates, and only vertebrates, have a second type of immunity. This is called adaptive immunity, because it 'remembers' previous infections. Then, if the same infection occurs again, the reaction is much stronger and faster. This immunological memory \"confers a tremendous survival advantage\" and with it vertebrates \"can survive over a long lifetime in a pathogen-filled environment\".\n",
      "\n",
      "Types of immunity in vertebrates\n",
      "\n",
      "Innate immune response \n",
      "\n",
      "The innate immune system is usually means all of the cells and systems that does not have to be exposed to a particular pathogen before they can work.\n",
      "LLM answered:\n"
     ]
    },
    {
     "name": "stderr",
     "output_type": "stream",
     "text": [
      " 86%|███████████████████████████████████████████████████████████████████           | 86/100 [01:10<00:11,  1.24it/s]"
     ]
    },
    {
     "name": "stdout",
     "output_type": "stream",
     "text": [
      "New data point: {'chunk_id': 666, 'question': 'What is the study of the immune system?', 'answer': 'Innate immunity.'}\n",
      "--- New ELEMENT ---\n",
      "Fetching a question for:\n",
      "Lincoln Park is a designated community area in North Side, Chicago, Illinois.\n",
      "\n",
      "As of 2015, the neighborhood is primarily made up of young urban professionals, recent college graduates, and young families. The slang terms Trixie and Chad have their origins in Lincoln Park. The 2003 Chicago balcony collapse occurred in Lincoln Park.\n",
      "\n",
      "Community areas of Chicago\n",
      "LLM answered:\n"
     ]
    },
    {
     "name": "stderr",
     "output_type": "stream",
     "text": [
      " 87%|███████████████████████████████████████████████████████████████████▊          | 87/100 [01:10<00:09,  1.39it/s]"
     ]
    },
    {
     "name": "stdout",
     "output_type": "stream",
     "text": [
      "New data point: {'chunk_id': 152813, 'question': 'What neighborhood is Lincoln Park located in North Side of?', 'answer': 'Chicago'}\n",
      "--- New ELEMENT ---\n",
      "Fetching a question for:\n",
      "Politics \n",
      "Egypt is a country that has had many different rulers and many political systems.  After World War II, Egypt was still ruled by a king, Farouk of Egypt (11 February 1920 – 18 March 1965). He was the last ruler of the Muhammad Ali dynasty.\n",
      "\n",
      "Farouk was overthrown on 23 July 1952 by a military coup. The coup was led by Muhammad Naguib, and Gamal Abdel Nasser. From then on, Egypt had military rulers or rulers who had the backing of the army and many citizens. \n",
      "\n",
      "Nasser became President, from 1956 to 1970. Later rulers were Anwar Sadat, and Hosni Mubarak.  \n",
      "\n",
      "Abdel Fattah el-Sisi became President in 2014.\n",
      "\n",
      "Revolution of 2011 \n",
      "\n",
      "In January 2011, thousands of protesters gathered in Cairo. They wanted Hosni Mubarak to leave office. He had been the President for almost 30 years. On February 11, 2011, Vice President Omar Suleiman made an announcement. He said that Mubarak agreed to leave office. In 2012, Egypt had a democratic election for the post of President. The winner was the Muslim Brotherhood candidate, Mohamed Morsi. \n",
      "\n",
      "The events which followed are still controversial, but one aspect stands out. Morsi issued a declaration that in effect gave him unlimited powers. He had the power to legislate (make laws) without legal overview by the courts. This caused widespread protests. On 3 July 2013, he was unseated by a military coup council (a coup d'état). After an election in June 2014, Abdel Fattah el-Sisi became President of Egypt. Islamist movements, such as the Muslim Brotherhood, rejected the change of regime as a military coup, and not democratic.\n",
      "LLM answered:\n"
     ]
    },
    {
     "name": "stderr",
     "output_type": "stream",
     "text": [
      " 88%|████████████████████████████████████████████████████████████████████▋         | 88/100 [01:12<00:11,  1.04it/s]"
     ]
    },
    {
     "name": "stdout",
     "output_type": "stream",
     "text": [
      "LLM Failed! returning None\n",
      "New data point: {'chunk_id': 446, 'question': None, 'answer': None}\n",
      "--- New ELEMENT ---\n",
      "Fetching a question for:\n",
      "A politician (from Classical Greek πόλις, \"polis\") is a person active in party politics, or a person holding or seeking office in government.  In democratic countries, politicians seek elective positions within a government through elections or, at times, temporary appointment to replace politicians who have died, resigned or have been otherwise removed from office.  In non-democratic countries, they employ other means of reaching power through appointment, bribery, revolutions and intrigues.    \n",
      "\n",
      "Some politicians are experienced in the art or science of government.  Politicians propose, support and create laws or policies that govern the land and, by extension, its people.  The word politician is sometimes replaced with the euphemism statesman.  Basically, a \"politician\" can be anyone who seeks to achieve political power in any bureaucratic institution.\n",
      "\n",
      "Politicians have always used language, as in speeches or campaign advertisements.  They use common themes to develop their political positions in terms familiar to the voters.  Politicians become experts at using the media   With the rise of mass media in the 19th century they made heavy use of newspapers, magazines, and pamphlets, as well as posters.  The 20th century brought radio and television, and television commercials became the single most expensive part of an election campaign.  In the 21st century, they have become increasingly involved with social media based on the Internet and smartphones.\n",
      "\n",
      "Common political offices \n",
      "\n",
      " Alderman\n",
      " Assemblyman\n",
      " Chancellor\n",
      " City manager\n",
      " Congressperson\n",
      " Councillor\n",
      " County executive\n",
      " Governor\n",
      " Lieutenant governor\n",
      " Mayor\n",
      " Deputy mayor\n",
      " Member of Parliament\n",
      " Minister\n",
      " President\n",
      " Vice President\n",
      " Prime Minister\n",
      " Representative\n",
      " Senator\n",
      "\n",
      "References\n",
      "\n",
      "Other websites \n",
      " Noam Chomsky - Why Do Politicians Lie? YouTube\n",
      " Professor Colin Hay on 'Why we hate politics'; YouTube\n",
      "LLM answered:\n"
     ]
    },
    {
     "name": "stderr",
     "output_type": "stream",
     "text": [
      " 89%|█████████████████████████████████████████████████████████████████████▍        | 89/100 [01:13<00:12,  1.10s/it]"
     ]
    },
    {
     "name": "stdout",
     "output_type": "stream",
     "text": [
      "LLM Failed! returning None\n",
      "New data point: {'chunk_id': 19994, 'question': None, 'answer': None}\n",
      "--- New ELEMENT ---\n",
      "Fetching a question for:\n",
      "Bayerbach is a municipality in Landshut in Bavaria in Germany.\n",
      "\n",
      "Geography \n",
      "It is on the Bayerbacher Bach, a stream which flows into the Kleine Laber.\n",
      "\n",
      "Subdivisions \n",
      "Bayerbach bei Ergoldsbach consists of 22 villages:\n",
      "\n",
      "Neighbouring communities \n",
      " Ergoldsbach\n",
      " Postau\n",
      " Weng\n",
      " Mengkofen (Dingolfing-Landau)\n",
      " Laberweinting (Straubing-Bogen)\n",
      " Mallersdorf-Pfaffenberg (Straubing-Bogen)\n",
      "\n",
      "References\n",
      "\n",
      "Landshut (district)\n",
      "LLM answered:\n"
     ]
    },
    {
     "name": "stderr",
     "output_type": "stream",
     "text": [
      " 90%|██████████████████████████████████████████████████████████████████████▏       | 90/100 [01:14<00:10,  1.02s/it]"
     ]
    },
    {
     "name": "stdout",
     "output_type": "stream",
     "text": [
      "New data point: {'chunk_id': 266791, 'question': 'What is the name of the river that flows into the Kleine Laber?', 'answer': 'Bayerbacher Bach'}\n",
      "--- New ELEMENT ---\n",
      "Fetching a question for:\n",
      "Usually, people only see hagfish when nets that sweep the sea floor are pulled up. Every fish, even the dead ones at the bottom of the sea, are brought up into the boat by the net. In some of those dead fish, hagfish are found eating. The smelly fish are dumped onto the deck of ships with the hagfish poking out from their bodies.\n",
      "\n",
      "Slime \n",
      "When hagfish are afraid, they make slime. This slime comes out of the sides of the hagfish's body. They are able to make enough slime to completely fill a two-gallon bucket. The reason such a small fish can make so much slime is because the slime comes out in strings that quickly swell up much bigger when they are in the water.Their unusual way of eating and their slime has made many people call the hagfish the most \"disgusting\" of all sea creatures. Although hagfish are sometimes called \"slime eels,\" they are not eels at all.\n",
      "\n",
      "Uses of hagfish\n",
      "LLM answered:\n"
     ]
    },
    {
     "name": "stderr",
     "output_type": "stream",
     "text": [
      " 91%|██████████████████████████████████████████████████████████████████████▉       | 91/100 [01:15<00:08,  1.12it/s]"
     ]
    },
    {
     "name": "stdout",
     "output_type": "stream",
     "text": [
      "LLM Failed! returning None\n",
      "New data point: {'chunk_id': 94226, 'question': None, 'answer': None}\n",
      "--- New ELEMENT ---\n",
      "Fetching a question for:\n",
      "Romualdas Ozolas (January 31, 1939 – April 6, 2015) was a Lithuanian politician, activist, writer and educator. He was a member of the Lithuanian branch of the Communist Party of the Soviet Union from 1973 to 1990. He was also a member of the Lithuanian independence movement, the Sąjūdis Initiative Group from 1988 to 1990. \n",
      "\n",
      "In 1988 he founded the nationalist Vilnija organization. He joined the Lithuanian Centre Union political party in 1993 and became its chairman. In 1996, he was elected to the Seimas and served until 2000.\n",
      "\n",
      "References\n",
      "\n",
      "1939 births\n",
      "2015 deaths\n",
      "Lithuanian politicians\n",
      "Communists\n",
      "Activists\n",
      "Lithuanian writers\n",
      "Lithuanian educators\n",
      "LLM answered:\n"
     ]
    },
    {
     "name": "stderr",
     "output_type": "stream",
     "text": [
      " 92%|███████████████████████████████████████████████████████████████████████▊      | 92/100 [01:15<00:06,  1.19it/s]"
     ]
    },
    {
     "name": "stdout",
     "output_type": "stream",
     "text": [
      "New data point: {'chunk_id': 164000, 'question': 'Who was Romualdas Ozolas?', 'answer': 'Romualdas Ozolas'}\n",
      "--- New ELEMENT ---\n",
      "Fetching a question for:\n",
      "The American River is a river in northern California in the United States. It is a tributary of the Sacramento River. The river starts in the Sierra Nevada and flows west through the city of Sacramento. The river is  long with a watershed of .\n",
      "\n",
      "Folsom Dam and Folsom Lake are located on the American river east of Sacramento.\n",
      "\n",
      "Tributaries\n",
      "North Fork American River\n",
      "Middle Fork American River\n",
      "South Fork American River\n",
      "\n",
      "Rivers of California\n",
      "El Dorado County, California\n",
      "Placer County, California\n",
      "Sacramento County, California\n",
      "LLM answered:\n"
     ]
    },
    {
     "name": "stderr",
     "output_type": "stream",
     "text": [
      " 93%|████████████████████████████████████████████████████████████████████████▌     | 93/100 [01:16<00:05,  1.37it/s]"
     ]
    },
    {
     "name": "stdout",
     "output_type": "stream",
     "text": [
      "New data point: {'chunk_id': 146240, 'question': 'Where does the American River flow?', 'answer': 'Long'}\n",
      "--- New ELEMENT ---\n",
      "Fetching a question for:\n",
      "The southwestern border of Connecticut, where it abuts New York State, is marked by a panhandle in Fairfield County, containing Greenwich, Stamford, Fairfield, Westport, Wilton, and Darien, housing some of the wealthiest residents in the world. This irregularity in the boundary is the result of territorial disputes in the late 1600s, culminating with New York giving up its claim to this area, whose residents considered themselves part of Connecticut, in exchange for an equivalent area extending northwards from Ridgefield, Connecticut to the Massachusetts border as well as undisputed claim to Rye, New York.\n",
      "\n",
      "Areas maintained by the National Park Service include Appalachian National Scenic Trail; Quinebaug & Shetucket Rivers Valley National Heritage Corridor; and Weir Farm National Historic Site.\n",
      "\n",
      "Cities and towns in Connecticut\n",
      " Ansonia\n",
      " Waterford\n",
      " New London\n",
      "\n",
      "History\n",
      "The name \"Connecticut\" comes from the Mohegan Indian word \"Quinnehtukqut\". It means \"Long River Place\" or \"Beside the Long Tidal River.\" The first explorer from Europe to come to Connecticut was Adriaen Block, from the Netherlands. After he explored this region in 1614, Dutch fur traders sailed up the Connecticut River (Named Versche Rivier by the Dutch) and built a fort near present-day Hartford, which they called \"House of Hope\" (Dutch: Huys de Hoop).\n",
      "LLM answered:\n"
     ]
    },
    {
     "name": "stderr",
     "output_type": "stream",
     "text": [
      " 94%|█████████████████████████████████████████████████████████████████████████▎    | 94/100 [01:17<00:04,  1.32it/s]"
     ]
    },
    {
     "name": "stdout",
     "output_type": "stream",
     "text": [
      "New data point: {'chunk_id': 14876, 'question': 'What does the name \"Connecticut\" come from?', 'answer': 'Quinnehtukqut'}\n",
      "--- New ELEMENT ---\n",
      "Fetching a question for:\n",
      "Child abandonment is when a parent leaves their child. There are many causes of child abandonment, including poverty or mental illness. In many countries, if a children are abandoned, they become orphans and live in an orphanage. They are raised there until they reach 18.\n",
      "\n",
      "In the United States, \"Safe Haven Laws\" allow parents to leave their infants at certain safe places.  The goal of these laws is to keep parents from leaving their infants in unsafe places, or killing them.  In some states, leaving a baby at a Safe Haven is thought of as child abandonment, and a complaint may be filed in family court.  But as long as the baby has not been hurt, the parents cannot be charged with a crime for leaving their baby at a Safe Haven.  The baby is given to state child protection workers, who find a safe place for the baby and try to get him or her adopted.  Hospitals, fire stations, and police stations are common Safe Havens.\n",
      "\n",
      "History\n",
      "Abandonment (or exposure) was a widely used method of getting rid of babies that parents did not want. Babies would be left outside, often in a pot or a vase, to die. It was practiced in ancient times, especially in Athens. The babies at the most risk were girls; babies with physical disabilities; ugly babies; children born to poor families; and babies who looked unwell. In past days, Women would not voice their thoughts on whether their babies were left to die. Due to the patriarchic structure of society, the fathers were the only ones who ultimately had a say. When it comes to child protection, your local authority and the police may become involved if they believe you child is at risk or is out of your control.\n",
      "\n",
      "References\n",
      "\n",
      "Child abuse\n",
      "LLM answered:\n"
     ]
    },
    {
     "name": "stderr",
     "output_type": "stream",
     "text": [
      " 95%|██████████████████████████████████████████████████████████████████████████    | 95/100 [01:18<00:03,  1.32it/s]"
     ]
    },
    {
     "name": "stdout",
     "output_type": "stream",
     "text": [
      "New data point: {'chunk_id': 93417, 'question': 'What are the causes of child abandonment?', 'answer': 'Poverty or mental illness.'}\n",
      "--- New ELEMENT ---\n",
      "Fetching a question for:\n",
      "Maurice Far Eckhard Tio (born July 26, 1983 in Barcelona) is a cyclist from Spain.  He has a disability: He has cerebral palsy and is a C2 type athlete. He competed at the 2004 Summer Paralympics in cycling. He competed at the 2008 Summer Paralympics in cycling. He competed at the 2012 Summer Paralympics in cycling. He was the third person to finish in the C2 road trial race.\n",
      "\n",
      "References \n",
      "\n",
      "Spanish cyclists\n",
      "Living people\n",
      "1983 births\n",
      "Spanish Paralympic bronze medalists\n",
      "2004 Summer Paralympics\n",
      "2008 Summer Paralympics\n",
      "2012 Summer Paralympics\n",
      "People from Barcelona\n",
      "LLM answered:\n"
     ]
    },
    {
     "name": "stderr",
     "output_type": "stream",
     "text": [
      " 96%|██████████████████████████████████████████████████████████████████████████▉   | 96/100 [01:18<00:03,  1.32it/s]"
     ]
    },
    {
     "name": "stdout",
     "output_type": "stream",
     "text": [
      "New data point: {'chunk_id': 140760, 'question': 'Who was the third person to finish in the C2 road trial race?', 'answer': 'Maurice Far Eckhard Tio'}\n",
      "--- New ELEMENT ---\n",
      "Fetching a question for:\n",
      "James Karen (born James Karnofsky; November 28, 1923 – October 23, 2018) was an American actor. He was known for his roles as Martin Frohm in The Pursuit of Happyness and as Ben Hubbard in Superman Returns. He also starred in Poltergeist and The Return of the Living Dead.\n",
      "\n",
      "Karen was born on November 28, 1923 in Wilkes-Barre, Pennsylvania to a Russian-Jewish family. He studied at Neighborhood Playhouse School of the Theatre. Karen was married to Susan Reed from 1958 until they divorced in 1967. They had one child. He married Alba Francesca in 1986.  \n",
      "\n",
      "Karen died on October 23, 2018 in Los Angeles at the age of 94. The cause was cardiopulmonary arrest.\n",
      "\n",
      "References\n",
      "\n",
      "Other websites\n",
      " \n",
      " Great Character Actors / James Karen \n",
      "Pathmark TV commercial with James Karen (YouTube)\n",
      "\n",
      "1923 births\n",
      "2018 deaths\n",
      "Deaths from cardiopulmonary arrest\n",
      "Disease-related deaths in Los Angeles\n",
      "Jewish American actors\n",
      "American movie actors\n",
      "American television actors\n",
      "American voice actors\n",
      "American stage actors\n",
      "Actors from Pennsylvania\n",
      "People from Wilkes-Barre, Pennsylvania\n",
      "LLM answered:\n"
     ]
    },
    {
     "name": "stderr",
     "output_type": "stream",
     "text": [
      " 97%|███████████████████████████████████████████████████████████████████████████▋  | 97/100 [01:19<00:02,  1.37it/s]"
     ]
    },
    {
     "name": "stdout",
     "output_type": "stream",
     "text": [
      "New data point: {'chunk_id': 137883, 'question': '\"Where was James Karen born?\"', 'answer': '\"Wilkes-Barre, Pennsylvania\"'}\n",
      "--- New ELEMENT ---\n",
      "Fetching a question for:\n",
      "The Lavalleja Department () is a department in the southeast of Uruguay. Its capital is Minas.\n",
      "\n",
      "Departments of Uruguay\n",
      "LLM answered:\n"
     ]
    },
    {
     "name": "stderr",
     "output_type": "stream",
     "text": [
      " 98%|████████████████████████████████████████████████████████████████████████████▍ | 98/100 [01:20<00:01,  1.46it/s]"
     ]
    },
    {
     "name": "stdout",
     "output_type": "stream",
     "text": [
      "New data point: {'chunk_id': 229994, 'question': 'What is the capital of the Lavalleja Department?', 'answer': 'Minas'}\n",
      "--- New ELEMENT ---\n",
      "Fetching a question for:\n",
      "Yanta District (, pinyin:Yàntǎ Qū, meaning \"Wild goose Tower District\") is a District of Xi'an, it's in southern part of Xi'an. Area of it is 151.44km2, and as of November 2010, 1,178,529 people live in here. The name of Yanta District is come from Big Wild Goose Tower, a tower that builded in 652 A.D. It's famous in culture and tour. The district have many university.\n",
      "\n",
      "History \n",
      "\n",
      "In September 1954, Yanta District was set up. It was merge from Xi'an No.9 District, a part of Chang'an County, a part of Weiqu District and some other place.\n",
      "\n",
      "In May 1960, some part of Xincheng District, Lianhu District and Beilin District was merged to Yanta District. But that was revoked in April 1962.\n",
      "\n",
      "In September 1965, Yanta District was changed to Xi'an suburb toghter with Weiyang District, original Epang District and some other place. It's revoked in February 1980.\n",
      "\n",
      "Political divisions \n",
      "\n",
      "Yanta District is divided to 8 part:\n",
      "\n",
      " Xiaozhailu Subdistrict\n",
      " Dayanta Subdistrict\n",
      " Changyanpu Subdistrict\n",
      " Dianzicheng Subdistrict\n",
      " Dengjiapo Subdistrict\n",
      " Yuhuazhai Subdistrict\n",
      " Zhangbagou Subdistrict\n",
      " Qujiang Subdistrict\n",
      "\n",
      "Shaanxi\n",
      "Districts of China\n",
      "LLM answered:\n"
     ]
    },
    {
     "name": "stderr",
     "output_type": "stream",
     "text": [
      " 99%|█████████████████████████████████████████████████████████████████████████████▏| 99/100 [01:20<00:00,  1.35it/s]"
     ]
    },
    {
     "name": "stdout",
     "output_type": "stream",
     "text": [
      "New data point: {'chunk_id': 126276, 'question': 'What is the name of the tower that Yanta District was named after?', 'answer': 'The Wild Goose Tower'}\n",
      "--- New ELEMENT ---\n",
      "Fetching a question for:\n",
      "Valbroye is a municipality in the Broye-Vully district in the canton of Vaud in Switzerland. On 1 July 2011 the former municipalities of Cerniaz, Combremont-le-Grand, Combremont-le-Petit, Granges-près-Marnand, Marnand, Sassel, Seigneux and Villars-Bramard joined together to become the new municipality of Valbroye.\n",
      "\n",
      "References\n",
      "\n",
      "Other websites \n",
      "\n",
      " Official website \n",
      "\n",
      "2011 establishments in Switzerland\n",
      "Municipalities of Vaud\n",
      "LLM answered:\n"
     ]
    },
    {
     "name": "stderr",
     "output_type": "stream",
     "text": [
      "100%|█████████████████████████████████████████████████████████████████████████████| 100/100 [01:21<00:00,  1.23it/s]"
     ]
    },
    {
     "name": "stdout",
     "output_type": "stream",
     "text": [
      "New data point: {'chunk_id': 209089, 'question': 'What is the name of the new municipality created in 2011?', 'answer': 'Valbroye'}\n"
     ]
    },
    {
     "name": "stderr",
     "output_type": "stream",
     "text": [
      "\n"
     ]
    }
   ],
   "source": [
    "N_REQUESTS = 100\n",
    "\n",
    "for _ in tqdm(range(N_REQUESTS)):\n",
    "    rnd_chunk_id = np.random.randint(len(wiki_data_chunked))\n",
    "    text_chunk = wiki_data_chunked[rnd_chunk_id][\"text_chunk\"]\n",
    "    print(\"--- New ELEMENT ---\")\n",
    "    print(\"Fetching a question for:\")\n",
    "    print(text_chunk)\n",
    "    print(\"LLM answered:\")\n",
    "\n",
    "    question, answer = fetch_question_pair_from_llm(text_chunk)\n",
    "    \n",
    "    new_el = {\n",
    "        \"chunk_id\": rnd_chunk_id,\n",
    "        \"question\": question,\n",
    "        \"answer\" : answer\n",
    "    }\n",
    "    questions_llm_data.append(new_el)\n",
    "    \n",
    "    print(f\"New data point: {new_el}\")"
   ]
  },
  {
   "cell_type": "code",
   "execution_count": 38,
   "id": "d6696776-27a5-466b-ac54-c4a4650b6e3f",
   "metadata": {},
   "outputs": [],
   "source": [
    "# Filter out None,None tuples if the model output is incorrect\n",
    "questions_llm_data = [element for element in questions_llm_data if element[\"question\"] is not None and element[\"answer\"] is not None]"
   ]
  },
  {
   "cell_type": "code",
   "execution_count": 39,
   "id": "1769b4e2-bfbc-46c2-a4d0-949a3eeca8bc",
   "metadata": {},
   "outputs": [],
   "source": [
    "questions_dataset_llm = Dataset.from_list(questions_llm_data)"
   ]
  },
  {
   "cell_type": "code",
   "execution_count": 40,
   "id": "985cab47-5b40-4fd5-87c1-91e790803622",
   "metadata": {},
   "outputs": [
    {
     "data": {
      "application/vnd.jupyter.widget-view+json": {
       "model_id": "cb47e70d5d2f41b4805c28722aecb2bf",
       "version_major": 2,
       "version_minor": 0
      },
      "text/plain": [
       "Saving the dataset (0/1 shards):   0%|          | 0/96 [00:00<?, ? examples/s]"
      ]
     },
     "metadata": {},
     "output_type": "display_data"
    }
   ],
   "source": [
    "questions_dataset_llm_name = f\"{dataset_to_add_questions_to}-questions-llm\"\n",
    "\n",
    "questions_dataset_llm.save_to_disk(\n",
    "    os.path.join(LOCAL_DATASET_FOLDER, questions_dataset_llm_name)\n",
    ")"
   ]
  },
  {
   "cell_type": "code",
   "execution_count": null,
   "id": "7513bd33-2c60-482f-af82-012fbba4ac03",
   "metadata": {},
   "outputs": [],
   "source": []
  }
 ],
 "metadata": {
  "kernelspec": {
   "display_name": "Python 3 (ipykernel)",
   "language": "python",
   "name": "python3"
  },
  "language_info": {
   "codemirror_mode": {
    "name": "ipython",
    "version": 3
   },
   "file_extension": ".py",
   "mimetype": "text/x-python",
   "name": "python",
   "nbconvert_exporter": "python",
   "pygments_lexer": "ipython3",
   "version": "3.10.1"
  }
 },
 "nbformat": 4,
 "nbformat_minor": 5
}
