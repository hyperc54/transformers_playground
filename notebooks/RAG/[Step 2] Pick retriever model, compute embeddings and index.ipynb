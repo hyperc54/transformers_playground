{
 "cells": [
  {
   "cell_type": "markdown",
   "id": "b78360e6-8dfd-4772-b140-4f46d43e016f",
   "metadata": {},
   "source": [
    "# Intro\n",
    "This notebook is part of a mini-series that aims to build a simple RAG system for learning purposes.\n",
    "\n",
    "This notebook assumes:\n",
    "- we have a dataset available of chunks of text data to index `chunk_id (int) | text_chunk (str)`.\n",
    "- Optionally, (but really importantly, if we'd like to go beyond the first section and evaluate our retriever model), it also assumes we have a dataset of questions which can be answered by looking at information in specific chunk_ids (to simplify, we'll assume there's only one relevant chunk_id) in the form `question (str) | answer (str) | relevant_chunk_id (int)`\n",
    "\n",
    "Plan:\n",
    "- The first section loads an embedder model and maps it to the dataset of text chunks.\n",
    "- The second section evaluates the (dummy) solution explored in the first section using the dataset of questions.\n",
    "- The third section tries to improve the solution explored in the first section by fine-tuning our model on the questions dataset."
   ]
  },
  {
   "cell_type": "code",
   "execution_count": 1,
   "id": "f1f2715b-2630-4fd9-b2fe-52a5ef676fe4",
   "metadata": {},
   "outputs": [],
   "source": [
    "import os\n",
    "\n",
    "import matplotlib.pyplot as plt\n",
    "from transformers import BertTokenizer, BertModel\n",
    "import torch\n",
    "import numpy as np\n",
    "from datasets import load_from_disk, concatenate_datasets\n",
    "from sentence_transformers import (\n",
    "    SentenceTransformer,\n",
    "    SentenceTransformerTrainer,\n",
    "    SentenceTransformerTrainingArguments,\n",
    ")\n",
    "from sentence_transformers.losses import CosineSimilarityLoss\n",
    "\n",
    "\n",
    "\n",
    "import faiss\n",
    "\n",
    "LOCAL_DATASET_FOLDER = \"local_datasets\""
   ]
  },
  {
   "cell_type": "markdown",
   "id": "e0a58c2d-f63c-4f9a-b2ee-7ac297ff2ec8",
   "metadata": {},
   "source": [
    "# Load datasets"
   ]
  },
  {
   "cell_type": "code",
   "execution_count": 2,
   "id": "40a288a6-cddd-429b-ae65-358feb22ea0d",
   "metadata": {},
   "outputs": [],
   "source": [
    "CORPUS_DATASET_NAME = \"wiki-data-chunked-recursive-CS300\"\n",
    "QUESTIONS_DATASET_NAME = \"wiki-data-chunked-recursive-CS300-questions-llm\""
   ]
  },
  {
   "cell_type": "code",
   "execution_count": 3,
   "id": "34fa79b2-196b-46c1-9df7-af5a5aa468e1",
   "metadata": {},
   "outputs": [],
   "source": [
    "# The dataset was created in the previous notebook\n",
    "# Contains:\n",
    "#  A: An extract of some english wikipedia articles\n",
    "#  B: A list of crowdsourced questions/answers pairs and the relevant article that contains the answer.\n",
    "ds_corpus = load_from_disk(os.path.join(LOCAL_DATASET_FOLDER, CORPUS_DATASET_NAME))\n",
    "ds_qas = load_from_disk(os.path.join(LOCAL_DATASET_FOLDER, QUESTIONS_DATASET_NAME))"
   ]
  },
  {
   "cell_type": "code",
   "execution_count": 4,
   "id": "c7101550-58a8-48fb-8d80-698519edee8f",
   "metadata": {},
   "outputs": [
    {
     "data": {
      "text/plain": [
       "Dataset({\n",
       "    features: ['id', 'url', 'title', 'original_id', 'text_chunk'],\n",
       "    num_rows: 271938\n",
       "})"
      ]
     },
     "execution_count": 4,
     "metadata": {},
     "output_type": "execute_result"
    }
   ],
   "source": [
    "ds_corpus"
   ]
  },
  {
   "cell_type": "code",
   "execution_count": 5,
   "id": "d3ab0734-bff4-46f7-bb0e-1c8b3de20d82",
   "metadata": {},
   "outputs": [
    {
     "data": {
      "text/plain": [
       "Dataset({\n",
       "    features: ['chunk_id', 'question', 'answer'],\n",
       "    num_rows: 96\n",
       "})"
      ]
     },
     "execution_count": 5,
     "metadata": {},
     "output_type": "execute_result"
    }
   ],
   "source": [
    "ds_qas"
   ]
  },
  {
   "cell_type": "markdown",
   "id": "a4112f9e-c47f-4be9-a08b-f7bee42ff5aa",
   "metadata": {},
   "source": [
    "# Section 1: Dummy straightforward solution\n",
    "(i.e map an embedding model over the whole dataset)"
   ]
  },
  {
   "cell_type": "code",
   "execution_count": 6,
   "id": "66eda211-dfdd-4385-8fcd-cbb76aaa7970",
   "metadata": {},
   "outputs": [],
   "source": [
    "# The notebook series uses the miniLM model to create embeddings for questions.\n",
    "# However, in this notebook, we show how we could have done it with BERT as well.\n",
    "# (the other notebooks will expect MiniLM embeddings though)\n",
    "def retrieve_bert_embedding(bert_model, text_batch):\n",
    "    # We operate one text input at the time for simplicity.\n",
    "    # Using batches would be faster, but this implies padding inputs so they are all the same size and using attention masks properly.\n",
    "    encoded_inputs = tokenizer(text_batch, return_tensors='pt')\n",
    "\n",
    "    # The input needs to be < 512 tokens long otherwise the model call will crash\n",
    "    output = bert_model(**encoded_inputs)\n",
    "\n",
    "    # We use the pooler_output as embedding layer. It contains an embedding obtained for the [CLS] token added at\n",
    "    # the beginning.\n",
    "    # An alternative would be to retrieve multiple hidden embedding states and use those instead (by concatenating multiple layers),\n",
    "    # it might contain more semantic meaning at the expense of being a bigger vector. I would recommend to try both.\n",
    "    return torch.nn.functional.normalize(output.pooler_output) # Normalise as this will help for indexing, and doesn't change Cosine similarities\n",
    "\n",
    "def retrieve_minilm_embedding(mini_lm_model, text_batch):\n",
    "    embedding = torch.Tensor(mini_lm_model.encode(text_batch))\n",
    "\n",
    "    return embedding # MiniLM embeddings are already normalised\n",
    "\n",
    "# [Exercise]: Feel free to implement a different embedding retrieval method!\n",
    "# Some inspiration of Embedding models to use: https://huggingface.co/spaces/mteb/leaderboard"
   ]
  },
  {
   "cell_type": "code",
   "execution_count": 7,
   "id": "02272258-1152-4c0d-bf6b-3a7106f32a04",
   "metadata": {},
   "outputs": [],
   "source": [
    "model_to_use = \"MiniLM\" # you can replace with \"BERT\""
   ]
  },
  {
   "cell_type": "code",
   "execution_count": 8,
   "id": "2b098de6-9624-4614-b0ea-dbe102e83832",
   "metadata": {},
   "outputs": [
    {
     "name": "stderr",
     "output_type": "stream",
     "text": [
      "/Users/pierret/.pyenv/versions/3.10.1/envs/transformers_playground/lib/python3.10/site-packages/transformers/tokenization_utils_base.py:1617: FutureWarning: `clean_up_tokenization_spaces` was not set. It will be set to `True` by default. This behavior will be deprecated in transformers v4.45, and will be then set to `False` by default. For more details check this issue: https://github.com/huggingface/transformers/issues/31884\n",
      "  warnings.warn(\n"
     ]
    },
    {
     "data": {
      "text/plain": [
       "SentenceTransformer(\n",
       "  (0): Transformer({'max_seq_length': 256, 'do_lower_case': False}) with Transformer model: BertModel \n",
       "  (1): Pooling({'word_embedding_dimension': 384, 'pooling_mode_cls_token': False, 'pooling_mode_mean_tokens': True, 'pooling_mode_max_tokens': False, 'pooling_mode_mean_sqrt_len_tokens': False, 'pooling_mode_weightedmean_tokens': False, 'pooling_mode_lasttoken': False, 'include_prompt': True})\n",
       "  (2): Normalize()\n",
       ")"
      ]
     },
     "execution_count": 8,
     "metadata": {},
     "output_type": "execute_result"
    }
   ],
   "source": [
    "if model_to_use == \"MiniLM\":\n",
    "    model = SentenceTransformer('sentence-transformers/all-MiniLM-L6-v2')\n",
    "    retrieve_embedding_method = retrieve_minilm_embedding\n",
    "elif model_to_use == \"BERT\":\n",
    "    # More info on BERT: https://huggingface.co/blog/bert-101\n",
    "    tokenizer = BertTokenizer.from_pretrained('bert-base-uncased')\n",
    "    model = BertModel.from_pretrained(\"bert-base-uncased\")\n",
    "    retrieve_embedding_method = retrieve_bert_embedding\n",
    "\n",
    "model.eval()\n",
    "    \n",
    "# switch to GPU if you have one available\n",
    "device = \"cpu\"\n",
    "model.to(device)"
   ]
  },
  {
   "cell_type": "code",
   "execution_count": 9,
   "id": "d1bdc136-c22a-4e92-86af-17bbb3facbd6",
   "metadata": {},
   "outputs": [],
   "source": [
    "if model == \"BERT\":\n",
    "    # Play with the tokeniser a bit, note the added tokens and the casing dropped\n",
    "    # Always check intermediate inputs!\n",
    "    tokenizer.decode(tokenizer(\"Hi! nice to meet you\", return_tensors='pt')[\"input_ids\"][0])"
   ]
  },
  {
   "cell_type": "code",
   "execution_count": 10,
   "id": "772f705d-9ab4-4d80-986a-caf96e502aa5",
   "metadata": {},
   "outputs": [
    {
     "name": "stdout",
     "output_type": "stream",
     "text": [
      "cos_sim(embedding_food, embedding_food2)=tensor(0.5597)\n",
      "cos_sim(embedding_food, embedding_history_lesson)=tensor(0.1039)\n",
      "cos_sim(embedding_food, embedding_fra)=tensor(0.0042)\n",
      "cos_sim(embedding_food, torch.randn(embedding_food.shape[0]))=tensor(0.0327)\n",
      "cos_sim(embedding_food, embedding_trap)=tensor(0.2990)\n"
     ]
    }
   ],
   "source": [
    "# quickly check that we can capture semantic similarity\n",
    "cos_sim = torch.nn.CosineSimilarity(dim=0, eps=1e-6)\n",
    "\n",
    "embedding_food = retrieve_embedding_method(model, \"I like to eat ice creams and donuts.\")\n",
    "embedding_food2 = retrieve_embedding_method(model, \"My favourite food is gelato, and sugar pastries.\")\n",
    "embedding_history_lesson = retrieve_embedding_method(model, \"Napoleon III was a popular monarch who oversaw the modernization of the French economy.\")\n",
    "embedding_fra = retrieve_embedding_method(model, \"BERT n'a pas été entrainé avec du Français.\")\n",
    "embedding_trap = retrieve_embedding_method(model, \"This road is shaped like a donut.\") # Contains the same word in a different context\n",
    "\n",
    "print(f\"{cos_sim(embedding_food, embedding_food2)=}\")\n",
    "print(f\"{cos_sim(embedding_food, embedding_history_lesson)=}\")\n",
    "print(f\"{cos_sim(embedding_food, embedding_fra)=}\")\n",
    "print(f\"{cos_sim(embedding_food, torch.randn(embedding_food.shape[0]))=}\")\n",
    "print(f\"{cos_sim(embedding_food, embedding_trap)=}\")\n",
    "# Some results might be a bit surprising for some models, but at least the most similar vectors are the expected ones"
   ]
  },
  {
   "cell_type": "code",
   "execution_count": 11,
   "id": "c1bc86ff-fc9c-413e-af45-9f77993b17b9",
   "metadata": {},
   "outputs": [],
   "source": [
    "ds_corpus = ds_corpus.map(\n",
    "    lambda element: {\"embedding\": retrieve_embedding_method(model, element[\"text_chunk\"])},\n",
    "    batched=True\n",
    ")"
   ]
  },
  {
   "cell_type": "code",
   "execution_count": 12,
   "id": "d9cebe1c-43ec-472b-8919-15f5488761c2",
   "metadata": {},
   "outputs": [],
   "source": [
    "ds_qas = ds_qas.map(\n",
    "    lambda element: {\"embedding\": retrieve_embedding_method(model, element[\"question\"])},\n",
    "    batched=True\n",
    ")"
   ]
  },
  {
   "cell_type": "code",
   "execution_count": 14,
   "id": "781bbc15-ef9b-434a-9788-b335babf7fe1",
   "metadata": {},
   "outputs": [
    {
     "data": {
      "application/vnd.jupyter.widget-view+json": {
       "model_id": "3bb778202397494d8cc50fabcb0b43d9",
       "version_major": 2,
       "version_minor": 0
      },
      "text/plain": [
       "Saving the dataset (0/2 shards):   0%|          | 0/271938 [00:00<?, ? examples/s]"
      ]
     },
     "metadata": {},
     "output_type": "display_data"
    },
    {
     "data": {
      "application/vnd.jupyter.widget-view+json": {
       "model_id": "ae95e1bc776b4d54b03219a1fb6b90ae",
       "version_major": 2,
       "version_minor": 0
      },
      "text/plain": [
       "Saving the dataset (0/1 shards):   0%|          | 0/96 [00:00<?, ? examples/s]"
      ]
     },
     "metadata": {},
     "output_type": "display_data"
    }
   ],
   "source": [
    "# And that's already done! We can save it for indexing later on...But how good are these embeddings really?\n",
    "# We'll investigate this now\n",
    "ds_corpus.save_to_disk(\n",
    "    os.path.join(LOCAL_DATASET_FOLDER, CORPUS_DATASET_NAME + \"with_simple_embeddings\")\n",
    ")\n",
    "\n",
    "ds_qas.save_to_disk(\n",
    "    os.path.join(LOCAL_DATASET_FOLDER, QUESTIONS_DATASET_NAME + \"with_simple_embeddings\")\n",
    ")"
   ]
  },
  {
   "cell_type": "markdown",
   "id": "889f9723-9ea5-422d-a032-e584495642f0",
   "metadata": {},
   "source": [
    "# Section 2: Evaluation\n",
    "We'd like to know if our embeddings capture the semantic meaning of passages well enough so that,\n",
    "for each question/answer pair in our questions dataset, we can retrieve the right document\n",
    "by embedding the question input and running a nearest-neighbour search over the dataset... BUT\n",
    "this implies we have our indexing solution ready to use already.\n",
    "\n",
    "We'll try:\n",
    "- to evaluate the quality of the embeddings without actually running a kNN search\n",
    "- evaluate the whole retrieval process by using a very simple kNN search method (which works here because the dataset is really small)"
   ]
  },
  {
   "cell_type": "code",
   "execution_count": 15,
   "id": "3c6e1c2a-9b50-4d79-90a0-fa3885360dba",
   "metadata": {},
   "outputs": [],
   "source": [
    "# Optionally reload datasets previously checkpointed\n",
    "ds_corpus = load_from_disk(\n",
    "    os.path.join(LOCAL_DATASET_FOLDER, CORPUS_DATASET_NAME + \"with_simple_embeddings\")\n",
    ")\n",
    "\n",
    "ds_qas = load_from_disk(\n",
    "    os.path.join(LOCAL_DATASET_FOLDER, QUESTIONS_DATASET_NAME + \"with_simple_embeddings\")\n",
    ")"
   ]
  },
  {
   "cell_type": "markdown",
   "id": "937a3126-4bb8-4f59-aad5-c036011b6840",
   "metadata": {},
   "source": [
    "## A) Quality of embeddings without kNN search"
   ]
  },
  {
   "cell_type": "code",
   "execution_count": 16,
   "id": "f10fb4d1-0fa0-4156-9d00-5aed4c09ae8c",
   "metadata": {},
   "outputs": [
    {
     "data": {
      "application/vnd.jupyter.widget-view+json": {
       "model_id": "b898e59e799744188d334cb6b16106f3",
       "version_major": 2,
       "version_minor": 0
      },
      "text/plain": [
       "Map:   0%|          | 0/96 [00:00<?, ? examples/s]"
      ]
     },
     "metadata": {},
     "output_type": "display_data"
    }
   ],
   "source": [
    "# For each question,\n",
    "# without running an actual kNN search, we can simply compare the cosine similarity between:\n",
    "# - the question embedding / target document embedding\n",
    "# - the question embedding / other random documents which are not target\n",
    "# .. and check that the target embedding is usually much closer. That'd be a good indicator that embeddings are working as expected\n",
    "# but will not inform us onthe exact performance of the whole retrieval process.\n",
    "def compare_question_embedding_to_target_embedding(model, question_element):\n",
    "    question_embedding = retrieve_embedding_method(model, question_element[\"question\"])\n",
    "    target_id = question_element[\"chunk_id\"] # corresponds to the exact id in ds_corpus\n",
    "    rnd_id = np.random.randint(len(ds_corpus))\n",
    "\n",
    "    target_embedding = retrieve_embedding_method(model, ds_corpus[target_id][\"text_chunk\"])\n",
    "    random_doc_embedding = retrieve_embedding_method(model, ds_corpus[rnd_id][\"text_chunk\"])\n",
    "\n",
    "    return {\n",
    "        \"target_emb_similarity\": cos_sim(question_embedding, target_embedding),\n",
    "        \"random_emb_similarity\": cos_sim(question_embedding, random_doc_embedding)\n",
    "    }\n",
    "\n",
    "ds_qas = ds_qas.map(\n",
    "    lambda element: compare_question_embedding_to_target_embedding(model, element)\n",
    ")"
   ]
  },
  {
   "cell_type": "code",
   "execution_count": 17,
   "id": "2e99f751-fd7f-42ad-b3c5-cee5e7994b3f",
   "metadata": {},
   "outputs": [
    {
     "data": {
      "image/png": "[encoded data removed]",
      "text/plain": [
       "<Figure size 640x480 with 1 Axes>"
      ]
     },
     "metadata": {},
     "output_type": "display_data"
    }
   ],
   "source": [
    "plt.hist(ds_qas[\"target_emb_similarity\"], bins=100, alpha=0.5)\n",
    "plt.hist(ds_qas[\"random_emb_similarity\"], bins=100, alpha=0.5)\n",
    "plt.title(\"Embeddings similarity distribution for target chunk vs a random chunk\")\n",
    "plt.show()"
   ]
  },
  {
   "cell_type": "code",
   "execution_count": 18,
   "id": "c080965f-3d84-4522-a350-abc28299a35d",
   "metadata": {},
   "outputs": [],
   "source": [
    "# If the histograms are fairly well separated, we can say the embeddings are working as intended, but that doesn't\n",
    "# mean we'll retrieve the right documents everytime. To check this we'll need to actual run the kNN search."
   ]
  },
  {
   "cell_type": "markdown",
   "id": "8929612c-8d6f-4af9-8076-6c90edb0e869",
   "metadata": {},
   "source": [
    "## B) Exact evaluation with kNN search"
   ]
  },
  {
   "cell_type": "code",
   "execution_count": 19,
   "id": "336afa2e-c765-4c38-a139-f8a7f38de416",
   "metadata": {},
   "outputs": [],
   "source": [
    "# We will borrow a few things from the next notebook here that dives into more details on the different indexing methods we can use."
   ]
  },
  {
   "cell_type": "code",
   "execution_count": 20,
   "id": "c1873b9d-24e0-4d89-a4fc-4a4241ef4e00",
   "metadata": {},
   "outputs": [],
   "source": [
    "all_vectors = np.array(ds_corpus[\"embedding\"])\n",
    "\n",
    "# Build index\n",
    "d = len(ds_corpus[0][\"embedding\"])\n",
    "flat_index = faiss.IndexFlatIP(d)\n",
    "flat_index.add(all_vectors)"
   ]
  },
  {
   "cell_type": "code",
   "execution_count": 21,
   "id": "12547ad1-7594-4ce1-a780-960bb92815ba",
   "metadata": {},
   "outputs": [],
   "source": [
    "def compare_chunk_retrieved_to_target(model, index, question_element):\n",
    "    question_embedding = retrieve_embedding_method(model, question_element[\"question\"])\n",
    "    target_id = question_element[\"chunk_id\"] # corresponds to the exact id in ds_corpus\n",
    "    \n",
    "    query = question_embedding.numpy()[np.newaxis, :]\n",
    "\n",
    "    distances, retrieved_ids = index.search(query, 1)\n",
    "\n",
    "    return {\n",
    "        \"found_right_match\": target_id == retrieved_ids[0][0],\n",
    "    }"
   ]
  },
  {
   "cell_type": "code",
   "execution_count": 22,
   "id": "d4344af5-38a1-4900-996b-be2d4c1f4983",
   "metadata": {},
   "outputs": [
    {
     "data": {
      "application/vnd.jupyter.widget-view+json": {
       "model_id": "78a576e52b3048539e58d7e28950f680",
       "version_major": 2,
       "version_minor": 0
      },
      "text/plain": [
       "Map:   0%|          | 0/96 [00:00<?, ? examples/s]"
      ]
     },
     "metadata": {},
     "output_type": "display_data"
    }
   ],
   "source": [
    "ds_qas = ds_qas.map(\n",
    "    lambda element: compare_chunk_retrieved_to_target(model, flat_index, element)\n",
    ")"
   ]
  },
  {
   "cell_type": "code",
   "execution_count": 23,
   "id": "4960eca1-02f0-4f98-ab4d-ec1943425b31",
   "metadata": {},
   "outputs": [
    {
     "name": "stdout",
     "output_type": "stream",
     "text": [
      "We retrieved the right document in 52 of 96 cases\n",
      "Accuracy top result: 0.54\n"
     ]
    }
   ],
   "source": [
    "accuracy_top_result = sum(ds_qas['found_right_match']) / len(ds_qas)\n",
    "print(f\"We retrieved the right document in {sum(ds_qas['found_right_match'])} of {len(ds_qas)} cases\")\n",
    "print(f\"Accuracy top result: {accuracy_top_result:.2f}\")\n",
    "\n",
    "# [Exercise] We are assuming only one context chunk is relevant here and we return only one, which\n",
    "# makes the evaluation metric quite straightforward. How would that change if multiple text chunks\n",
    "# could be considered as relevant? What about if we return multiple? (Look closer to a multi-class\n",
    "# multi-label ML problem)"
   ]
  },
  {
   "cell_type": "code",
   "execution_count": 24,
   "id": "cc26b2a6-2d20-4c29-acaa-2d99fd561e09",
   "metadata": {},
   "outputs": [],
   "source": [
    "# [Exercise]: what about checking Recall @ top 3 results?\n",
    "# [Exercise]: can we find patterns in the mistakes we're making?"
   ]
  },
  {
   "cell_type": "code",
   "execution_count": 25,
   "id": "cae6ffde-ebb5-46f8-b305-2afcc0dcb8ee",
   "metadata": {},
   "outputs": [
    {
     "name": "stdout",
     "output_type": "stream",
     "text": [
      "[2024-11-06 18:44:07,516] [INFO] [real_accelerator.py:203:get_accelerator] Setting ds_accelerator to mps (auto detect)\n"
     ]
    },
    {
     "name": "stderr",
     "output_type": "stream",
     "text": [
      "huggingface/tokenizers: The current process just got forked, after parallelism has already been used. Disabling parallelism to avoid deadlocks...\n",
      "To disable this warning, you can either:\n",
      "\t- Avoid using `tokenizers` before the fork if possible\n",
      "\t- Explicitly set the environment variable TOKENIZERS_PARALLELISM=(true | false)\n",
      "W1106 18:44:07.595360 8280846912 torch/distributed/elastic/multiprocessing/redirects.py:28] NOTE: Redirects are currently not supported in Windows or MacOs.\n"
     ]
    }
   ],
   "source": [
    "# Save the embedding model/index back for reuse\n",
    "model.save(os.path.join(LOCAL_DATASET_FOLDER, f\"embedding_model_{CORPUS_DATASET_NAME}.model\"))\n",
    "\n",
    "faiss.write_index(flat_index, os.path.join(LOCAL_DATASET_FOLDER, f\"flat_index_{CORPUS_DATASET_NAME}.index\"))"
   ]
  },
  {
   "cell_type": "markdown",
   "id": "b00bea3e-670f-4771-8361-5cd7436cc407",
   "metadata": {},
   "source": [
    "# Section 3: Fine tune retriever models to improve embeddings matching"
   ]
  },
  {
   "cell_type": "code",
   "execution_count": 26,
   "id": "7d373329-1ba5-4407-a148-b9a4068a8744",
   "metadata": {},
   "outputs": [
    {
     "data": {
      "application/vnd.jupyter.widget-view+json": {
       "model_id": "fd72835e8bd048e3bd4ec4e5ecfa7c4b",
       "version_major": 2,
       "version_minor": 0
      },
      "text/plain": [
       "Map:   0%|          | 0/96 [00:00<?, ? examples/s]"
      ]
     },
     "metadata": {},
     "output_type": "display_data"
    },
    {
     "data": {
      "application/vnd.jupyter.widget-view+json": {
       "model_id": "e5d702c73589469882063ca2ac45c972",
       "version_major": 2,
       "version_minor": 0
      },
      "text/plain": [
       "Map:   0%|          | 0/96 [00:00<?, ? examples/s]"
      ]
     },
     "metadata": {},
     "output_type": "display_data"
    }
   ],
   "source": [
    "# We will finetune the MiniLM model to better match questions -> text_chunks\n",
    "ds_qas_similar = ds_qas.map(\n",
    "    lambda example: {\n",
    "        \"text_chunk\": ds_corpus[example[\"chunk_id\"]][\"text_chunk\"],  # joins info together,\n",
    "        \"label\": 1.0 # they are supposed to match\n",
    "    }\n",
    ").select_columns([\"text_chunk\", \"question\", \"label\"])\n",
    "\n",
    "ds_qas_dissimilar = ds_qas.map(\n",
    "    lambda example: {\n",
    "        \"text_chunk\": ds_corpus[np.random.randint(len(ds_qas))][\"text_chunk\"],  # joins info together,\n",
    "        \"label\": 0.0 # they are not supposed to match, hoping random gets it right\n",
    "    }\n",
    ").select_columns([\"text_chunk\", \"question\", \"label\"])"
   ]
  },
  {
   "cell_type": "code",
   "execution_count": 27,
   "id": "c61bdf35-93fa-4576-9704-432f911e20ab",
   "metadata": {},
   "outputs": [],
   "source": [
    "full_training_data = concatenate_datasets(\n",
    "    [ds_qas_similar, ds_qas_dissimilar]\n",
    ")"
   ]
  },
  {
   "cell_type": "code",
   "execution_count": 31,
   "id": "442fb657-60de-4c7f-b8b5-a8292afd0de0",
   "metadata": {},
   "outputs": [
    {
     "data": {
      "text/plain": [
       "Dataset({\n",
       "    features: ['text_chunk', 'question', 'label'],\n",
       "    num_rows: 192\n",
       "})"
      ]
     },
     "execution_count": 31,
     "metadata": {},
     "output_type": "execute_result"
    }
   ],
   "source": [
    "# the dataset format is (sentenceA, sentenceB, cosinesimilarity)\n",
    "full_training_data"
   ]
  },
  {
   "cell_type": "code",
   "execution_count": 34,
   "id": "013f9606-6d00-4b91-8f0a-47606573bdf6",
   "metadata": {},
   "outputs": [
    {
     "name": "stderr",
     "output_type": "stream",
     "text": [
      "Column 'question' is at index 1, whereas a column with this name is usually expected at index 0. Note that the column order can be important for some losses, e.g. MultipleNegativesRankingLoss will always consider the first column as the anchor and the second as the positive, regardless of the dataset column names. Consider renaming the columns to match the expected order, e.g.:\n",
      "dataset = dataset.select_columns(['question', 'answer'])\n"
     ]
    },
    {
     "data": {
      "text/html": [
       "\n",
       "    <div>\n",
       "      \n",
       "      <progress value='50' max='50' style='width:300px; height:20px; vertical-align: middle;'></progress>\n",
       "      [50/50 00:07, Epoch 5/5]\n",
       "    </div>\n",
       "    <table border=\"1\" class=\"dataframe\">\n",
       "  <thead>\n",
       " <tr style=\"text-align: left;\">\n",
       "      <th>Epoch</th>\n",
       "      <th>Training Loss</th>\n",
       "      <th>Validation Loss</th>\n",
       "    </tr>\n",
       "  </thead>\n",
       "  <tbody>\n",
       "    <tr>\n",
       "      <td>1</td>\n",
       "      <td>0.103300</td>\n",
       "      <td>0.008872</td>\n",
       "    </tr>\n",
       "    <tr>\n",
       "      <td>2</td>\n",
       "      <td>0.060100</td>\n",
       "      <td>0.019357</td>\n",
       "    </tr>\n",
       "    <tr>\n",
       "      <td>3</td>\n",
       "      <td>0.041500</td>\n",
       "      <td>0.021867</td>\n",
       "    </tr>\n",
       "    <tr>\n",
       "      <td>4</td>\n",
       "      <td>0.034000</td>\n",
       "      <td>0.020888</td>\n",
       "    </tr>\n",
       "    <tr>\n",
       "      <td>5</td>\n",
       "      <td>0.031700</td>\n",
       "      <td>0.019719</td>\n",
       "    </tr>\n",
       "  </tbody>\n",
       "</table><p>"
      ],
      "text/plain": [
       "<IPython.core.display.HTML object>"
      ]
     },
     "metadata": {},
     "output_type": "display_data"
    },
    {
     "data": {
      "application/vnd.jupyter.widget-view+json": {
       "model_id": "",
       "version_major": 2,
       "version_minor": 0
      },
      "text/plain": [
       "Computing widget examples:   0%|          | 0/1 [00:00<?, ?example/s]"
      ]
     },
     "metadata": {},
     "output_type": "display_data"
    },
    {
     "data": {
      "text/plain": [
       "TrainOutput(global_step=50, training_loss=0.05413608491420746, metrics={'train_runtime': 8.4541, 'train_samples_per_second': 90.489, 'train_steps_per_second': 5.914, 'total_flos': 0.0, 'train_loss': 0.05413608491420746, 'epoch': 5.0})"
      ]
     },
     "execution_count": 34,
     "metadata": {},
     "output_type": "execute_result"
    }
   ],
   "source": [
    "# Define a loss function\n",
    "loss = CosineSimilarityLoss(model)\n",
    "\n",
    "ratio_eval = 0.2\n",
    "num_examples_train = int(full_training_data.num_rows * (1 - ratio_eval))\n",
    "\n",
    "# Specify training arguments\n",
    "args = SentenceTransformerTrainingArguments(\n",
    "    # Required parameter:\n",
    "    output_dir=\"models/test\",\n",
    "    # Optional training parameters:\n",
    "    num_train_epochs=5,\n",
    "    per_device_train_batch_size=16,\n",
    "    per_device_eval_batch_size=16,\n",
    "    learning_rate=2e-5,\n",
    "    warmup_ratio=0.1,\n",
    "    logging_strategy=\"epoch\",\n",
    "    eval_strategy=\"epoch\",\n",
    ")\n",
    "\n",
    "# Create a trainer & train\n",
    "trainer = SentenceTransformerTrainer(\n",
    "    model=model,\n",
    "    args=args,\n",
    "    train_dataset=full_training_data.select(\n",
    "        range(num_examples_train)\n",
    "    ),\n",
    "    eval_dataset=full_training_data.select(\n",
    "        range(num_examples_train, full_training_data.num_rows)\n",
    "    ),\n",
    "    loss=loss,\n",
    ")\n",
    "trainer.train()\n"
   ]
  },
  {
   "cell_type": "code",
   "execution_count": null,
   "id": "e69231e5-9138-4d84-a4c1-3b3ddc64388c",
   "metadata": {},
   "outputs": [
    {
     "data": {
      "application/vnd.jupyter.widget-view+json": {
       "model_id": "",
       "version_major": 2,
       "version_minor": 0
      },
      "text/plain": [
       "Map:   0%|          | 0/271938 [00:00<?, ? examples/s]"
      ]
     },
     "metadata": {},
     "output_type": "display_data"
    }
   ],
   "source": [
    "# [Exercise] We could recompute embeddings on the corpus and reindex those, or simply \n",
    "# compute embeddings questions with the new model and 'hope' for better results. Feel\n",
    "# free to try both options!\n",
    "ds_corpus_new_embeddings = load_from_disk(\n",
    "    os.path.join(LOCAL_DATASET_FOLDER, CORPUS_DATASET_NAME)\n",
    ")\n",
    "\n",
    "ds_corpus_new_embeddings = ds_corpus_new_embeddings.map(\n",
    "    lambda element: {\"embedding\": retrieve_embedding_method(model, element[\"text_chunk\"])},\n",
    "    batched=True\n",
    ")"
   ]
  },
  {
   "cell_type": "code",
   "execution_count": 41,
   "id": "1adc7e0a-82a2-424c-a9cb-32f528e433a2",
   "metadata": {},
   "outputs": [],
   "source": [
    "all_vectors_w_new_embeddings = np.array(ds_corpus_new_embeddings[\"embedding\"])\n",
    "\n",
    "# Build index\n",
    "d = len(ds_corpus_new_embeddings[0][\"embedding\"])\n",
    "flat_index_w_new_embeddings = faiss.IndexFlatIP(d)\n",
    "flat_index_w_new_embeddings.add(all_vectors_w_new_embeddings)"
   ]
  },
  {
   "cell_type": "code",
   "execution_count": 42,
   "id": "4791d273-155f-41cf-83c9-ffca303665bd",
   "metadata": {},
   "outputs": [],
   "source": [
    "# Rerun map with updated model\n",
    "ds_qas_new_embeddings = load_from_disk(os.path.join(LOCAL_DATASET_FOLDER, QUESTIONS_DATASET_NAME))\n",
    "ds_qas_new_embeddings = ds_qas_new_embeddings.map(\n",
    "    lambda element: {\"embedding\": retrieve_embedding_method(model, element[\"question\"])},\n",
    "    batched=True\n",
    ")"
   ]
  },
  {
   "cell_type": "code",
   "execution_count": 43,
   "id": "c277cf88-6084-4786-a5bb-e8256799d076",
   "metadata": {},
   "outputs": [
    {
     "data": {
      "application/vnd.jupyter.widget-view+json": {
       "model_id": "0a0b3bed93cc4f7b8fdf2b021960241f",
       "version_major": 2,
       "version_minor": 0
      },
      "text/plain": [
       "Map:   0%|          | 0/94 [00:00<?, ? examples/s]"
      ]
     },
     "metadata": {},
     "output_type": "display_data"
    }
   ],
   "source": [
    "ds_qas_new_embeddings = ds_qas_new_embeddings.map(\n",
    "    lambda element: compare_chunk_retrieved_to_target(model, flat_index_w_new_embeddings, element)\n",
    ")"
   ]
  },
  {
   "cell_type": "code",
   "execution_count": 44,
   "id": "ec2cbf92-2f46-4ab8-bd4b-4c32e5d1d945",
   "metadata": {},
   "outputs": [
    {
     "name": "stdout",
     "output_type": "stream",
     "text": [
      "We retrieved the right document in 90 of 94 cases\n",
      "Accuracy top result: 0.96\n"
     ]
    }
   ],
   "source": [
    "accuracy_top_result = sum(ds_qas_new_embeddings['found_right_match']) / len(ds_qas_new_embeddings)\n",
    "print(f\"We retrieved the right document in {sum(ds_qas_new_embeddings['found_right_match'])} of {len(ds_qas_new_embeddings)} cases\")\n",
    "print(f\"Accuracy top result: {accuracy_top_result:.2f}\")"
   ]
  },
  {
   "cell_type": "code",
   "execution_count": null,
   "id": "9ae734b7-c138-4794-8086-69582f892f8a",
   "metadata": {},
   "outputs": [],
   "source": [
    "# We are doing much much better BUT most of the examples were used to train the fine tuned model...\n",
    "# We should iterate on a bigger dataset and a proper hold out group."
   ]
  }
 ],
 "metadata": {
  "kernelspec": {
   "display_name": "Python 3 (ipykernel)",
   "language": "python",
   "name": "python3"
  },
  "language_info": {
   "codemirror_mode": {
    "name": "ipython",
    "version": 3
   },
   "file_extension": ".py",
   "mimetype": "text/x-python",
   "name": "python",
   "nbconvert_exporter": "python",
   "pygments_lexer": "ipython3",
   "version": "3.10.1"
  }
 },
 "nbformat": 4,
 "nbformat_minor": 5
}
